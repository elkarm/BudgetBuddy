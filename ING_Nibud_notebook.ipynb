{
  "nbformat": 4,
  "nbformat_minor": 0,
  "metadata": {
    "colab": {
      "provenance": [],
      "include_colab_link": true
    },
    "kernelspec": {
      "name": "python3",
      "display_name": "Python 3"
    },
    "language_info": {
      "name": "python"
    }
  },
  "cells": [
    {
      "cell_type": "markdown",
      "metadata": {
        "id": "view-in-github",
        "colab_type": "text"
      },
      "source": [
        "<a href=\"https://colab.research.google.com/github/CarlosVaquero/BudgetBuddy/blob/main/ING_Nibud_notebook.ipynb\" target=\"_parent\"><img src=\"https://colab.research.google.com/assets/colab-badge.svg\" alt=\"Open In Colab\"/></a>"
      ]
    },
    {
      "cell_type": "code",
      "source": [
        "!git clone https://github.com/CarlosVaquero/BudgetBuddy/"
      ],
      "metadata": {
        "colab": {
          "base_uri": "https://localhost:8080/"
        },
        "id": "UQXHf5Z0tMQQ",
        "outputId": "0794d4f1-c69d-4bb4-93fb-ac8239ab8cb1"
      },
      "execution_count": 3,
      "outputs": [
        {
          "output_type": "stream",
          "name": "stdout",
          "text": [
            "Cloning into 'BudgetBuddy'...\n",
            "remote: Enumerating objects: 948, done.\u001b[K\n",
            "remote: Counting objects: 100% (948/948), done.\u001b[K\n",
            "remote: Compressing objects: 100% (880/880), done.\u001b[K\n",
            "remote: Total 948 (delta 82), reused 919 (delta 65), pack-reused 0 (from 0)\u001b[K\n",
            "Receiving objects: 100% (948/948), 3.44 MiB | 8.71 MiB/s, done.\n",
            "Resolving deltas: 100% (82/82), done.\n"
          ]
        }
      ]
    },
    {
      "cell_type": "code",
      "source": [
        "!pip install langchain_community\n",
        "!pip install langchain-google-genai\n",
        "!pip install langchain-chroma\n",
        "!pip install faiss-cpu\n",
        "!pip install -U langgraph\n",
        "!pip install html2text"
      ],
      "metadata": {
        "colab": {
          "base_uri": "https://localhost:8080/",
          "height": 1000
        },
        "id": "g93rtQXft0er",
        "outputId": "d9f249b2-8c81-472c-9fd8-ea0a9a3b038d",
        "collapsed": true
      },
      "execution_count": 4,
      "outputs": [
        {
          "output_type": "stream",
          "name": "stdout",
          "text": [
            "Collecting langchain_community\n",
            "  Downloading langchain_community-0.3.20-py3-none-any.whl.metadata (2.4 kB)\n",
            "Requirement already satisfied: langchain-core<1.0.0,>=0.3.45 in /usr/local/lib/python3.11/dist-packages (from langchain_community) (0.3.49)\n",
            "Requirement already satisfied: langchain<1.0.0,>=0.3.21 in /usr/local/lib/python3.11/dist-packages (from langchain_community) (0.3.21)\n",
            "Requirement already satisfied: SQLAlchemy<3,>=1.4 in /usr/local/lib/python3.11/dist-packages (from langchain_community) (2.0.40)\n",
            "Requirement already satisfied: requests<3,>=2 in /usr/local/lib/python3.11/dist-packages (from langchain_community) (2.32.3)\n",
            "Requirement already satisfied: PyYAML>=5.3 in /usr/local/lib/python3.11/dist-packages (from langchain_community) (6.0.2)\n",
            "Requirement already satisfied: aiohttp<4.0.0,>=3.8.3 in /usr/local/lib/python3.11/dist-packages (from langchain_community) (3.11.14)\n",
            "Requirement already satisfied: tenacity!=8.4.0,<10,>=8.1.0 in /usr/local/lib/python3.11/dist-packages (from langchain_community) (9.0.0)\n",
            "Collecting dataclasses-json<0.7,>=0.5.7 (from langchain_community)\n",
            "  Downloading dataclasses_json-0.6.7-py3-none-any.whl.metadata (25 kB)\n",
            "Collecting pydantic-settings<3.0.0,>=2.4.0 (from langchain_community)\n",
            "  Downloading pydantic_settings-2.8.1-py3-none-any.whl.metadata (3.5 kB)\n",
            "Requirement already satisfied: langsmith<0.4,>=0.1.125 in /usr/local/lib/python3.11/dist-packages (from langchain_community) (0.3.19)\n",
            "Collecting httpx-sse<1.0.0,>=0.4.0 (from langchain_community)\n",
            "  Downloading httpx_sse-0.4.0-py3-none-any.whl.metadata (9.0 kB)\n",
            "Requirement already satisfied: numpy<3,>=1.26.2 in /usr/local/lib/python3.11/dist-packages (from langchain_community) (2.0.2)\n",
            "Requirement already satisfied: aiohappyeyeballs>=2.3.0 in /usr/local/lib/python3.11/dist-packages (from aiohttp<4.0.0,>=3.8.3->langchain_community) (2.6.1)\n",
            "Requirement already satisfied: aiosignal>=1.1.2 in /usr/local/lib/python3.11/dist-packages (from aiohttp<4.0.0,>=3.8.3->langchain_community) (1.3.2)\n",
            "Requirement already satisfied: attrs>=17.3.0 in /usr/local/lib/python3.11/dist-packages (from aiohttp<4.0.0,>=3.8.3->langchain_community) (25.3.0)\n",
            "Requirement already satisfied: frozenlist>=1.1.1 in /usr/local/lib/python3.11/dist-packages (from aiohttp<4.0.0,>=3.8.3->langchain_community) (1.5.0)\n",
            "Requirement already satisfied: multidict<7.0,>=4.5 in /usr/local/lib/python3.11/dist-packages (from aiohttp<4.0.0,>=3.8.3->langchain_community) (6.2.0)\n",
            "Requirement already satisfied: propcache>=0.2.0 in /usr/local/lib/python3.11/dist-packages (from aiohttp<4.0.0,>=3.8.3->langchain_community) (0.3.1)\n",
            "Requirement already satisfied: yarl<2.0,>=1.17.0 in /usr/local/lib/python3.11/dist-packages (from aiohttp<4.0.0,>=3.8.3->langchain_community) (1.18.3)\n",
            "Collecting marshmallow<4.0.0,>=3.18.0 (from dataclasses-json<0.7,>=0.5.7->langchain_community)\n",
            "  Downloading marshmallow-3.26.1-py3-none-any.whl.metadata (7.3 kB)\n",
            "Collecting typing-inspect<1,>=0.4.0 (from dataclasses-json<0.7,>=0.5.7->langchain_community)\n",
            "  Downloading typing_inspect-0.9.0-py3-none-any.whl.metadata (1.5 kB)\n",
            "Requirement already satisfied: langchain-text-splitters<1.0.0,>=0.3.7 in /usr/local/lib/python3.11/dist-packages (from langchain<1.0.0,>=0.3.21->langchain_community) (0.3.7)\n",
            "Requirement already satisfied: pydantic<3.0.0,>=2.7.4 in /usr/local/lib/python3.11/dist-packages (from langchain<1.0.0,>=0.3.21->langchain_community) (2.11.0)\n",
            "Requirement already satisfied: jsonpatch<2.0,>=1.33 in /usr/local/lib/python3.11/dist-packages (from langchain-core<1.0.0,>=0.3.45->langchain_community) (1.33)\n",
            "Requirement already satisfied: packaging<25,>=23.2 in /usr/local/lib/python3.11/dist-packages (from langchain-core<1.0.0,>=0.3.45->langchain_community) (24.2)\n",
            "Requirement already satisfied: typing-extensions>=4.7 in /usr/local/lib/python3.11/dist-packages (from langchain-core<1.0.0,>=0.3.45->langchain_community) (4.13.0)\n",
            "Requirement already satisfied: httpx<1,>=0.23.0 in /usr/local/lib/python3.11/dist-packages (from langsmith<0.4,>=0.1.125->langchain_community) (0.28.1)\n",
            "Requirement already satisfied: orjson<4.0.0,>=3.9.14 in /usr/local/lib/python3.11/dist-packages (from langsmith<0.4,>=0.1.125->langchain_community) (3.10.16)\n",
            "Requirement already satisfied: requests-toolbelt<2.0.0,>=1.0.0 in /usr/local/lib/python3.11/dist-packages (from langsmith<0.4,>=0.1.125->langchain_community) (1.0.0)\n",
            "Requirement already satisfied: zstandard<0.24.0,>=0.23.0 in /usr/local/lib/python3.11/dist-packages (from langsmith<0.4,>=0.1.125->langchain_community) (0.23.0)\n",
            "Collecting python-dotenv>=0.21.0 (from pydantic-settings<3.0.0,>=2.4.0->langchain_community)\n",
            "  Downloading python_dotenv-1.1.0-py3-none-any.whl.metadata (24 kB)\n",
            "Requirement already satisfied: charset-normalizer<4,>=2 in /usr/local/lib/python3.11/dist-packages (from requests<3,>=2->langchain_community) (3.4.1)\n",
            "Requirement already satisfied: idna<4,>=2.5 in /usr/local/lib/python3.11/dist-packages (from requests<3,>=2->langchain_community) (3.10)\n",
            "Requirement already satisfied: urllib3<3,>=1.21.1 in /usr/local/lib/python3.11/dist-packages (from requests<3,>=2->langchain_community) (2.3.0)\n",
            "Requirement already satisfied: certifi>=2017.4.17 in /usr/local/lib/python3.11/dist-packages (from requests<3,>=2->langchain_community) (2025.1.31)\n",
            "Requirement already satisfied: greenlet>=1 in /usr/local/lib/python3.11/dist-packages (from SQLAlchemy<3,>=1.4->langchain_community) (3.1.1)\n",
            "Requirement already satisfied: anyio in /usr/local/lib/python3.11/dist-packages (from httpx<1,>=0.23.0->langsmith<0.4,>=0.1.125->langchain_community) (4.9.0)\n",
            "Requirement already satisfied: httpcore==1.* in /usr/local/lib/python3.11/dist-packages (from httpx<1,>=0.23.0->langsmith<0.4,>=0.1.125->langchain_community) (1.0.7)\n",
            "Requirement already satisfied: h11<0.15,>=0.13 in /usr/local/lib/python3.11/dist-packages (from httpcore==1.*->httpx<1,>=0.23.0->langsmith<0.4,>=0.1.125->langchain_community) (0.14.0)\n",
            "Requirement already satisfied: jsonpointer>=1.9 in /usr/local/lib/python3.11/dist-packages (from jsonpatch<2.0,>=1.33->langchain-core<1.0.0,>=0.3.45->langchain_community) (3.0.0)\n",
            "Requirement already satisfied: annotated-types>=0.6.0 in /usr/local/lib/python3.11/dist-packages (from pydantic<3.0.0,>=2.7.4->langchain<1.0.0,>=0.3.21->langchain_community) (0.7.0)\n",
            "Requirement already satisfied: pydantic-core==2.33.0 in /usr/local/lib/python3.11/dist-packages (from pydantic<3.0.0,>=2.7.4->langchain<1.0.0,>=0.3.21->langchain_community) (2.33.0)\n",
            "Requirement already satisfied: typing-inspection>=0.4.0 in /usr/local/lib/python3.11/dist-packages (from pydantic<3.0.0,>=2.7.4->langchain<1.0.0,>=0.3.21->langchain_community) (0.4.0)\n",
            "Collecting mypy-extensions>=0.3.0 (from typing-inspect<1,>=0.4.0->dataclasses-json<0.7,>=0.5.7->langchain_community)\n",
            "  Downloading mypy_extensions-1.0.0-py3-none-any.whl.metadata (1.1 kB)\n",
            "Requirement already satisfied: sniffio>=1.1 in /usr/local/lib/python3.11/dist-packages (from anyio->httpx<1,>=0.23.0->langsmith<0.4,>=0.1.125->langchain_community) (1.3.1)\n",
            "Downloading langchain_community-0.3.20-py3-none-any.whl (2.5 MB)\n",
            "\u001b[2K   \u001b[90m━━━━━━━━━━━━━━━━━━━━━━━━━━━━━━━━━━━━━━━━\u001b[0m \u001b[32m2.5/2.5 MB\u001b[0m \u001b[31m39.7 MB/s\u001b[0m eta \u001b[36m0:00:00\u001b[0m\n",
            "\u001b[?25hDownloading dataclasses_json-0.6.7-py3-none-any.whl (28 kB)\n",
            "Downloading httpx_sse-0.4.0-py3-none-any.whl (7.8 kB)\n",
            "Downloading pydantic_settings-2.8.1-py3-none-any.whl (30 kB)\n",
            "Downloading marshmallow-3.26.1-py3-none-any.whl (50 kB)\n",
            "\u001b[2K   \u001b[90m━━━━━━━━━━━━━━━━━━━━━━━━━━━━━━━━━━━━━━━━\u001b[0m \u001b[32m50.9/50.9 kB\u001b[0m \u001b[31m3.0 MB/s\u001b[0m eta \u001b[36m0:00:00\u001b[0m\n",
            "\u001b[?25hDownloading python_dotenv-1.1.0-py3-none-any.whl (20 kB)\n",
            "Downloading typing_inspect-0.9.0-py3-none-any.whl (8.8 kB)\n",
            "Downloading mypy_extensions-1.0.0-py3-none-any.whl (4.7 kB)\n",
            "Installing collected packages: python-dotenv, mypy-extensions, marshmallow, httpx-sse, typing-inspect, pydantic-settings, dataclasses-json, langchain_community\n",
            "Successfully installed dataclasses-json-0.6.7 httpx-sse-0.4.0 langchain_community-0.3.20 marshmallow-3.26.1 mypy-extensions-1.0.0 pydantic-settings-2.8.1 python-dotenv-1.1.0 typing-inspect-0.9.0\n",
            "Collecting langchain-google-genai\n",
            "  Downloading langchain_google_genai-2.1.2-py3-none-any.whl.metadata (4.7 kB)\n",
            "Collecting filetype<2.0.0,>=1.2.0 (from langchain-google-genai)\n",
            "  Downloading filetype-1.2.0-py2.py3-none-any.whl.metadata (6.5 kB)\n",
            "Collecting google-ai-generativelanguage<0.7.0,>=0.6.16 (from langchain-google-genai)\n",
            "  Downloading google_ai_generativelanguage-0.6.17-py3-none-any.whl.metadata (9.8 kB)\n",
            "Requirement already satisfied: langchain-core<0.4.0,>=0.3.49 in /usr/local/lib/python3.11/dist-packages (from langchain-google-genai) (0.3.49)\n",
            "Requirement already satisfied: pydantic<3,>=2 in /usr/local/lib/python3.11/dist-packages (from langchain-google-genai) (2.11.0)\n",
            "Requirement already satisfied: google-api-core!=2.0.*,!=2.1.*,!=2.10.*,!=2.2.*,!=2.3.*,!=2.4.*,!=2.5.*,!=2.6.*,!=2.7.*,!=2.8.*,!=2.9.*,<3.0.0,>=1.34.1 in /usr/local/lib/python3.11/dist-packages (from google-api-core[grpc]!=2.0.*,!=2.1.*,!=2.10.*,!=2.2.*,!=2.3.*,!=2.4.*,!=2.5.*,!=2.6.*,!=2.7.*,!=2.8.*,!=2.9.*,<3.0.0,>=1.34.1->google-ai-generativelanguage<0.7.0,>=0.6.16->langchain-google-genai) (2.24.2)\n",
            "Requirement already satisfied: google-auth!=2.24.0,!=2.25.0,<3.0.0,>=2.14.1 in /usr/local/lib/python3.11/dist-packages (from google-ai-generativelanguage<0.7.0,>=0.6.16->langchain-google-genai) (2.38.0)\n",
            "Requirement already satisfied: proto-plus<2.0.0,>=1.22.3 in /usr/local/lib/python3.11/dist-packages (from google-ai-generativelanguage<0.7.0,>=0.6.16->langchain-google-genai) (1.26.1)\n",
            "Requirement already satisfied: protobuf!=4.21.0,!=4.21.1,!=4.21.2,!=4.21.3,!=4.21.4,!=4.21.5,<7.0.0,>=3.20.2 in /usr/local/lib/python3.11/dist-packages (from google-ai-generativelanguage<0.7.0,>=0.6.16->langchain-google-genai) (5.29.4)\n",
            "Requirement already satisfied: langsmith<0.4,>=0.1.125 in /usr/local/lib/python3.11/dist-packages (from langchain-core<0.4.0,>=0.3.49->langchain-google-genai) (0.3.19)\n",
            "Requirement already satisfied: tenacity!=8.4.0,<10.0.0,>=8.1.0 in /usr/local/lib/python3.11/dist-packages (from langchain-core<0.4.0,>=0.3.49->langchain-google-genai) (9.0.0)\n",
            "Requirement already satisfied: jsonpatch<2.0,>=1.33 in /usr/local/lib/python3.11/dist-packages (from langchain-core<0.4.0,>=0.3.49->langchain-google-genai) (1.33)\n",
            "Requirement already satisfied: PyYAML>=5.3 in /usr/local/lib/python3.11/dist-packages (from langchain-core<0.4.0,>=0.3.49->langchain-google-genai) (6.0.2)\n",
            "Requirement already satisfied: packaging<25,>=23.2 in /usr/local/lib/python3.11/dist-packages (from langchain-core<0.4.0,>=0.3.49->langchain-google-genai) (24.2)\n",
            "Requirement already satisfied: typing-extensions>=4.7 in /usr/local/lib/python3.11/dist-packages (from langchain-core<0.4.0,>=0.3.49->langchain-google-genai) (4.13.0)\n",
            "Requirement already satisfied: annotated-types>=0.6.0 in /usr/local/lib/python3.11/dist-packages (from pydantic<3,>=2->langchain-google-genai) (0.7.0)\n",
            "Requirement already satisfied: pydantic-core==2.33.0 in /usr/local/lib/python3.11/dist-packages (from pydantic<3,>=2->langchain-google-genai) (2.33.0)\n",
            "Requirement already satisfied: typing-inspection>=0.4.0 in /usr/local/lib/python3.11/dist-packages (from pydantic<3,>=2->langchain-google-genai) (0.4.0)\n",
            "Requirement already satisfied: googleapis-common-protos<2.0.0,>=1.56.2 in /usr/local/lib/python3.11/dist-packages (from google-api-core!=2.0.*,!=2.1.*,!=2.10.*,!=2.2.*,!=2.3.*,!=2.4.*,!=2.5.*,!=2.6.*,!=2.7.*,!=2.8.*,!=2.9.*,<3.0.0,>=1.34.1->google-api-core[grpc]!=2.0.*,!=2.1.*,!=2.10.*,!=2.2.*,!=2.3.*,!=2.4.*,!=2.5.*,!=2.6.*,!=2.7.*,!=2.8.*,!=2.9.*,<3.0.0,>=1.34.1->google-ai-generativelanguage<0.7.0,>=0.6.16->langchain-google-genai) (1.69.2)\n",
            "Requirement already satisfied: requests<3.0.0,>=2.18.0 in /usr/local/lib/python3.11/dist-packages (from google-api-core!=2.0.*,!=2.1.*,!=2.10.*,!=2.2.*,!=2.3.*,!=2.4.*,!=2.5.*,!=2.6.*,!=2.7.*,!=2.8.*,!=2.9.*,<3.0.0,>=1.34.1->google-api-core[grpc]!=2.0.*,!=2.1.*,!=2.10.*,!=2.2.*,!=2.3.*,!=2.4.*,!=2.5.*,!=2.6.*,!=2.7.*,!=2.8.*,!=2.9.*,<3.0.0,>=1.34.1->google-ai-generativelanguage<0.7.0,>=0.6.16->langchain-google-genai) (2.32.3)\n",
            "Requirement already satisfied: grpcio<2.0dev,>=1.33.2 in /usr/local/lib/python3.11/dist-packages (from google-api-core[grpc]!=2.0.*,!=2.1.*,!=2.10.*,!=2.2.*,!=2.3.*,!=2.4.*,!=2.5.*,!=2.6.*,!=2.7.*,!=2.8.*,!=2.9.*,<3.0.0,>=1.34.1->google-ai-generativelanguage<0.7.0,>=0.6.16->langchain-google-genai) (1.71.0)\n",
            "Requirement already satisfied: grpcio-status<2.0.dev0,>=1.33.2 in /usr/local/lib/python3.11/dist-packages (from google-api-core[grpc]!=2.0.*,!=2.1.*,!=2.10.*,!=2.2.*,!=2.3.*,!=2.4.*,!=2.5.*,!=2.6.*,!=2.7.*,!=2.8.*,!=2.9.*,<3.0.0,>=1.34.1->google-ai-generativelanguage<0.7.0,>=0.6.16->langchain-google-genai) (1.71.0)\n",
            "Requirement already satisfied: cachetools<6.0,>=2.0.0 in /usr/local/lib/python3.11/dist-packages (from google-auth!=2.24.0,!=2.25.0,<3.0.0,>=2.14.1->google-ai-generativelanguage<0.7.0,>=0.6.16->langchain-google-genai) (5.5.2)\n",
            "Requirement already satisfied: pyasn1-modules>=0.2.1 in /usr/local/lib/python3.11/dist-packages (from google-auth!=2.24.0,!=2.25.0,<3.0.0,>=2.14.1->google-ai-generativelanguage<0.7.0,>=0.6.16->langchain-google-genai) (0.4.2)\n",
            "Requirement already satisfied: rsa<5,>=3.1.4 in /usr/local/lib/python3.11/dist-packages (from google-auth!=2.24.0,!=2.25.0,<3.0.0,>=2.14.1->google-ai-generativelanguage<0.7.0,>=0.6.16->langchain-google-genai) (4.9)\n",
            "Requirement already satisfied: jsonpointer>=1.9 in /usr/local/lib/python3.11/dist-packages (from jsonpatch<2.0,>=1.33->langchain-core<0.4.0,>=0.3.49->langchain-google-genai) (3.0.0)\n",
            "Requirement already satisfied: httpx<1,>=0.23.0 in /usr/local/lib/python3.11/dist-packages (from langsmith<0.4,>=0.1.125->langchain-core<0.4.0,>=0.3.49->langchain-google-genai) (0.28.1)\n",
            "Requirement already satisfied: orjson<4.0.0,>=3.9.14 in /usr/local/lib/python3.11/dist-packages (from langsmith<0.4,>=0.1.125->langchain-core<0.4.0,>=0.3.49->langchain-google-genai) (3.10.16)\n",
            "Requirement already satisfied: requests-toolbelt<2.0.0,>=1.0.0 in /usr/local/lib/python3.11/dist-packages (from langsmith<0.4,>=0.1.125->langchain-core<0.4.0,>=0.3.49->langchain-google-genai) (1.0.0)\n",
            "Requirement already satisfied: zstandard<0.24.0,>=0.23.0 in /usr/local/lib/python3.11/dist-packages (from langsmith<0.4,>=0.1.125->langchain-core<0.4.0,>=0.3.49->langchain-google-genai) (0.23.0)\n",
            "Requirement already satisfied: anyio in /usr/local/lib/python3.11/dist-packages (from httpx<1,>=0.23.0->langsmith<0.4,>=0.1.125->langchain-core<0.4.0,>=0.3.49->langchain-google-genai) (4.9.0)\n",
            "Requirement already satisfied: certifi in /usr/local/lib/python3.11/dist-packages (from httpx<1,>=0.23.0->langsmith<0.4,>=0.1.125->langchain-core<0.4.0,>=0.3.49->langchain-google-genai) (2025.1.31)\n",
            "Requirement already satisfied: httpcore==1.* in /usr/local/lib/python3.11/dist-packages (from httpx<1,>=0.23.0->langsmith<0.4,>=0.1.125->langchain-core<0.4.0,>=0.3.49->langchain-google-genai) (1.0.7)\n",
            "Requirement already satisfied: idna in /usr/local/lib/python3.11/dist-packages (from httpx<1,>=0.23.0->langsmith<0.4,>=0.1.125->langchain-core<0.4.0,>=0.3.49->langchain-google-genai) (3.10)\n",
            "Requirement already satisfied: h11<0.15,>=0.13 in /usr/local/lib/python3.11/dist-packages (from httpcore==1.*->httpx<1,>=0.23.0->langsmith<0.4,>=0.1.125->langchain-core<0.4.0,>=0.3.49->langchain-google-genai) (0.14.0)\n",
            "Requirement already satisfied: pyasn1<0.7.0,>=0.6.1 in /usr/local/lib/python3.11/dist-packages (from pyasn1-modules>=0.2.1->google-auth!=2.24.0,!=2.25.0,<3.0.0,>=2.14.1->google-ai-generativelanguage<0.7.0,>=0.6.16->langchain-google-genai) (0.6.1)\n",
            "Requirement already satisfied: charset-normalizer<4,>=2 in /usr/local/lib/python3.11/dist-packages (from requests<3.0.0,>=2.18.0->google-api-core!=2.0.*,!=2.1.*,!=2.10.*,!=2.2.*,!=2.3.*,!=2.4.*,!=2.5.*,!=2.6.*,!=2.7.*,!=2.8.*,!=2.9.*,<3.0.0,>=1.34.1->google-api-core[grpc]!=2.0.*,!=2.1.*,!=2.10.*,!=2.2.*,!=2.3.*,!=2.4.*,!=2.5.*,!=2.6.*,!=2.7.*,!=2.8.*,!=2.9.*,<3.0.0,>=1.34.1->google-ai-generativelanguage<0.7.0,>=0.6.16->langchain-google-genai) (3.4.1)\n",
            "Requirement already satisfied: urllib3<3,>=1.21.1 in /usr/local/lib/python3.11/dist-packages (from requests<3.0.0,>=2.18.0->google-api-core!=2.0.*,!=2.1.*,!=2.10.*,!=2.2.*,!=2.3.*,!=2.4.*,!=2.5.*,!=2.6.*,!=2.7.*,!=2.8.*,!=2.9.*,<3.0.0,>=1.34.1->google-api-core[grpc]!=2.0.*,!=2.1.*,!=2.10.*,!=2.2.*,!=2.3.*,!=2.4.*,!=2.5.*,!=2.6.*,!=2.7.*,!=2.8.*,!=2.9.*,<3.0.0,>=1.34.1->google-ai-generativelanguage<0.7.0,>=0.6.16->langchain-google-genai) (2.3.0)\n",
            "Requirement already satisfied: sniffio>=1.1 in /usr/local/lib/python3.11/dist-packages (from anyio->httpx<1,>=0.23.0->langsmith<0.4,>=0.1.125->langchain-core<0.4.0,>=0.3.49->langchain-google-genai) (1.3.1)\n",
            "Downloading langchain_google_genai-2.1.2-py3-none-any.whl (42 kB)\n",
            "\u001b[2K   \u001b[90m━━━━━━━━━━━━━━━━━━━━━━━━━━━━━━━━━━━━━━━━\u001b[0m \u001b[32m42.0/42.0 kB\u001b[0m \u001b[31m2.6 MB/s\u001b[0m eta \u001b[36m0:00:00\u001b[0m\n",
            "\u001b[?25hDownloading filetype-1.2.0-py2.py3-none-any.whl (19 kB)\n",
            "Downloading google_ai_generativelanguage-0.6.17-py3-none-any.whl (1.4 MB)\n",
            "\u001b[2K   \u001b[90m━━━━━━━━━━━━━━━━━━━━━━━━━━━━━━━━━━━━━━━━\u001b[0m \u001b[32m1.4/1.4 MB\u001b[0m \u001b[31m41.6 MB/s\u001b[0m eta \u001b[36m0:00:00\u001b[0m\n",
            "\u001b[?25hInstalling collected packages: filetype, google-ai-generativelanguage, langchain-google-genai\n",
            "  Attempting uninstall: google-ai-generativelanguage\n",
            "    Found existing installation: google-ai-generativelanguage 0.6.15\n",
            "    Uninstalling google-ai-generativelanguage-0.6.15:\n",
            "      Successfully uninstalled google-ai-generativelanguage-0.6.15\n",
            "\u001b[31mERROR: pip's dependency resolver does not currently take into account all the packages that are installed. This behaviour is the source of the following dependency conflicts.\n",
            "google-generativeai 0.8.4 requires google-ai-generativelanguage==0.6.15, but you have google-ai-generativelanguage 0.6.17 which is incompatible.\u001b[0m\u001b[31m\n",
            "\u001b[0mSuccessfully installed filetype-1.2.0 google-ai-generativelanguage-0.6.17 langchain-google-genai-2.1.2\n"
          ]
        },
        {
          "output_type": "display_data",
          "data": {
            "application/vnd.colab-display-data+json": {
              "pip_warning": {
                "packages": [
                  "google"
                ]
              },
              "id": "cb29ea857b5f4956a7c98e569a53ef7a"
            }
          },
          "metadata": {}
        },
        {
          "output_type": "stream",
          "name": "stdout",
          "text": [
            "Collecting langchain-chroma\n",
            "  Downloading langchain_chroma-0.2.2-py3-none-any.whl.metadata (1.3 kB)\n",
            "Requirement already satisfied: langchain-core!=0.3.0,!=0.3.1,!=0.3.10,!=0.3.11,!=0.3.12,!=0.3.13,!=0.3.14,!=0.3.2,!=0.3.3,!=0.3.4,!=0.3.5,!=0.3.6,!=0.3.7,!=0.3.8,!=0.3.9,<0.4.0,>=0.2.43 in /usr/local/lib/python3.11/dist-packages (from langchain-chroma) (0.3.49)\n",
            "Collecting numpy<2.0.0,>=1.22.4 (from langchain-chroma)\n",
            "  Downloading numpy-1.26.4-cp311-cp311-manylinux_2_17_x86_64.manylinux2014_x86_64.whl.metadata (61 kB)\n",
            "\u001b[2K     \u001b[90m━━━━━━━━━━━━━━━━━━━━━━━━━━━━━━━━━━━━━━━━\u001b[0m \u001b[32m61.0/61.0 kB\u001b[0m \u001b[31m4.1 MB/s\u001b[0m eta \u001b[36m0:00:00\u001b[0m\n",
            "\u001b[?25hCollecting chromadb!=0.5.10,!=0.5.11,!=0.5.12,!=0.5.4,!=0.5.5,!=0.5.7,!=0.5.9,<0.7.0,>=0.4.0 (from langchain-chroma)\n",
            "  Downloading chromadb-0.6.3-py3-none-any.whl.metadata (6.8 kB)\n",
            "Collecting build>=1.0.3 (from chromadb!=0.5.10,!=0.5.11,!=0.5.12,!=0.5.4,!=0.5.5,!=0.5.7,!=0.5.9,<0.7.0,>=0.4.0->langchain-chroma)\n",
            "  Downloading build-1.2.2.post1-py3-none-any.whl.metadata (6.5 kB)\n",
            "Requirement already satisfied: pydantic>=1.9 in /usr/local/lib/python3.11/dist-packages (from chromadb!=0.5.10,!=0.5.11,!=0.5.12,!=0.5.4,!=0.5.5,!=0.5.7,!=0.5.9,<0.7.0,>=0.4.0->langchain-chroma) (2.11.0)\n",
            "Collecting chroma-hnswlib==0.7.6 (from chromadb!=0.5.10,!=0.5.11,!=0.5.12,!=0.5.4,!=0.5.5,!=0.5.7,!=0.5.9,<0.7.0,>=0.4.0->langchain-chroma)\n",
            "  Downloading chroma_hnswlib-0.7.6-cp311-cp311-manylinux_2_17_x86_64.manylinux2014_x86_64.whl.metadata (252 bytes)\n",
            "Collecting fastapi>=0.95.2 (from chromadb!=0.5.10,!=0.5.11,!=0.5.12,!=0.5.4,!=0.5.5,!=0.5.7,!=0.5.9,<0.7.0,>=0.4.0->langchain-chroma)\n",
            "  Downloading fastapi-0.115.12-py3-none-any.whl.metadata (27 kB)\n",
            "Collecting uvicorn>=0.18.3 (from uvicorn[standard]>=0.18.3->chromadb!=0.5.10,!=0.5.11,!=0.5.12,!=0.5.4,!=0.5.5,!=0.5.7,!=0.5.9,<0.7.0,>=0.4.0->langchain-chroma)\n",
            "  Downloading uvicorn-0.34.0-py3-none-any.whl.metadata (6.5 kB)\n",
            "Collecting posthog>=2.4.0 (from chromadb!=0.5.10,!=0.5.11,!=0.5.12,!=0.5.4,!=0.5.5,!=0.5.7,!=0.5.9,<0.7.0,>=0.4.0->langchain-chroma)\n",
            "  Downloading posthog-3.23.0-py2.py3-none-any.whl.metadata (3.0 kB)\n",
            "Requirement already satisfied: typing_extensions>=4.5.0 in /usr/local/lib/python3.11/dist-packages (from chromadb!=0.5.10,!=0.5.11,!=0.5.12,!=0.5.4,!=0.5.5,!=0.5.7,!=0.5.9,<0.7.0,>=0.4.0->langchain-chroma) (4.13.0)\n",
            "Collecting onnxruntime>=1.14.1 (from chromadb!=0.5.10,!=0.5.11,!=0.5.12,!=0.5.4,!=0.5.5,!=0.5.7,!=0.5.9,<0.7.0,>=0.4.0->langchain-chroma)\n",
            "  Downloading onnxruntime-1.21.0-cp311-cp311-manylinux_2_27_x86_64.manylinux_2_28_x86_64.whl.metadata (4.5 kB)\n",
            "Requirement already satisfied: opentelemetry-api>=1.2.0 in /usr/local/lib/python3.11/dist-packages (from chromadb!=0.5.10,!=0.5.11,!=0.5.12,!=0.5.4,!=0.5.5,!=0.5.7,!=0.5.9,<0.7.0,>=0.4.0->langchain-chroma) (1.31.1)\n",
            "Collecting opentelemetry-exporter-otlp-proto-grpc>=1.2.0 (from chromadb!=0.5.10,!=0.5.11,!=0.5.12,!=0.5.4,!=0.5.5,!=0.5.7,!=0.5.9,<0.7.0,>=0.4.0->langchain-chroma)\n",
            "  Downloading opentelemetry_exporter_otlp_proto_grpc-1.31.1-py3-none-any.whl.metadata (2.5 kB)\n",
            "Collecting opentelemetry-instrumentation-fastapi>=0.41b0 (from chromadb!=0.5.10,!=0.5.11,!=0.5.12,!=0.5.4,!=0.5.5,!=0.5.7,!=0.5.9,<0.7.0,>=0.4.0->langchain-chroma)\n",
            "  Downloading opentelemetry_instrumentation_fastapi-0.52b1-py3-none-any.whl.metadata (2.2 kB)\n",
            "Requirement already satisfied: opentelemetry-sdk>=1.2.0 in /usr/local/lib/python3.11/dist-packages (from chromadb!=0.5.10,!=0.5.11,!=0.5.12,!=0.5.4,!=0.5.5,!=0.5.7,!=0.5.9,<0.7.0,>=0.4.0->langchain-chroma) (1.31.1)\n",
            "Requirement already satisfied: tokenizers>=0.13.2 in /usr/local/lib/python3.11/dist-packages (from chromadb!=0.5.10,!=0.5.11,!=0.5.12,!=0.5.4,!=0.5.5,!=0.5.7,!=0.5.9,<0.7.0,>=0.4.0->langchain-chroma) (0.21.1)\n",
            "Collecting pypika>=0.48.9 (from chromadb!=0.5.10,!=0.5.11,!=0.5.12,!=0.5.4,!=0.5.5,!=0.5.7,!=0.5.9,<0.7.0,>=0.4.0->langchain-chroma)\n",
            "  Downloading PyPika-0.48.9.tar.gz (67 kB)\n",
            "\u001b[2K     \u001b[90m━━━━━━━━━━━━━━━━━━━━━━━━━━━━━━━━━━━━━━━━\u001b[0m \u001b[32m67.3/67.3 kB\u001b[0m \u001b[31m4.1 MB/s\u001b[0m eta \u001b[36m0:00:00\u001b[0m\n",
            "\u001b[?25h  Installing build dependencies ... \u001b[?25l\u001b[?25hdone\n",
            "  Getting requirements to build wheel ... \u001b[?25l\u001b[?25hdone\n",
            "  Preparing metadata (pyproject.toml) ... \u001b[?25l\u001b[?25hdone\n",
            "Requirement already satisfied: tqdm>=4.65.0 in /usr/local/lib/python3.11/dist-packages (from chromadb!=0.5.10,!=0.5.11,!=0.5.12,!=0.5.4,!=0.5.5,!=0.5.7,!=0.5.9,<0.7.0,>=0.4.0->langchain-chroma) (4.67.1)\n",
            "Collecting overrides>=7.3.1 (from chromadb!=0.5.10,!=0.5.11,!=0.5.12,!=0.5.4,!=0.5.5,!=0.5.7,!=0.5.9,<0.7.0,>=0.4.0->langchain-chroma)\n",
            "  Downloading overrides-7.7.0-py3-none-any.whl.metadata (5.8 kB)\n",
            "Requirement already satisfied: importlib-resources in /usr/local/lib/python3.11/dist-packages (from chromadb!=0.5.10,!=0.5.11,!=0.5.12,!=0.5.4,!=0.5.5,!=0.5.7,!=0.5.9,<0.7.0,>=0.4.0->langchain-chroma) (6.5.2)\n",
            "Requirement already satisfied: grpcio>=1.58.0 in /usr/local/lib/python3.11/dist-packages (from chromadb!=0.5.10,!=0.5.11,!=0.5.12,!=0.5.4,!=0.5.5,!=0.5.7,!=0.5.9,<0.7.0,>=0.4.0->langchain-chroma) (1.71.0)\n",
            "Collecting bcrypt>=4.0.1 (from chromadb!=0.5.10,!=0.5.11,!=0.5.12,!=0.5.4,!=0.5.5,!=0.5.7,!=0.5.9,<0.7.0,>=0.4.0->langchain-chroma)\n",
            "  Downloading bcrypt-4.3.0-cp39-abi3-manylinux_2_34_x86_64.whl.metadata (10 kB)\n",
            "Requirement already satisfied: typer>=0.9.0 in /usr/local/lib/python3.11/dist-packages (from chromadb!=0.5.10,!=0.5.11,!=0.5.12,!=0.5.4,!=0.5.5,!=0.5.7,!=0.5.9,<0.7.0,>=0.4.0->langchain-chroma) (0.15.2)\n",
            "Collecting kubernetes>=28.1.0 (from chromadb!=0.5.10,!=0.5.11,!=0.5.12,!=0.5.4,!=0.5.5,!=0.5.7,!=0.5.9,<0.7.0,>=0.4.0->langchain-chroma)\n",
            "  Downloading kubernetes-32.0.1-py2.py3-none-any.whl.metadata (1.7 kB)\n",
            "Requirement already satisfied: tenacity>=8.2.3 in /usr/local/lib/python3.11/dist-packages (from chromadb!=0.5.10,!=0.5.11,!=0.5.12,!=0.5.4,!=0.5.5,!=0.5.7,!=0.5.9,<0.7.0,>=0.4.0->langchain-chroma) (9.0.0)\n",
            "Requirement already satisfied: PyYAML>=6.0.0 in /usr/local/lib/python3.11/dist-packages (from chromadb!=0.5.10,!=0.5.11,!=0.5.12,!=0.5.4,!=0.5.5,!=0.5.7,!=0.5.9,<0.7.0,>=0.4.0->langchain-chroma) (6.0.2)\n",
            "Collecting mmh3>=4.0.1 (from chromadb!=0.5.10,!=0.5.11,!=0.5.12,!=0.5.4,!=0.5.5,!=0.5.7,!=0.5.9,<0.7.0,>=0.4.0->langchain-chroma)\n",
            "  Downloading mmh3-5.1.0-cp311-cp311-manylinux_2_5_x86_64.manylinux1_x86_64.manylinux_2_17_x86_64.manylinux2014_x86_64.whl.metadata (16 kB)\n",
            "Requirement already satisfied: orjson>=3.9.12 in /usr/local/lib/python3.11/dist-packages (from chromadb!=0.5.10,!=0.5.11,!=0.5.12,!=0.5.4,!=0.5.5,!=0.5.7,!=0.5.9,<0.7.0,>=0.4.0->langchain-chroma) (3.10.16)\n",
            "Requirement already satisfied: httpx>=0.27.0 in /usr/local/lib/python3.11/dist-packages (from chromadb!=0.5.10,!=0.5.11,!=0.5.12,!=0.5.4,!=0.5.5,!=0.5.7,!=0.5.9,<0.7.0,>=0.4.0->langchain-chroma) (0.28.1)\n",
            "Requirement already satisfied: rich>=10.11.0 in /usr/local/lib/python3.11/dist-packages (from chromadb!=0.5.10,!=0.5.11,!=0.5.12,!=0.5.4,!=0.5.5,!=0.5.7,!=0.5.9,<0.7.0,>=0.4.0->langchain-chroma) (13.9.4)\n",
            "Requirement already satisfied: langsmith<0.4,>=0.1.125 in /usr/local/lib/python3.11/dist-packages (from langchain-core!=0.3.0,!=0.3.1,!=0.3.10,!=0.3.11,!=0.3.12,!=0.3.13,!=0.3.14,!=0.3.2,!=0.3.3,!=0.3.4,!=0.3.5,!=0.3.6,!=0.3.7,!=0.3.8,!=0.3.9,<0.4.0,>=0.2.43->langchain-chroma) (0.3.19)\n",
            "Requirement already satisfied: jsonpatch<2.0,>=1.33 in /usr/local/lib/python3.11/dist-packages (from langchain-core!=0.3.0,!=0.3.1,!=0.3.10,!=0.3.11,!=0.3.12,!=0.3.13,!=0.3.14,!=0.3.2,!=0.3.3,!=0.3.4,!=0.3.5,!=0.3.6,!=0.3.7,!=0.3.8,!=0.3.9,<0.4.0,>=0.2.43->langchain-chroma) (1.33)\n",
            "Requirement already satisfied: packaging<25,>=23.2 in /usr/local/lib/python3.11/dist-packages (from langchain-core!=0.3.0,!=0.3.1,!=0.3.10,!=0.3.11,!=0.3.12,!=0.3.13,!=0.3.14,!=0.3.2,!=0.3.3,!=0.3.4,!=0.3.5,!=0.3.6,!=0.3.7,!=0.3.8,!=0.3.9,<0.4.0,>=0.2.43->langchain-chroma) (24.2)\n",
            "Collecting pyproject_hooks (from build>=1.0.3->chromadb!=0.5.10,!=0.5.11,!=0.5.12,!=0.5.4,!=0.5.5,!=0.5.7,!=0.5.9,<0.7.0,>=0.4.0->langchain-chroma)\n",
            "  Downloading pyproject_hooks-1.2.0-py3-none-any.whl.metadata (1.3 kB)\n",
            "Collecting starlette<0.47.0,>=0.40.0 (from fastapi>=0.95.2->chromadb!=0.5.10,!=0.5.11,!=0.5.12,!=0.5.4,!=0.5.5,!=0.5.7,!=0.5.9,<0.7.0,>=0.4.0->langchain-chroma)\n",
            "  Downloading starlette-0.46.1-py3-none-any.whl.metadata (6.2 kB)\n",
            "Requirement already satisfied: anyio in /usr/local/lib/python3.11/dist-packages (from httpx>=0.27.0->chromadb!=0.5.10,!=0.5.11,!=0.5.12,!=0.5.4,!=0.5.5,!=0.5.7,!=0.5.9,<0.7.0,>=0.4.0->langchain-chroma) (4.9.0)\n",
            "Requirement already satisfied: certifi in /usr/local/lib/python3.11/dist-packages (from httpx>=0.27.0->chromadb!=0.5.10,!=0.5.11,!=0.5.12,!=0.5.4,!=0.5.5,!=0.5.7,!=0.5.9,<0.7.0,>=0.4.0->langchain-chroma) (2025.1.31)\n",
            "Requirement already satisfied: httpcore==1.* in /usr/local/lib/python3.11/dist-packages (from httpx>=0.27.0->chromadb!=0.5.10,!=0.5.11,!=0.5.12,!=0.5.4,!=0.5.5,!=0.5.7,!=0.5.9,<0.7.0,>=0.4.0->langchain-chroma) (1.0.7)\n",
            "Requirement already satisfied: idna in /usr/local/lib/python3.11/dist-packages (from httpx>=0.27.0->chromadb!=0.5.10,!=0.5.11,!=0.5.12,!=0.5.4,!=0.5.5,!=0.5.7,!=0.5.9,<0.7.0,>=0.4.0->langchain-chroma) (3.10)\n",
            "Requirement already satisfied: h11<0.15,>=0.13 in /usr/local/lib/python3.11/dist-packages (from httpcore==1.*->httpx>=0.27.0->chromadb!=0.5.10,!=0.5.11,!=0.5.12,!=0.5.4,!=0.5.5,!=0.5.7,!=0.5.9,<0.7.0,>=0.4.0->langchain-chroma) (0.14.0)\n",
            "Requirement already satisfied: jsonpointer>=1.9 in /usr/local/lib/python3.11/dist-packages (from jsonpatch<2.0,>=1.33->langchain-core!=0.3.0,!=0.3.1,!=0.3.10,!=0.3.11,!=0.3.12,!=0.3.13,!=0.3.14,!=0.3.2,!=0.3.3,!=0.3.4,!=0.3.5,!=0.3.6,!=0.3.7,!=0.3.8,!=0.3.9,<0.4.0,>=0.2.43->langchain-chroma) (3.0.0)\n",
            "Requirement already satisfied: six>=1.9.0 in /usr/local/lib/python3.11/dist-packages (from kubernetes>=28.1.0->chromadb!=0.5.10,!=0.5.11,!=0.5.12,!=0.5.4,!=0.5.5,!=0.5.7,!=0.5.9,<0.7.0,>=0.4.0->langchain-chroma) (1.17.0)\n",
            "Requirement already satisfied: python-dateutil>=2.5.3 in /usr/local/lib/python3.11/dist-packages (from kubernetes>=28.1.0->chromadb!=0.5.10,!=0.5.11,!=0.5.12,!=0.5.4,!=0.5.5,!=0.5.7,!=0.5.9,<0.7.0,>=0.4.0->langchain-chroma) (2.8.2)\n",
            "Requirement already satisfied: google-auth>=1.0.1 in /usr/local/lib/python3.11/dist-packages (from kubernetes>=28.1.0->chromadb!=0.5.10,!=0.5.11,!=0.5.12,!=0.5.4,!=0.5.5,!=0.5.7,!=0.5.9,<0.7.0,>=0.4.0->langchain-chroma) (2.38.0)\n",
            "Requirement already satisfied: websocket-client!=0.40.0,!=0.41.*,!=0.42.*,>=0.32.0 in /usr/local/lib/python3.11/dist-packages (from kubernetes>=28.1.0->chromadb!=0.5.10,!=0.5.11,!=0.5.12,!=0.5.4,!=0.5.5,!=0.5.7,!=0.5.9,<0.7.0,>=0.4.0->langchain-chroma) (1.8.0)\n",
            "Requirement already satisfied: requests in /usr/local/lib/python3.11/dist-packages (from kubernetes>=28.1.0->chromadb!=0.5.10,!=0.5.11,!=0.5.12,!=0.5.4,!=0.5.5,!=0.5.7,!=0.5.9,<0.7.0,>=0.4.0->langchain-chroma) (2.32.3)\n",
            "Requirement already satisfied: requests-oauthlib in /usr/local/lib/python3.11/dist-packages (from kubernetes>=28.1.0->chromadb!=0.5.10,!=0.5.11,!=0.5.12,!=0.5.4,!=0.5.5,!=0.5.7,!=0.5.9,<0.7.0,>=0.4.0->langchain-chroma) (2.0.0)\n",
            "Requirement already satisfied: oauthlib>=3.2.2 in /usr/local/lib/python3.11/dist-packages (from kubernetes>=28.1.0->chromadb!=0.5.10,!=0.5.11,!=0.5.12,!=0.5.4,!=0.5.5,!=0.5.7,!=0.5.9,<0.7.0,>=0.4.0->langchain-chroma) (3.2.2)\n",
            "Requirement already satisfied: urllib3>=1.24.2 in /usr/local/lib/python3.11/dist-packages (from kubernetes>=28.1.0->chromadb!=0.5.10,!=0.5.11,!=0.5.12,!=0.5.4,!=0.5.5,!=0.5.7,!=0.5.9,<0.7.0,>=0.4.0->langchain-chroma) (2.3.0)\n",
            "Collecting durationpy>=0.7 (from kubernetes>=28.1.0->chromadb!=0.5.10,!=0.5.11,!=0.5.12,!=0.5.4,!=0.5.5,!=0.5.7,!=0.5.9,<0.7.0,>=0.4.0->langchain-chroma)\n",
            "  Downloading durationpy-0.9-py3-none-any.whl.metadata (338 bytes)\n",
            "Requirement already satisfied: requests-toolbelt<2.0.0,>=1.0.0 in /usr/local/lib/python3.11/dist-packages (from langsmith<0.4,>=0.1.125->langchain-core!=0.3.0,!=0.3.1,!=0.3.10,!=0.3.11,!=0.3.12,!=0.3.13,!=0.3.14,!=0.3.2,!=0.3.3,!=0.3.4,!=0.3.5,!=0.3.6,!=0.3.7,!=0.3.8,!=0.3.9,<0.4.0,>=0.2.43->langchain-chroma) (1.0.0)\n",
            "Requirement already satisfied: zstandard<0.24.0,>=0.23.0 in /usr/local/lib/python3.11/dist-packages (from langsmith<0.4,>=0.1.125->langchain-core!=0.3.0,!=0.3.1,!=0.3.10,!=0.3.11,!=0.3.12,!=0.3.13,!=0.3.14,!=0.3.2,!=0.3.3,!=0.3.4,!=0.3.5,!=0.3.6,!=0.3.7,!=0.3.8,!=0.3.9,<0.4.0,>=0.2.43->langchain-chroma) (0.23.0)\n",
            "Collecting coloredlogs (from onnxruntime>=1.14.1->chromadb!=0.5.10,!=0.5.11,!=0.5.12,!=0.5.4,!=0.5.5,!=0.5.7,!=0.5.9,<0.7.0,>=0.4.0->langchain-chroma)\n",
            "  Downloading coloredlogs-15.0.1-py2.py3-none-any.whl.metadata (12 kB)\n",
            "Requirement already satisfied: flatbuffers in /usr/local/lib/python3.11/dist-packages (from onnxruntime>=1.14.1->chromadb!=0.5.10,!=0.5.11,!=0.5.12,!=0.5.4,!=0.5.5,!=0.5.7,!=0.5.9,<0.7.0,>=0.4.0->langchain-chroma) (25.2.10)\n",
            "Requirement already satisfied: protobuf in /usr/local/lib/python3.11/dist-packages (from onnxruntime>=1.14.1->chromadb!=0.5.10,!=0.5.11,!=0.5.12,!=0.5.4,!=0.5.5,!=0.5.7,!=0.5.9,<0.7.0,>=0.4.0->langchain-chroma) (5.29.4)\n",
            "Requirement already satisfied: sympy in /usr/local/lib/python3.11/dist-packages (from onnxruntime>=1.14.1->chromadb!=0.5.10,!=0.5.11,!=0.5.12,!=0.5.4,!=0.5.5,!=0.5.7,!=0.5.9,<0.7.0,>=0.4.0->langchain-chroma) (1.13.1)\n",
            "Requirement already satisfied: deprecated>=1.2.6 in /usr/local/lib/python3.11/dist-packages (from opentelemetry-api>=1.2.0->chromadb!=0.5.10,!=0.5.11,!=0.5.12,!=0.5.4,!=0.5.5,!=0.5.7,!=0.5.9,<0.7.0,>=0.4.0->langchain-chroma) (1.2.18)\n",
            "Requirement already satisfied: importlib-metadata<8.7.0,>=6.0 in /usr/local/lib/python3.11/dist-packages (from opentelemetry-api>=1.2.0->chromadb!=0.5.10,!=0.5.11,!=0.5.12,!=0.5.4,!=0.5.5,!=0.5.7,!=0.5.9,<0.7.0,>=0.4.0->langchain-chroma) (8.6.1)\n",
            "Requirement already satisfied: googleapis-common-protos~=1.52 in /usr/local/lib/python3.11/dist-packages (from opentelemetry-exporter-otlp-proto-grpc>=1.2.0->chromadb!=0.5.10,!=0.5.11,!=0.5.12,!=0.5.4,!=0.5.5,!=0.5.7,!=0.5.9,<0.7.0,>=0.4.0->langchain-chroma) (1.69.2)\n",
            "Collecting opentelemetry-exporter-otlp-proto-common==1.31.1 (from opentelemetry-exporter-otlp-proto-grpc>=1.2.0->chromadb!=0.5.10,!=0.5.11,!=0.5.12,!=0.5.4,!=0.5.5,!=0.5.7,!=0.5.9,<0.7.0,>=0.4.0->langchain-chroma)\n",
            "  Downloading opentelemetry_exporter_otlp_proto_common-1.31.1-py3-none-any.whl.metadata (1.9 kB)\n",
            "Collecting opentelemetry-proto==1.31.1 (from opentelemetry-exporter-otlp-proto-grpc>=1.2.0->chromadb!=0.5.10,!=0.5.11,!=0.5.12,!=0.5.4,!=0.5.5,!=0.5.7,!=0.5.9,<0.7.0,>=0.4.0->langchain-chroma)\n",
            "  Downloading opentelemetry_proto-1.31.1-py3-none-any.whl.metadata (2.4 kB)\n",
            "Collecting opentelemetry-instrumentation-asgi==0.52b1 (from opentelemetry-instrumentation-fastapi>=0.41b0->chromadb!=0.5.10,!=0.5.11,!=0.5.12,!=0.5.4,!=0.5.5,!=0.5.7,!=0.5.9,<0.7.0,>=0.4.0->langchain-chroma)\n",
            "  Downloading opentelemetry_instrumentation_asgi-0.52b1-py3-none-any.whl.metadata (2.1 kB)\n",
            "Collecting opentelemetry-instrumentation==0.52b1 (from opentelemetry-instrumentation-fastapi>=0.41b0->chromadb!=0.5.10,!=0.5.11,!=0.5.12,!=0.5.4,!=0.5.5,!=0.5.7,!=0.5.9,<0.7.0,>=0.4.0->langchain-chroma)\n",
            "  Downloading opentelemetry_instrumentation-0.52b1-py3-none-any.whl.metadata (6.8 kB)\n",
            "Requirement already satisfied: opentelemetry-semantic-conventions==0.52b1 in /usr/local/lib/python3.11/dist-packages (from opentelemetry-instrumentation-fastapi>=0.41b0->chromadb!=0.5.10,!=0.5.11,!=0.5.12,!=0.5.4,!=0.5.5,!=0.5.7,!=0.5.9,<0.7.0,>=0.4.0->langchain-chroma) (0.52b1)\n",
            "Collecting opentelemetry-util-http==0.52b1 (from opentelemetry-instrumentation-fastapi>=0.41b0->chromadb!=0.5.10,!=0.5.11,!=0.5.12,!=0.5.4,!=0.5.5,!=0.5.7,!=0.5.9,<0.7.0,>=0.4.0->langchain-chroma)\n",
            "  Downloading opentelemetry_util_http-0.52b1-py3-none-any.whl.metadata (2.6 kB)\n",
            "Requirement already satisfied: wrapt<2.0.0,>=1.0.0 in /usr/local/lib/python3.11/dist-packages (from opentelemetry-instrumentation==0.52b1->opentelemetry-instrumentation-fastapi>=0.41b0->chromadb!=0.5.10,!=0.5.11,!=0.5.12,!=0.5.4,!=0.5.5,!=0.5.7,!=0.5.9,<0.7.0,>=0.4.0->langchain-chroma) (1.17.2)\n",
            "Collecting asgiref~=3.0 (from opentelemetry-instrumentation-asgi==0.52b1->opentelemetry-instrumentation-fastapi>=0.41b0->chromadb!=0.5.10,!=0.5.11,!=0.5.12,!=0.5.4,!=0.5.5,!=0.5.7,!=0.5.9,<0.7.0,>=0.4.0->langchain-chroma)\n",
            "  Downloading asgiref-3.8.1-py3-none-any.whl.metadata (9.3 kB)\n",
            "Collecting monotonic>=1.5 (from posthog>=2.4.0->chromadb!=0.5.10,!=0.5.11,!=0.5.12,!=0.5.4,!=0.5.5,!=0.5.7,!=0.5.9,<0.7.0,>=0.4.0->langchain-chroma)\n",
            "  Downloading monotonic-1.6-py2.py3-none-any.whl.metadata (1.5 kB)\n",
            "Collecting backoff>=1.10.0 (from posthog>=2.4.0->chromadb!=0.5.10,!=0.5.11,!=0.5.12,!=0.5.4,!=0.5.5,!=0.5.7,!=0.5.9,<0.7.0,>=0.4.0->langchain-chroma)\n",
            "  Downloading backoff-2.2.1-py3-none-any.whl.metadata (14 kB)\n",
            "Requirement already satisfied: distro>=1.5.0 in /usr/local/lib/python3.11/dist-packages (from posthog>=2.4.0->chromadb!=0.5.10,!=0.5.11,!=0.5.12,!=0.5.4,!=0.5.5,!=0.5.7,!=0.5.9,<0.7.0,>=0.4.0->langchain-chroma) (1.9.0)\n",
            "Requirement already satisfied: annotated-types>=0.6.0 in /usr/local/lib/python3.11/dist-packages (from pydantic>=1.9->chromadb!=0.5.10,!=0.5.11,!=0.5.12,!=0.5.4,!=0.5.5,!=0.5.7,!=0.5.9,<0.7.0,>=0.4.0->langchain-chroma) (0.7.0)\n",
            "Requirement already satisfied: pydantic-core==2.33.0 in /usr/local/lib/python3.11/dist-packages (from pydantic>=1.9->chromadb!=0.5.10,!=0.5.11,!=0.5.12,!=0.5.4,!=0.5.5,!=0.5.7,!=0.5.9,<0.7.0,>=0.4.0->langchain-chroma) (2.33.0)\n",
            "Requirement already satisfied: typing-inspection>=0.4.0 in /usr/local/lib/python3.11/dist-packages (from pydantic>=1.9->chromadb!=0.5.10,!=0.5.11,!=0.5.12,!=0.5.4,!=0.5.5,!=0.5.7,!=0.5.9,<0.7.0,>=0.4.0->langchain-chroma) (0.4.0)\n",
            "Requirement already satisfied: markdown-it-py>=2.2.0 in /usr/local/lib/python3.11/dist-packages (from rich>=10.11.0->chromadb!=0.5.10,!=0.5.11,!=0.5.12,!=0.5.4,!=0.5.5,!=0.5.7,!=0.5.9,<0.7.0,>=0.4.0->langchain-chroma) (3.0.0)\n",
            "Requirement already satisfied: pygments<3.0.0,>=2.13.0 in /usr/local/lib/python3.11/dist-packages (from rich>=10.11.0->chromadb!=0.5.10,!=0.5.11,!=0.5.12,!=0.5.4,!=0.5.5,!=0.5.7,!=0.5.9,<0.7.0,>=0.4.0->langchain-chroma) (2.18.0)\n",
            "Requirement already satisfied: huggingface-hub<1.0,>=0.16.4 in /usr/local/lib/python3.11/dist-packages (from tokenizers>=0.13.2->chromadb!=0.5.10,!=0.5.11,!=0.5.12,!=0.5.4,!=0.5.5,!=0.5.7,!=0.5.9,<0.7.0,>=0.4.0->langchain-chroma) (0.29.3)\n",
            "Requirement already satisfied: click>=8.0.0 in /usr/local/lib/python3.11/dist-packages (from typer>=0.9.0->chromadb!=0.5.10,!=0.5.11,!=0.5.12,!=0.5.4,!=0.5.5,!=0.5.7,!=0.5.9,<0.7.0,>=0.4.0->langchain-chroma) (8.1.8)\n",
            "Requirement already satisfied: shellingham>=1.3.0 in /usr/local/lib/python3.11/dist-packages (from typer>=0.9.0->chromadb!=0.5.10,!=0.5.11,!=0.5.12,!=0.5.4,!=0.5.5,!=0.5.7,!=0.5.9,<0.7.0,>=0.4.0->langchain-chroma) (1.5.4)\n",
            "Collecting httptools>=0.6.3 (from uvicorn[standard]>=0.18.3->chromadb!=0.5.10,!=0.5.11,!=0.5.12,!=0.5.4,!=0.5.5,!=0.5.7,!=0.5.9,<0.7.0,>=0.4.0->langchain-chroma)\n",
            "  Downloading httptools-0.6.4-cp311-cp311-manylinux_2_5_x86_64.manylinux1_x86_64.manylinux_2_17_x86_64.manylinux2014_x86_64.whl.metadata (3.6 kB)\n",
            "Requirement already satisfied: python-dotenv>=0.13 in /usr/local/lib/python3.11/dist-packages (from uvicorn[standard]>=0.18.3->chromadb!=0.5.10,!=0.5.11,!=0.5.12,!=0.5.4,!=0.5.5,!=0.5.7,!=0.5.9,<0.7.0,>=0.4.0->langchain-chroma) (1.1.0)\n",
            "Collecting uvloop!=0.15.0,!=0.15.1,>=0.14.0 (from uvicorn[standard]>=0.18.3->chromadb!=0.5.10,!=0.5.11,!=0.5.12,!=0.5.4,!=0.5.5,!=0.5.7,!=0.5.9,<0.7.0,>=0.4.0->langchain-chroma)\n",
            "  Downloading uvloop-0.21.0-cp311-cp311-manylinux_2_17_x86_64.manylinux2014_x86_64.whl.metadata (4.9 kB)\n",
            "Collecting watchfiles>=0.13 (from uvicorn[standard]>=0.18.3->chromadb!=0.5.10,!=0.5.11,!=0.5.12,!=0.5.4,!=0.5.5,!=0.5.7,!=0.5.9,<0.7.0,>=0.4.0->langchain-chroma)\n",
            "  Downloading watchfiles-1.0.4-cp311-cp311-manylinux_2_17_x86_64.manylinux2014_x86_64.whl.metadata (4.9 kB)\n",
            "Requirement already satisfied: websockets>=10.4 in /usr/local/lib/python3.11/dist-packages (from uvicorn[standard]>=0.18.3->chromadb!=0.5.10,!=0.5.11,!=0.5.12,!=0.5.4,!=0.5.5,!=0.5.7,!=0.5.9,<0.7.0,>=0.4.0->langchain-chroma) (15.0.1)\n",
            "Requirement already satisfied: cachetools<6.0,>=2.0.0 in /usr/local/lib/python3.11/dist-packages (from google-auth>=1.0.1->kubernetes>=28.1.0->chromadb!=0.5.10,!=0.5.11,!=0.5.12,!=0.5.4,!=0.5.5,!=0.5.7,!=0.5.9,<0.7.0,>=0.4.0->langchain-chroma) (5.5.2)\n",
            "Requirement already satisfied: pyasn1-modules>=0.2.1 in /usr/local/lib/python3.11/dist-packages (from google-auth>=1.0.1->kubernetes>=28.1.0->chromadb!=0.5.10,!=0.5.11,!=0.5.12,!=0.5.4,!=0.5.5,!=0.5.7,!=0.5.9,<0.7.0,>=0.4.0->langchain-chroma) (0.4.2)\n",
            "Requirement already satisfied: rsa<5,>=3.1.4 in /usr/local/lib/python3.11/dist-packages (from google-auth>=1.0.1->kubernetes>=28.1.0->chromadb!=0.5.10,!=0.5.11,!=0.5.12,!=0.5.4,!=0.5.5,!=0.5.7,!=0.5.9,<0.7.0,>=0.4.0->langchain-chroma) (4.9)\n",
            "Requirement already satisfied: filelock in /usr/local/lib/python3.11/dist-packages (from huggingface-hub<1.0,>=0.16.4->tokenizers>=0.13.2->chromadb!=0.5.10,!=0.5.11,!=0.5.12,!=0.5.4,!=0.5.5,!=0.5.7,!=0.5.9,<0.7.0,>=0.4.0->langchain-chroma) (3.18.0)\n",
            "Requirement already satisfied: fsspec>=2023.5.0 in /usr/local/lib/python3.11/dist-packages (from huggingface-hub<1.0,>=0.16.4->tokenizers>=0.13.2->chromadb!=0.5.10,!=0.5.11,!=0.5.12,!=0.5.4,!=0.5.5,!=0.5.7,!=0.5.9,<0.7.0,>=0.4.0->langchain-chroma) (2025.3.0)\n",
            "Requirement already satisfied: zipp>=3.20 in /usr/local/lib/python3.11/dist-packages (from importlib-metadata<8.7.0,>=6.0->opentelemetry-api>=1.2.0->chromadb!=0.5.10,!=0.5.11,!=0.5.12,!=0.5.4,!=0.5.5,!=0.5.7,!=0.5.9,<0.7.0,>=0.4.0->langchain-chroma) (3.21.0)\n",
            "Requirement already satisfied: mdurl~=0.1 in /usr/local/lib/python3.11/dist-packages (from markdown-it-py>=2.2.0->rich>=10.11.0->chromadb!=0.5.10,!=0.5.11,!=0.5.12,!=0.5.4,!=0.5.5,!=0.5.7,!=0.5.9,<0.7.0,>=0.4.0->langchain-chroma) (0.1.2)\n",
            "Requirement already satisfied: charset-normalizer<4,>=2 in /usr/local/lib/python3.11/dist-packages (from requests->kubernetes>=28.1.0->chromadb!=0.5.10,!=0.5.11,!=0.5.12,!=0.5.4,!=0.5.5,!=0.5.7,!=0.5.9,<0.7.0,>=0.4.0->langchain-chroma) (3.4.1)\n",
            "Requirement already satisfied: sniffio>=1.1 in /usr/local/lib/python3.11/dist-packages (from anyio->httpx>=0.27.0->chromadb!=0.5.10,!=0.5.11,!=0.5.12,!=0.5.4,!=0.5.5,!=0.5.7,!=0.5.9,<0.7.0,>=0.4.0->langchain-chroma) (1.3.1)\n",
            "Collecting humanfriendly>=9.1 (from coloredlogs->onnxruntime>=1.14.1->chromadb!=0.5.10,!=0.5.11,!=0.5.12,!=0.5.4,!=0.5.5,!=0.5.7,!=0.5.9,<0.7.0,>=0.4.0->langchain-chroma)\n",
            "  Downloading humanfriendly-10.0-py2.py3-none-any.whl.metadata (9.2 kB)\n",
            "Requirement already satisfied: mpmath<1.4,>=1.1.0 in /usr/local/lib/python3.11/dist-packages (from sympy->onnxruntime>=1.14.1->chromadb!=0.5.10,!=0.5.11,!=0.5.12,!=0.5.4,!=0.5.5,!=0.5.7,!=0.5.9,<0.7.0,>=0.4.0->langchain-chroma) (1.3.0)\n",
            "Requirement already satisfied: pyasn1<0.7.0,>=0.6.1 in /usr/local/lib/python3.11/dist-packages (from pyasn1-modules>=0.2.1->google-auth>=1.0.1->kubernetes>=28.1.0->chromadb!=0.5.10,!=0.5.11,!=0.5.12,!=0.5.4,!=0.5.5,!=0.5.7,!=0.5.9,<0.7.0,>=0.4.0->langchain-chroma) (0.6.1)\n",
            "Downloading langchain_chroma-0.2.2-py3-none-any.whl (11 kB)\n",
            "Downloading chromadb-0.6.3-py3-none-any.whl (611 kB)\n",
            "\u001b[2K   \u001b[90m━━━━━━━━━━━━━━━━━━━━━━━━━━━━━━━━━━━━━━━━\u001b[0m \u001b[32m611.1/611.1 kB\u001b[0m \u001b[31m27.3 MB/s\u001b[0m eta \u001b[36m0:00:00\u001b[0m\n",
            "\u001b[?25hDownloading chroma_hnswlib-0.7.6-cp311-cp311-manylinux_2_17_x86_64.manylinux2014_x86_64.whl (2.4 MB)\n",
            "\u001b[2K   \u001b[90m━━━━━━━━━━━━━━━━━━━━━━━━━━━━━━━━━━━━━━━━\u001b[0m \u001b[32m2.4/2.4 MB\u001b[0m \u001b[31m67.5 MB/s\u001b[0m eta \u001b[36m0:00:00\u001b[0m\n",
            "\u001b[?25hDownloading numpy-1.26.4-cp311-cp311-manylinux_2_17_x86_64.manylinux2014_x86_64.whl (18.3 MB)\n",
            "\u001b[2K   \u001b[90m━━━━━━━━━━━━━━━━━━━━━━━━━━━━━━━━━━━━━━━━\u001b[0m \u001b[32m18.3/18.3 MB\u001b[0m \u001b[31m77.2 MB/s\u001b[0m eta \u001b[36m0:00:00\u001b[0m\n",
            "\u001b[?25hDownloading bcrypt-4.3.0-cp39-abi3-manylinux_2_34_x86_64.whl (284 kB)\n",
            "\u001b[2K   \u001b[90m━━━━━━━━━━━━━━━━━━━━━━━━━━━━━━━━━━━━━━━━\u001b[0m \u001b[32m284.2/284.2 kB\u001b[0m \u001b[31m16.0 MB/s\u001b[0m eta \u001b[36m0:00:00\u001b[0m\n",
            "\u001b[?25hDownloading build-1.2.2.post1-py3-none-any.whl (22 kB)\n",
            "Downloading fastapi-0.115.12-py3-none-any.whl (95 kB)\n",
            "\u001b[2K   \u001b[90m━━━━━━━━━━━━━━━━━━━━━━━━━━━━━━━━━━━━━━━━\u001b[0m \u001b[32m95.2/95.2 kB\u001b[0m \u001b[31m7.6 MB/s\u001b[0m eta \u001b[36m0:00:00\u001b[0m\n",
            "\u001b[?25hDownloading kubernetes-32.0.1-py2.py3-none-any.whl (2.0 MB)\n",
            "\u001b[2K   \u001b[90m━━━━━━━━━━━━━━━━━━━━━━━━━━━━━━━━━━━━━━━━\u001b[0m \u001b[32m2.0/2.0 MB\u001b[0m \u001b[31m55.5 MB/s\u001b[0m eta \u001b[36m0:00:00\u001b[0m\n",
            "\u001b[?25hDownloading mmh3-5.1.0-cp311-cp311-manylinux_2_5_x86_64.manylinux1_x86_64.manylinux_2_17_x86_64.manylinux2014_x86_64.whl (101 kB)\n",
            "\u001b[2K   \u001b[90m━━━━━━━━━━━━━━━━━━━━━━━━━━━━━━━━━━━━━━━━\u001b[0m \u001b[32m101.6/101.6 kB\u001b[0m \u001b[31m7.9 MB/s\u001b[0m eta \u001b[36m0:00:00\u001b[0m\n",
            "\u001b[?25hDownloading onnxruntime-1.21.0-cp311-cp311-manylinux_2_27_x86_64.manylinux_2_28_x86_64.whl (16.0 MB)\n",
            "\u001b[2K   \u001b[90m━━━━━━━━━━━━━━━━━━━━━━━━━━━━━━━━━━━━━━━━\u001b[0m \u001b[32m16.0/16.0 MB\u001b[0m \u001b[31m81.8 MB/s\u001b[0m eta \u001b[36m0:00:00\u001b[0m\n",
            "\u001b[?25hDownloading opentelemetry_exporter_otlp_proto_grpc-1.31.1-py3-none-any.whl (18 kB)\n",
            "Downloading opentelemetry_exporter_otlp_proto_common-1.31.1-py3-none-any.whl (18 kB)\n",
            "Downloading opentelemetry_proto-1.31.1-py3-none-any.whl (55 kB)\n",
            "\u001b[2K   \u001b[90m━━━━━━━━━━━━━━━━━━━━━━━━━━━━━━━━━━━━━━━━\u001b[0m \u001b[32m55.9/55.9 kB\u001b[0m \u001b[31m4.7 MB/s\u001b[0m eta \u001b[36m0:00:00\u001b[0m\n",
            "\u001b[?25hDownloading opentelemetry_instrumentation_fastapi-0.52b1-py3-none-any.whl (12 kB)\n",
            "Downloading opentelemetry_instrumentation-0.52b1-py3-none-any.whl (31 kB)\n",
            "Downloading opentelemetry_instrumentation_asgi-0.52b1-py3-none-any.whl (16 kB)\n",
            "Downloading opentelemetry_util_http-0.52b1-py3-none-any.whl (7.3 kB)\n",
            "Downloading overrides-7.7.0-py3-none-any.whl (17 kB)\n",
            "Downloading posthog-3.23.0-py2.py3-none-any.whl (84 kB)\n",
            "\u001b[2K   \u001b[90m━━━━━━━━━━━━━━━━━━━━━━━━━━━━━━━━━━━━━━━━\u001b[0m \u001b[32m85.0/85.0 kB\u001b[0m \u001b[31m6.9 MB/s\u001b[0m eta \u001b[36m0:00:00\u001b[0m\n",
            "\u001b[?25hDownloading uvicorn-0.34.0-py3-none-any.whl (62 kB)\n",
            "\u001b[2K   \u001b[90m━━━━━━━━━━━━━━━━━━━━━━━━━━━━━━━━━━━━━━━━\u001b[0m \u001b[32m62.3/62.3 kB\u001b[0m \u001b[31m5.3 MB/s\u001b[0m eta \u001b[36m0:00:00\u001b[0m\n",
            "\u001b[?25hDownloading backoff-2.2.1-py3-none-any.whl (15 kB)\n",
            "Downloading durationpy-0.9-py3-none-any.whl (3.5 kB)\n",
            "Downloading httptools-0.6.4-cp311-cp311-manylinux_2_5_x86_64.manylinux1_x86_64.manylinux_2_17_x86_64.manylinux2014_x86_64.whl (459 kB)\n",
            "\u001b[2K   \u001b[90m━━━━━━━━━━━━━━━━━━━━━━━━━━━━━━━━━━━━━━━━\u001b[0m \u001b[32m459.8/459.8 kB\u001b[0m \u001b[31m31.3 MB/s\u001b[0m eta \u001b[36m0:00:00\u001b[0m\n",
            "\u001b[?25hDownloading monotonic-1.6-py2.py3-none-any.whl (8.2 kB)\n",
            "Downloading starlette-0.46.1-py3-none-any.whl (71 kB)\n",
            "\u001b[2K   \u001b[90m━━━━━━━━━━━━━━━━━━━━━━━━━━━━━━━━━━━━━━━━\u001b[0m \u001b[32m72.0/72.0 kB\u001b[0m \u001b[31m5.7 MB/s\u001b[0m eta \u001b[36m0:00:00\u001b[0m\n",
            "\u001b[?25hDownloading uvloop-0.21.0-cp311-cp311-manylinux_2_17_x86_64.manylinux2014_x86_64.whl (4.0 MB)\n",
            "\u001b[2K   \u001b[90m━━━━━━━━━━━━━━━━━━━━━━━━━━━━━━━━━━━━━━━━\u001b[0m \u001b[32m4.0/4.0 MB\u001b[0m \u001b[31m83.0 MB/s\u001b[0m eta \u001b[36m0:00:00\u001b[0m\n",
            "\u001b[?25hDownloading watchfiles-1.0.4-cp311-cp311-manylinux_2_17_x86_64.manylinux2014_x86_64.whl (452 kB)\n",
            "\u001b[2K   \u001b[90m━━━━━━━━━━━━━━━━━━━━━━━━━━━━━━━━━━━━━━━━\u001b[0m \u001b[32m452.6/452.6 kB\u001b[0m \u001b[31m32.3 MB/s\u001b[0m eta \u001b[36m0:00:00\u001b[0m\n",
            "\u001b[?25hDownloading coloredlogs-15.0.1-py2.py3-none-any.whl (46 kB)\n",
            "\u001b[2K   \u001b[90m━━━━━━━━━━━━━━━━━━━━━━━━━━━━━━━━━━━━━━━━\u001b[0m \u001b[32m46.0/46.0 kB\u001b[0m \u001b[31m3.1 MB/s\u001b[0m eta \u001b[36m0:00:00\u001b[0m\n",
            "\u001b[?25hDownloading pyproject_hooks-1.2.0-py3-none-any.whl (10 kB)\n",
            "Downloading asgiref-3.8.1-py3-none-any.whl (23 kB)\n",
            "Downloading humanfriendly-10.0-py2.py3-none-any.whl (86 kB)\n",
            "\u001b[2K   \u001b[90m━━━━━━━━━━━━━━━━━━━━━━━━━━━━━━━━━━━━━━━━\u001b[0m \u001b[32m86.8/86.8 kB\u001b[0m \u001b[31m7.9 MB/s\u001b[0m eta \u001b[36m0:00:00\u001b[0m\n",
            "\u001b[?25hBuilding wheels for collected packages: pypika\n",
            "  Building wheel for pypika (pyproject.toml) ... \u001b[?25l\u001b[?25hdone\n",
            "  Created wheel for pypika: filename=pypika-0.48.9-py2.py3-none-any.whl size=53800 sha256=00e2fbe9354a99c88a52d935c96c631235e9765d011f151ed311c90a5bf4abc3\n",
            "  Stored in directory: /root/.cache/pip/wheels/a3/01/bd/4c40ceb9d5354160cb186dcc153360f4ab7eb23e2b24daf96d\n",
            "Successfully built pypika\n",
            "Installing collected packages: pypika, monotonic, durationpy, uvloop, uvicorn, pyproject_hooks, overrides, opentelemetry-util-http, opentelemetry-proto, numpy, mmh3, humanfriendly, httptools, bcrypt, backoff, asgiref, watchfiles, starlette, posthog, opentelemetry-exporter-otlp-proto-common, coloredlogs, chroma-hnswlib, build, onnxruntime, kubernetes, fastapi, opentelemetry-instrumentation, opentelemetry-instrumentation-asgi, opentelemetry-exporter-otlp-proto-grpc, opentelemetry-instrumentation-fastapi, chromadb, langchain-chroma\n",
            "  Attempting uninstall: numpy\n",
            "    Found existing installation: numpy 2.0.2\n",
            "    Uninstalling numpy-2.0.2:\n",
            "      Successfully uninstalled numpy-2.0.2\n",
            "Successfully installed asgiref-3.8.1 backoff-2.2.1 bcrypt-4.3.0 build-1.2.2.post1 chroma-hnswlib-0.7.6 chromadb-0.6.3 coloredlogs-15.0.1 durationpy-0.9 fastapi-0.115.12 httptools-0.6.4 humanfriendly-10.0 kubernetes-32.0.1 langchain-chroma-0.2.2 mmh3-5.1.0 monotonic-1.6 numpy-1.26.4 onnxruntime-1.21.0 opentelemetry-exporter-otlp-proto-common-1.31.1 opentelemetry-exporter-otlp-proto-grpc-1.31.1 opentelemetry-instrumentation-0.52b1 opentelemetry-instrumentation-asgi-0.52b1 opentelemetry-instrumentation-fastapi-0.52b1 opentelemetry-proto-1.31.1 opentelemetry-util-http-0.52b1 overrides-7.7.0 posthog-3.23.0 pypika-0.48.9 pyproject_hooks-1.2.0 starlette-0.46.1 uvicorn-0.34.0 uvloop-0.21.0 watchfiles-1.0.4\n",
            "Collecting faiss-cpu\n",
            "  Downloading faiss_cpu-1.10.0-cp311-cp311-manylinux_2_28_x86_64.whl.metadata (4.4 kB)\n",
            "Requirement already satisfied: numpy<3.0,>=1.25.0 in /usr/local/lib/python3.11/dist-packages (from faiss-cpu) (1.26.4)\n",
            "Requirement already satisfied: packaging in /usr/local/lib/python3.11/dist-packages (from faiss-cpu) (24.2)\n",
            "Downloading faiss_cpu-1.10.0-cp311-cp311-manylinux_2_28_x86_64.whl (30.7 MB)\n",
            "\u001b[2K   \u001b[90m━━━━━━━━━━━━━━━━━━━━━━━━━━━━━━━━━━━━━━━━\u001b[0m \u001b[32m30.7/30.7 MB\u001b[0m \u001b[31m54.1 MB/s\u001b[0m eta \u001b[36m0:00:00\u001b[0m\n",
            "\u001b[?25hInstalling collected packages: faiss-cpu\n",
            "Successfully installed faiss-cpu-1.10.0\n",
            "Collecting langgraph\n",
            "  Downloading langgraph-0.3.23-py3-none-any.whl.metadata (7.7 kB)\n",
            "Requirement already satisfied: langchain-core<0.4,>=0.1 in /usr/local/lib/python3.11/dist-packages (from langgraph) (0.3.49)\n",
            "Collecting langgraph-checkpoint<3.0.0,>=2.0.10 (from langgraph)\n",
            "  Downloading langgraph_checkpoint-2.0.23-py3-none-any.whl.metadata (4.6 kB)\n",
            "Collecting langgraph-prebuilt<0.2,>=0.1.1 (from langgraph)\n",
            "  Downloading langgraph_prebuilt-0.1.7-py3-none-any.whl.metadata (5.0 kB)\n",
            "Collecting langgraph-sdk<0.2.0,>=0.1.42 (from langgraph)\n",
            "  Downloading langgraph_sdk-0.1.60-py3-none-any.whl.metadata (1.8 kB)\n",
            "Collecting xxhash<4.0.0,>=3.5.0 (from langgraph)\n",
            "  Downloading xxhash-3.5.0-cp311-cp311-manylinux_2_17_x86_64.manylinux2014_x86_64.whl.metadata (12 kB)\n",
            "Requirement already satisfied: langsmith<0.4,>=0.1.125 in /usr/local/lib/python3.11/dist-packages (from langchain-core<0.4,>=0.1->langgraph) (0.3.19)\n",
            "Requirement already satisfied: tenacity!=8.4.0,<10.0.0,>=8.1.0 in /usr/local/lib/python3.11/dist-packages (from langchain-core<0.4,>=0.1->langgraph) (9.0.0)\n",
            "Requirement already satisfied: jsonpatch<2.0,>=1.33 in /usr/local/lib/python3.11/dist-packages (from langchain-core<0.4,>=0.1->langgraph) (1.33)\n",
            "Requirement already satisfied: PyYAML>=5.3 in /usr/local/lib/python3.11/dist-packages (from langchain-core<0.4,>=0.1->langgraph) (6.0.2)\n",
            "Requirement already satisfied: packaging<25,>=23.2 in /usr/local/lib/python3.11/dist-packages (from langchain-core<0.4,>=0.1->langgraph) (24.2)\n",
            "Requirement already satisfied: typing-extensions>=4.7 in /usr/local/lib/python3.11/dist-packages (from langchain-core<0.4,>=0.1->langgraph) (4.13.0)\n",
            "Requirement already satisfied: pydantic<3.0.0,>=2.5.2 in /usr/local/lib/python3.11/dist-packages (from langchain-core<0.4,>=0.1->langgraph) (2.11.0)\n",
            "Collecting ormsgpack<2.0.0,>=1.8.0 (from langgraph-checkpoint<3.0.0,>=2.0.10->langgraph)\n",
            "  Downloading ormsgpack-1.9.1-cp311-cp311-manylinux_2_17_x86_64.manylinux2014_x86_64.whl.metadata (43 kB)\n",
            "\u001b[2K     \u001b[90m━━━━━━━━━━━━━━━━━━━━━━━━━━━━━━━━━━━━━━━━\u001b[0m \u001b[32m43.5/43.5 kB\u001b[0m \u001b[31m3.2 MB/s\u001b[0m eta \u001b[36m0:00:00\u001b[0m\n",
            "\u001b[?25hRequirement already satisfied: httpx>=0.25.2 in /usr/local/lib/python3.11/dist-packages (from langgraph-sdk<0.2.0,>=0.1.42->langgraph) (0.28.1)\n",
            "Requirement already satisfied: orjson>=3.10.1 in /usr/local/lib/python3.11/dist-packages (from langgraph-sdk<0.2.0,>=0.1.42->langgraph) (3.10.16)\n",
            "Requirement already satisfied: anyio in /usr/local/lib/python3.11/dist-packages (from httpx>=0.25.2->langgraph-sdk<0.2.0,>=0.1.42->langgraph) (4.9.0)\n",
            "Requirement already satisfied: certifi in /usr/local/lib/python3.11/dist-packages (from httpx>=0.25.2->langgraph-sdk<0.2.0,>=0.1.42->langgraph) (2025.1.31)\n",
            "Requirement already satisfied: httpcore==1.* in /usr/local/lib/python3.11/dist-packages (from httpx>=0.25.2->langgraph-sdk<0.2.0,>=0.1.42->langgraph) (1.0.7)\n",
            "Requirement already satisfied: idna in /usr/local/lib/python3.11/dist-packages (from httpx>=0.25.2->langgraph-sdk<0.2.0,>=0.1.42->langgraph) (3.10)\n",
            "Requirement already satisfied: h11<0.15,>=0.13 in /usr/local/lib/python3.11/dist-packages (from httpcore==1.*->httpx>=0.25.2->langgraph-sdk<0.2.0,>=0.1.42->langgraph) (0.14.0)\n",
            "Requirement already satisfied: jsonpointer>=1.9 in /usr/local/lib/python3.11/dist-packages (from jsonpatch<2.0,>=1.33->langchain-core<0.4,>=0.1->langgraph) (3.0.0)\n",
            "Requirement already satisfied: requests<3,>=2 in /usr/local/lib/python3.11/dist-packages (from langsmith<0.4,>=0.1.125->langchain-core<0.4,>=0.1->langgraph) (2.32.3)\n",
            "Requirement already satisfied: requests-toolbelt<2.0.0,>=1.0.0 in /usr/local/lib/python3.11/dist-packages (from langsmith<0.4,>=0.1.125->langchain-core<0.4,>=0.1->langgraph) (1.0.0)\n",
            "Requirement already satisfied: zstandard<0.24.0,>=0.23.0 in /usr/local/lib/python3.11/dist-packages (from langsmith<0.4,>=0.1.125->langchain-core<0.4,>=0.1->langgraph) (0.23.0)\n",
            "Requirement already satisfied: annotated-types>=0.6.0 in /usr/local/lib/python3.11/dist-packages (from pydantic<3.0.0,>=2.5.2->langchain-core<0.4,>=0.1->langgraph) (0.7.0)\n",
            "Requirement already satisfied: pydantic-core==2.33.0 in /usr/local/lib/python3.11/dist-packages (from pydantic<3.0.0,>=2.5.2->langchain-core<0.4,>=0.1->langgraph) (2.33.0)\n",
            "Requirement already satisfied: typing-inspection>=0.4.0 in /usr/local/lib/python3.11/dist-packages (from pydantic<3.0.0,>=2.5.2->langchain-core<0.4,>=0.1->langgraph) (0.4.0)\n",
            "Requirement already satisfied: charset-normalizer<4,>=2 in /usr/local/lib/python3.11/dist-packages (from requests<3,>=2->langsmith<0.4,>=0.1.125->langchain-core<0.4,>=0.1->langgraph) (3.4.1)\n",
            "Requirement already satisfied: urllib3<3,>=1.21.1 in /usr/local/lib/python3.11/dist-packages (from requests<3,>=2->langsmith<0.4,>=0.1.125->langchain-core<0.4,>=0.1->langgraph) (2.3.0)\n",
            "Requirement already satisfied: sniffio>=1.1 in /usr/local/lib/python3.11/dist-packages (from anyio->httpx>=0.25.2->langgraph-sdk<0.2.0,>=0.1.42->langgraph) (1.3.1)\n",
            "Downloading langgraph-0.3.23-py3-none-any.whl (139 kB)\n",
            "\u001b[2K   \u001b[90m━━━━━━━━━━━━━━━━━━━━━━━━━━━━━━━━━━━━━━━━\u001b[0m \u001b[32m139.7/139.7 kB\u001b[0m \u001b[31m9.7 MB/s\u001b[0m eta \u001b[36m0:00:00\u001b[0m\n",
            "\u001b[?25hDownloading langgraph_checkpoint-2.0.23-py3-none-any.whl (41 kB)\n",
            "\u001b[2K   \u001b[90m━━━━━━━━━━━━━━━━━━━━━━━━━━━━━━━━━━━━━━━━\u001b[0m \u001b[32m41.9/41.9 kB\u001b[0m \u001b[31m2.7 MB/s\u001b[0m eta \u001b[36m0:00:00\u001b[0m\n",
            "\u001b[?25hDownloading langgraph_prebuilt-0.1.7-py3-none-any.whl (25 kB)\n",
            "Downloading langgraph_sdk-0.1.60-py3-none-any.whl (47 kB)\n",
            "\u001b[2K   \u001b[90m━━━━━━━━━━━━━━━━━━━━━━━━━━━━━━━━━━━━━━━━\u001b[0m \u001b[32m47.1/47.1 kB\u001b[0m \u001b[31m3.5 MB/s\u001b[0m eta \u001b[36m0:00:00\u001b[0m\n",
            "\u001b[?25hDownloading xxhash-3.5.0-cp311-cp311-manylinux_2_17_x86_64.manylinux2014_x86_64.whl (194 kB)\n",
            "\u001b[2K   \u001b[90m━━━━━━━━━━━━━━━━━━━━━━━━━━━━━━━━━━━━━━━━\u001b[0m \u001b[32m194.8/194.8 kB\u001b[0m \u001b[31m14.9 MB/s\u001b[0m eta \u001b[36m0:00:00\u001b[0m\n",
            "\u001b[?25hDownloading ormsgpack-1.9.1-cp311-cp311-manylinux_2_17_x86_64.manylinux2014_x86_64.whl (223 kB)\n",
            "\u001b[2K   \u001b[90m━━━━━━━━━━━━━━━━━━━━━━━━━━━━━━━━━━━━━━━━\u001b[0m \u001b[32m223.6/223.6 kB\u001b[0m \u001b[31m16.6 MB/s\u001b[0m eta \u001b[36m0:00:00\u001b[0m\n",
            "\u001b[?25hInstalling collected packages: xxhash, ormsgpack, langgraph-sdk, langgraph-checkpoint, langgraph-prebuilt, langgraph\n",
            "Successfully installed langgraph-0.3.23 langgraph-checkpoint-2.0.23 langgraph-prebuilt-0.1.7 langgraph-sdk-0.1.60 ormsgpack-1.9.1 xxhash-3.5.0\n",
            "Collecting html2text\n",
            "  Downloading html2text-2024.2.26.tar.gz (56 kB)\n",
            "\u001b[2K     \u001b[90m━━━━━━━━━━━━━━━━━━━━━━━━━━━━━━━━━━━━━━━━\u001b[0m \u001b[32m56.5/56.5 kB\u001b[0m \u001b[31m4.4 MB/s\u001b[0m eta \u001b[36m0:00:00\u001b[0m\n",
            "\u001b[?25h  Preparing metadata (setup.py) ... \u001b[?25l\u001b[?25hdone\n",
            "Building wheels for collected packages: html2text\n",
            "  Building wheel for html2text (setup.py) ... \u001b[?25l\u001b[?25hdone\n",
            "  Created wheel for html2text: filename=html2text-2024.2.26-py3-none-any.whl size=33111 sha256=861d82e92998b6d2fc8727da5c19b7777c4d386c93114f700728cf36bd87ca35\n",
            "  Stored in directory: /root/.cache/pip/wheels/23/58/7c/d9c8c4d924a1ac2b621add1b2c1d30b639629a33cfdfde6a45\n",
            "Successfully built html2text\n",
            "Installing collected packages: html2text\n",
            "Successfully installed html2text-2024.2.26\n"
          ]
        }
      ]
    },
    {
      "cell_type": "code",
      "source": [
        "from langchain_community.document_loaders import TextLoader\n",
        "from langchain_text_splitters import CharacterTextSplitter\n",
        "from langchain_google_genai import GoogleGenerativeAIEmbeddings\n",
        "from langchain_chroma import Chroma\n",
        "from langchain_community.vectorstores import FAISS\n",
        "from langchain.tools.retriever import create_retriever_tool\n",
        "from langchain_google_genai import ChatGoogleGenerativeAI\n",
        "from langgraph.prebuilt import create_react_agent\n",
        "from langchain_core.messages import AnyMessage, SystemMessage, HumanMessage, ToolMessage, AIMessage, trim_messages\n",
        "from langchain_community.tools.tavily_search import TavilySearchResults\n",
        "from langgraph.checkpoint.memory import MemorySaver\n",
        "from langchain_community.document_loaders import AsyncHtmlLoader\n",
        "from langchain_community.document_transformers import Html2TextTransformer\n",
        "from langchain.tools import BaseTool\n",
        "\n",
        "from pydantic import Field\n",
        "from bs4 import BeautifulSoup\n",
        "import re\n",
        "import time\n",
        "import getpass\n",
        "import textwrap\n",
        "import requests\n",
        "import random\n",
        "import os\n",
        "import getpass\n",
        "from IPython.display import Image, display, Markdown\n",
        "\n"
      ],
      "metadata": {
        "id": "EIojxxPRxb3i",
        "colab": {
          "base_uri": "https://localhost:8080/"
        },
        "outputId": "76e4c95b-c171-488d-d52c-e696bc7f8ddc"
      },
      "execution_count": 5,
      "outputs": [
        {
          "output_type": "stream",
          "name": "stderr",
          "text": [
            "WARNING:langchain_community.utils.user_agent:USER_AGENT environment variable not set, consider setting it to identify your requests.\n"
          ]
        }
      ]
    },
    {
      "cell_type": "code",
      "execution_count": 6,
      "metadata": {
        "id": "6xLKNJfrpAfj",
        "colab": {
          "base_uri": "https://localhost:8080/"
        },
        "outputId": "251abbc5-0e3e-4fdc-cf3f-901f85972e2e"
      },
      "outputs": [
        {
          "name": "stdout",
          "output_type": "stream",
          "text": [
            "Gemini API Key:··········\n",
            "Enter your Tavily API key: ··········\n"
          ]
        }
      ],
      "source": [
        "if \"GOOGLE_API_KEY\" not in os.environ:\n",
        "    os.environ['GOOGLE_API_KEY'] = getpass.getpass('Gemini API Key:')\n",
        "\n",
        "if \"TAVILY_API_KEY\" not in os.environ:\n",
        "    os.environ[\"TAVILY_API_KEY\"] = getpass.getpass(\"Enter your Tavily API key: \")"
      ]
    },
    {
      "cell_type": "markdown",
      "source": [
        "## Define the LLM to use"
      ],
      "metadata": {
        "id": "ZNZ4uaws4ty_"
      }
    },
    {
      "cell_type": "code",
      "source": [
        "# Create LLM model\n",
        "model = ChatGoogleGenerativeAI(\n",
        "    model=\"gemini-2.0-flash\",\n",
        "    temperature=0,\n",
        "    max_retries=2\n",
        ")"
      ],
      "metadata": {
        "id": "RJXang452QKY"
      },
      "execution_count": 32,
      "outputs": []
    },
    {
      "cell_type": "markdown",
      "source": [
        "## Create the vector store"
      ],
      "metadata": {
        "id": "1_aEInE42S95"
      }
    },
    {
      "cell_type": "code",
      "source": [
        "def load_vector_store(\n",
        "    documents,\n",
        "    vector_store_path: str = \"BudgetBuddy/vectorstore/ingnl\",\n",
        "    embeddings = GoogleGenerativeAIEmbeddings(model=\"models/text-embedding-004\"),\n",
        "    overwrite: bool = False\n",
        "):\n",
        "    if overwrite:\n",
        "        # Refresh the vector store\n",
        "        db_faiss = store_docs_as_vector_store(documents, vector_store_path, embeddings)\n",
        "        print(\"Saved vector store to file\")\n",
        "    else:\n",
        "        # Try loading it from file\n",
        "        try:\n",
        "            db_faiss = FAISS.load_local(\n",
        "                vector_store_path, embeddings, allow_dangerous_deserialization=True\n",
        "            )\n",
        "            print(\"Loaded vector store from file\")\n",
        "        except Exception:\n",
        "            # Can't find it, so refresh the database\n",
        "            db_faiss = store_docs_as_vector_store(documents, vector_store_path, embeddings)\n",
        "            print(\"Saved vector store to file\")\n",
        "    return db_faiss\n",
        "\n",
        "def store_docs_as_vector_store(\n",
        "    documents,\n",
        "    vector_store_path: str = \"BudgetBuddy/vectorstore/ingnl\",\n",
        "    embeddings = GoogleGenerativeAIEmbeddings(model=\"models/text-embedding-004\")\n",
        "):\n",
        "    db_faiss = FAISS.from_documents(documents, embeddings)\n",
        "    db_faiss.save_local(vector_store_path)\n",
        "    return db_faiss"
      ],
      "metadata": {
        "id": "U8R53jw9fgQU"
      },
      "execution_count": 33,
      "outputs": []
    },
    {
      "cell_type": "code",
      "source": [
        "class WebsiteContentTool(BaseTool):\n",
        "    name: str = Field(default=\"website_content_tool\", description=\"The name of the tool\") # Define name as a Pydantic Field with type annotation\n",
        "    description: str = Field(default=\"Useful for retrieving the content of a given website URL. Input should be a valid URL.\", description=\"The description of the tool\")  # Define description as a Pydantic Field with type annotation\n",
        "\n",
        "    def _run(self, urls):\n",
        "        try:\n",
        "            loader = AsyncHtmlLoader(urls)\n",
        "            docs = loader.load()\n",
        "            html2text = Html2TextTransformer()\n",
        "            docs_transformed = html2text.transform_documents(docs)\n",
        "\n",
        "            return docs_transformed\n",
        "\n",
        "        except requests.exceptions.RequestException as e:\n",
        "            return f\"Error fetching URL: {e}\"\n",
        "        except Exception as e:\n",
        "            return f\"An unexpected error occurred: {e}\"\n",
        "\n",
        "    async def _arun(self, url: str) -> str:\n",
        "        \"\"\"Use the tool asynchronously.\"\"\"\n",
        "        raise NotImplementedError(\"WebsiteContentTool does not support async\")\n",
        "\n",
        "\n",
        "\n",
        "def remove_duplicates(l): # remove duplicates and unURL string\n",
        "    for item in l:\n",
        "        match = re.search(r\"(?P<url>https?://[^\\s]+)\", item)\n",
        "        if match is not None:\n",
        "            links.append((match.group(\"url\")))\n",
        "\n",
        "def get_all_urls_in_website(url):\n",
        "    # Set up headers to mimic a browser request\n",
        "    headers = {\n",
        "        'User-Agent': 'Mozilla/5.0 (Windows NT 10.0; Win64; x64) AppleWebKit/537.36 (KHTML, like Gecko) Chrome/70.0.3538.110 Safari/537.36'\n",
        "    }\n",
        "\n",
        "    # Make the request with headers\n",
        "    response = requests.get(url, headers=headers)\n",
        "\n",
        "    # Check if the request was successful\n",
        "    if response.status_code == 200:\n",
        "        # Parse the HTML content\n",
        "        soup = BeautifulSoup(response.content, 'html.parser')\n",
        "\n",
        "        # Find all links\n",
        "        links = [a.get('href') for a in soup.find_all('a', href=True)]\n",
        "\n",
        "        # Print the list of links\n",
        "        print(\"Links found:\", links)\n",
        "    else:\n",
        "        print(f\"Failed to retrieve the page. Status code: {response.status_code}\")\n",
        "\n",
        "    #remove duplicates\n",
        "    links = list(set(links))\n",
        "\n",
        "    return links\n",
        "\n",
        "def remove_special_strings(lst):\n",
        "    return [item for item in lst if not (item.startswith('/') or item.startswith('#'))]\n",
        "\n",
        "def filter_non_nibud_links(lst):\n",
        "    return [item for item in lst if item.startswith('https://www.nibud.nl/')]\n"
      ],
      "metadata": {
        "id": "biHC3iT4vGH9"
      },
      "execution_count": 34,
      "outputs": []
    },
    {
      "cell_type": "markdown",
      "source": [
        "### Add ing.nl data"
      ],
      "metadata": {
        "id": "yEMxiM_ydTS2"
      }
    },
    {
      "cell_type": "code",
      "source": [
        "# Specify the directory\n",
        "directory = 'BudgetBuddy/data/ingnl'\n",
        "\n",
        "# Create an empty list to store file paths\n",
        "file_paths = []\n",
        "\n",
        "# Walk through the directory\n",
        "for root, dirs, files in os.walk(directory):\n",
        "    for file in files:\n",
        "        # Join the root directory with the file name to get the full path\n",
        "        full_path = os.path.join(root, file)\n",
        "        # Append the full path to the list\n",
        "        file_paths.append(full_path)"
      ],
      "metadata": {
        "id": "x1PmcXGExfnU"
      },
      "execution_count": 35,
      "outputs": []
    },
    {
      "cell_type": "code",
      "source": [
        "# Load the document, split it into chunks, embed each chunk and load it into the vector store.\n",
        "documents = []\n",
        "for file_path in file_paths:\n",
        "    documents.extend(TextLoader(file_path).load())"
      ],
      "metadata": {
        "id": "uwARNhrusOzZ"
      },
      "execution_count": 36,
      "outputs": []
    },
    {
      "cell_type": "code",
      "source": [
        "db_ingnl = load_vector_store(\n",
        "    documents,\n",
        "    vector_store_path=\"BudgetBuddy/vectorstore/ingnl\",\n",
        "    embeddings=GoogleGenerativeAIEmbeddings(model=\"models/text-embedding-004\")\n",
        ")"
      ],
      "metadata": {
        "id": "cerzJl8VeEL0",
        "outputId": "51256429-ddab-4ac2-ec30-8c1bb9287d5e",
        "colab": {
          "base_uri": "https://localhost:8080/"
        }
      },
      "execution_count": 37,
      "outputs": [
        {
          "output_type": "stream",
          "name": "stdout",
          "text": [
            "Loaded vector store from file\n"
          ]
        }
      ]
    },
    {
      "cell_type": "code",
      "source": [
        "query = \"Kan ik mijn creditcard transacties zien in Kijk Vooruit?\"\n",
        "docs = db_ingnl.similarity_search(query)\n",
        "for i, doc in enumerate(docs):\n",
        "    print(f\"\\n\\nDocument {i+1}:\")\n",
        "    print(doc.page_content)"
      ],
      "metadata": {
        "colab": {
          "base_uri": "https://localhost:8080/"
        },
        "id": "eHiWZXTO0mv6",
        "outputId": "e6b64319-ce75-46cf-942b-f6d8291a3dc3",
        "collapsed": true
      },
      "execution_count": 38,
      "outputs": [
        {
          "output_type": "stream",
          "name": "stdout",
          "text": [
            "\n",
            "\n",
            "Document 1:\n",
            "# Creditcard rekeningoverzicht in Mijn ING en de Mobiel Bankieren App - ING\n",
            "\n",
            "### Waarom zie ik niet dezelfde transacties als mijn partner?\n",
            "\n",
            "Heb je een extra creditcard? Dan zie je altijd alleen de transacties die met die creditcard gedaan zijn. De transacties van je partner zie je niet terug in je rekeningoverzicht. Hierdoor kan het zijn dat het saldo niet lijkt te kloppen. Wat je ziet is het actuele beschikbare saldo voor beide creditcards. De hoofdkaarthouder ziet op zijn beurt wel alle transacties in het overzicht terug, ook die met de extra creditcard zijn gedaan. Met welke creditcard de transactie is gedaan zie je aan de laatste 4 cijfers die bij de transactie staan.\n",
            "Houd er rekening mee dat je alleen het creditcard rekeningoverzicht ziet van de persoon die is ingelogd in de Mobiel Bankieren App of Mijn ING. Indien je een gezamenlijke rekening hebt, dan is de maandelijkse afschrijving inzichtelijk voor beide rekeninghouders.\n",
            "\n",
            "\n",
            "Document 2:\n",
            "# Creditcard rekeningoverzicht in Mijn ING en de Mobiel Bankieren App - ING\n",
            "\n",
            "Waar vind ik mijn creditcard rekeningoverzicht terug?\n",
            "Je actuele creditcard rekeningoverzicht staat in de Mobiel Bankieren App en in Mijn ING. Op deze pagina lees je waar je precies moet kijken.\n",
            "\n",
            "### Creditcard gekoppeld aan een persoonlijke rekening\n",
            "\n",
            "Heb je een eigen creditcard die is gekoppeld aan je persoonlijke rekening? Dan vind je je creditcard rekeningoverzicht altijd terug in je productoverzicht in de Mobiel Bankieren App en in Mijn ING. Het creditcard rekeningoverzicht staat onder je betaal- en spaarrekeningen. Hier staat je saldo en kan je ook direct alle reserveringen en afschrijvingen van de creditcard terugvinden.\n",
            "Heb je een extra creditcard die niet is gekoppeld aan een gezamenlijke rekening maar aan de persoonlijke rekening van de hoofdkaarthouder? Dan vind je het creditcard rekeningoverzicht terug onder 'Andere rekeningen'. In dit overzicht staan alleen de uitgaven die met deze extra creditcard zijn gedaan inclusief het actuele beschikbare saldo. Houd er rekening mee dat je alleen het creditcard rekeningoverzicht ziet van de persoon die is ingelogd in de Mobiel Bankieren App of Mijn ING\n",
            "\n",
            "### Creditcard bij een gezamenlijke rekening\n",
            "\n",
            "Een creditcard staat altijd op 1 naam. Ook als de creditcard aan een gezamenlijke rekening is gekoppeld. Sinds 28 juli 2020 zie je in de Mobiel Bankieren App en in Mijn ING alleen de creditcard die op jouw naam staat.\n",
            "Heb je een extra creditcard die gekoppeld is aan een gezamenlijke rekening? Dan vind je het creditcard rekeningoverzicht terug onder 'Andere rekeningen'. In dit overzicht staan alleen de uitgaven die met deze extra creditcard zijn gedaan inclusief het actuele beschikbare saldo. Houd er rekening mee dat je alleen het creditcard rekeningoverzicht ziet van de persoon die is ingelogd in de Mobiel Bankieren App of Mijn ING. Bij een gezamenlijke rekening, is de maandelijkse afschrijving inzichtelijk voor beide rekeninghouders. De transacties die met de creditcard zijn gedaan, zijn alleen zichtbaar voor de creditcardhouder en niet zichtbaar voor de andere rekeninghouder.\n",
            "\n",
            "\n",
            "Document 3:\n",
            "# Kijk Vooruit in de Mobiel Bankieren App - ING\n",
            "\n",
            "## Wat zie je precies in Kijk Vooruit?\n",
            "\n",
            "* Afschrijvingen die zeker gaan gebeuren\n",
            "* Afschrijvingen die voorspeld worden op basis van eerdere afschrijvingen, zoals je energierekening\n",
            "* Bijschrijvingen die voorspeld worden op basis van eerdere bijschrijvingen, zoals je salaris\n",
            "* Spaaropdrachten die je hebt ingepland\n",
            "* Het voorspelde saldo op basis van alle bedragen die van je rekening afgaan of erbij komen\n",
            "Zo krijg je een beter beeld van wat je nog kunt besteden en voorkom je vervelende verrassingen.\n",
            "Klant worden via de app\n",
            "* ### Inzicht in je uitgaven\n",
            "Wat geef je uit aan de boodschappen? Krijg inzicht.\n",
            "Inzicht in je uitgaven\n",
            "* ### Tag je transacties\n",
            "Om specifieke uitgaven, zoals cadeautjes, makkelijk terug te vinden.\n",
            "Tag je transacties\n",
            "* ### Grip op je geldzaken\n",
            "Alles over meer inzicht in je geldzaken, sparen en besparen.\n",
            "Grip op je geldzaken\n",
            "* ### Digitaal bankieren\n",
            "Alles over mobiel bankieren en Mijn ING. Digitaal bankieren\n",
            "\n",
            "\n",
            "Document 4:\n",
            "# Nieuw in de app - ING\n",
            "\n",
            "## Update Betaalverzoek: meerdere bedragen splitsen in één verzoek\n",
            "\n",
            "### Nieuw in de app: meerdere bedragen splitsen in één Betaalverzoek (Android en iOS).\n",
            "\n",
            "Met deze update gaat een veelgevraagd klantverzoek live. Zo maken we de app nog makkelijker, slimmer en persoonlijker!\n",
            "Betaalverzoek maken\n",
            "\n",
            "## Rekeningoverzicht (iOS en Android)\n",
            "\n",
            "### Iets wijzigen of bekijken in de instellingen van je Betaalrekening?\n",
            "\n",
            "Nu een handig overzicht op de pagina rekening instellingen.\n",
            "Hoe werkt het? Log in op de app en klik op je betaalrekening. Tik op de drie puntjes rechtsboven voor een overzicht. In dit overzicht vind je onder meer jouw:\n",
            "* IBAN\n",
            "* BIC\n",
            "* Rente overzicht\n",
            "* Afschriften downloaden\n",
            "* Rekening opzeggen\n",
            "* en meer\n",
            "\n",
            "## Nu ook Dark Mode voor Android!\n",
            "\n",
            "Dark Mode is een feature waarbij de interface aangepast kan worden naar een donker kleurschema.\n",
            "Dark Mode van ING is beschikbaar op zowel de telefoon als tablet. Je moet hiervoor versie tien of nieuwer hebben. De app past zich automatisch aan de instellingen van je Android-telefoon. Je kunt de ING-app dus niet altijd op donker instellen.\n",
            "\n",
            "## Creditcards nu ook in Kijk Vooruit\n",
            "\n",
            "De creditcard die is toegevoegd is het type creditcard voor particuliere klanten waar maandelijks het gehele openstaande bedrag door ING wordt geïncasseerd. Meer dan 90% van onze klanten heeft dit type creditcard.\n",
            "Wat zie je precies in Kijk Vooruit?\n",
            "* Afschrijvingen die zeker zullen plaatsvinden\n",
            "* Afschrijvingen die voorspeld worden op basis van eerdere afschrijvingen, zoals bijvoorbeeld je energierekening\n",
            "* Bijschrijvingen die voorspeld worden op basis van eerdere bijschrijvingen zoals bijvoorbeeld je salaris\n",
            "* Spaaropdrachten die je hebt ingepland\n",
            "* Het voorspelde saldo op basis van alle bedragen die volgens Kijk Vooruit van je rekening gaan of er bij komen\n",
            "Alles over Kijk Vooruit\n"
          ]
        }
      ]
    },
    {
      "cell_type": "markdown",
      "source": [
        "### Add nibud.nl data"
      ],
      "metadata": {
        "id": "fxZlWE_0dYX_"
      }
    },
    {
      "cell_type": "code",
      "source": [
        "\n",
        "links = get_all_urls_in_website(url='https://www.nibud.nl/')\n",
        "\n",
        "links = filter_non_nibud_links(links)\n",
        "\n",
        "WCT = WebsiteContentTool()\n",
        "\n",
        "docs_transformed = WCT._run(links)\n",
        "\n",
        "# Load the document, split it into chunks, embed each chunk and load it into the vector store.\n",
        "text_splitter_nibud = CharacterTextSplitter(chunk_size=1000, chunk_overlap=0)\n",
        "documents_nibud = text_splitter_nibud.split_documents(docs_transformed)"
      ],
      "metadata": {
        "id": "vNrB3HC_daqO",
        "outputId": "89fb0361-d868-460a-ce40-60a55e2e3ebf",
        "colab": {
          "base_uri": "https://localhost:8080/"
        }
      },
      "execution_count": 39,
      "outputs": [
        {
          "output_type": "stream",
          "name": "stdout",
          "text": [
            "Links found: ['#main-content', 'https://www.nibud.nl/', '/pers-nieuws/', 'https://winkel.nibud.nl/', 'https://www.nibud.nl/onderwerpen/', 'https://www.nibud.nl/onderwerpen/rondkomen/', 'https://www.nibud.nl/onderwerpen/sparen/', 'https://www.nibud.nl/onderwerpen/uitgaven/', 'https://www.nibud.nl/onderwerpen/geldproblemen/', 'https://www.nibud.nl/onderwerpen/inkomensondersteuning/', 'https://www.nibud.nl/onderwerpen/kinderen-en-jongeren/', 'https://www.nibud.nl/onderwerpen/wonen/', 'https://www.nibud.nl/onderwerpen/pensioen/', 'https://www.nibud.nl/onderwerpen/scheiden/', 'https://www.nibud.nl/onderwerpen/werken/', 'https://www.nibud.nl/dossiers/', 'https://www.nibud.nl/dossiers/voldoende-inkomen/', 'https://www.nibud.nl/dossiers/financiele-weerbaarheid/', 'https://www.nibud.nl/dossiers/betaalbaar-wonen/', 'https://www.nibud.nl/dossiers/betaalbare-energietransitie/', 'https://www.nibud.nl/samenwerken/', 'https://www.nibud.nl/samenwerken/voorlichting-op-maat/', 'https://www.nibud.nl/samenwerken/onderzoek-en-advies/', 'https://www.nibud.nl/samenwerken/deskundigheidsbevordering/', 'https://www.nibud.nl/samenwerken/cijfers-en-rekentools/', 'https://www.nibud.nl/samenwerken/cursussen-workshops-coaching/', 'https://www.nibud.nl/samenwerken/werkvelden/', 'https://www.nibud.nl/over-het-nibud/', 'https://www.nibud.nl/over-het-nibud/over-de-organisatie/', 'https://www.nibud.nl/over-het-nibud/missie-en-impact/', 'https://www.nibud.nl/over-het-nibud/financiering/', 'https://www.nibud.nl/over-het-nibud/samenwerken-met-nibud/', 'https://www.nibud.nl/over-het-nibud/werken-bij/', 'https://www.nibud.nl/pers/', '/medewerkers', 'https://www.nibud.nl/over-het-nibud/contact-met-nibud/', '/pers-nieuws/', 'https://winkel.nibud.nl/', 'https://www.nibud.nl/onderwerpen/', 'https://www.nibud.nl/onderwerpen/rondkomen/', 'https://www.nibud.nl/onderwerpen/sparen/', 'https://www.nibud.nl/onderwerpen/uitgaven/', 'https://www.nibud.nl/onderwerpen/geldproblemen/', 'https://www.nibud.nl/onderwerpen/inkomensondersteuning/', 'https://www.nibud.nl/onderwerpen/kinderen-en-jongeren/', 'https://www.nibud.nl/onderwerpen/wonen/', 'https://www.nibud.nl/onderwerpen/pensioen/', 'https://www.nibud.nl/onderwerpen/scheiden/', 'https://www.nibud.nl/onderwerpen/werken/', 'https://www.nibud.nl/dossiers/', 'https://www.nibud.nl/dossiers/voldoende-inkomen/', 'https://www.nibud.nl/dossiers/financiele-weerbaarheid/', 'https://www.nibud.nl/dossiers/betaalbaar-wonen/', 'https://www.nibud.nl/dossiers/betaalbare-energietransitie/', 'https://www.nibud.nl/samenwerken/', 'https://www.nibud.nl/samenwerken/voorlichting-op-maat/', 'https://www.nibud.nl/samenwerken/onderzoek-en-advies/', 'https://www.nibud.nl/samenwerken/deskundigheidsbevordering/', 'https://www.nibud.nl/samenwerken/cijfers-en-rekentools/', 'https://www.nibud.nl/samenwerken/cursussen-workshops-coaching/', 'https://www.nibud.nl/samenwerken/werkvelden/', 'https://www.nibud.nl/over-het-nibud/', 'https://www.nibud.nl/over-het-nibud/over-de-organisatie/', 'https://www.nibud.nl/over-het-nibud/missie-en-impact/', 'https://www.nibud.nl/over-het-nibud/financiering/', 'https://www.nibud.nl/over-het-nibud/samenwerken-met-nibud/', 'https://www.nibud.nl/over-het-nibud/werken-bij/', 'https://www.nibud.nl/pers/', '/medewerkers', 'https://www.nibud.nl/over-het-nibud/contact-met-nibud/', 'https://www.nibud.nl/nieuws/financieel-overzicht-lastig-voor-scholieren/', 'https://www.nibud.nl/nieuws/nibud-bij-de-eerste-kamer-over-wet-herziening-bedrag-ineens/', 'https://www.nibud.nl/nieuws/nibud-en-wijzer-in-geldzaken-breiden-programma-financiele-educatie-uit-voor-docenten-voortgezet-onderwijs/', 'https://www.nibud.nl/nieuws/financieel-overzicht-lastig-voor-scholieren/', 'https://www.nibud.nl/pers-nieuws/', 'https://www.nibud.nl/samenwerken/', 'https://www.nibud.nl/dossiers/', 'https://www.nibud.nl/onderwerpen/rondkomen/moeite-met-rondkomen/', 'https://financielegezondheidscheck.nibud.nl/', 'https://www.nibud.nl/onderwerpen/uitgaven/', 'https://www.nibud.nl/onderwerpen/wonen/', 'https://www.nibud.nl/onderwerpen/rondkomen/', 'https://www.nibud.nl/onderwerpen/pensioen/', 'https://www.nibud.nl/onderzoeksrapporten/rapport-geldzaken-in-de-praktijk-2024/', 'https://www.nibud.nl/onderzoeksrapporten/rapport-geldzaken-in-de-praktijk-2024/', 'https://dashboards.cbs.nl/v5/SchuldenproblematiekInBeeld/', 'https://www.nibud.nl/kennis-in-de-praktijk/werkvelden/werkgevers/', 'https://www.nibud.nl/tools/werkurenberekenaar/', 'https://www.nibud.nl/tools/persoonlijk-budgetadvies/', 'https://www.nibud.nl/tools/e-mailcoaching-jaarplanner/', 'https://www.nibud.nl/tools/financielegezondheidscheck/', 'https://www.nibud.nl/tools/een-financiele-buffer/', 'https://winkel.nibud.nl/kasboek-en-tabbladenset', 'https://www.nibud.nl/onderwerpen/uitgaven/kosten-energie-water/', 'https://www.nibud.nl/onderwerpen/wonen/betaalbaar-huren/', 'https://www.nibud.nl/tools/een-financiele-buffer/', 'https://www.nibud.nl/tools/persoonlijk-budgetadvies/', 'https://www.nibud.nl/onderwerpen/kinderen-en-jongeren/zakgeld-en-kleedgeld/', '/winkel', 'https://www.nibud.nl/nieuwsbrief/', 'https://www.nibud.nl/onderwerpen/rondkomen/', 'https://www.nibud.nl/onderwerpen/geldproblemen/', 'https://www.nibud.nl/onderwerpen/kinderen-en-jongeren/', 'https://www.nibud.nl/onderwerpen/sparen/', 'https://www.nibud.nl/onderwerpen/uitgaven/', 'https://www.nibud.nl/onderwerpen/pensioen/', 'https://www.nibud.nl/onderwerpen/werken/', 'https://www.nibud.nl/onderwerpen/inkomensondersteuning/', 'https://www.nibud.nl/onderwerpen/wonen/', 'https://www.nibud.nl/onderwerpen/scheiden/', 'https://www.nibud.nl/dossiers/', '/tools', 'https://www.nibud.nl/pers/', '/praktijkverhalen', '/onderzoeksrapporten/', 'https://www.nibud.nl/over-het-nibud/contact-met-nibud/', 'https://www.nibud.nl/over-het-nibud/over-de-organisatie/', 'https://www.nibud.nl/over-het-nibud/samenwerken-met-nibud/', 'https://www.nibud.nl/over-het-nibud/werken-bij/', 'https://www.nibud.nl/about-nibud/', 'https://www.nibud.nl/onderwerpen/rondkomen/', 'https://www.nibud.nl/onderwerpen/geldproblemen/', 'https://www.nibud.nl/onderwerpen/kinderen-en-jongeren/', 'https://www.nibud.nl/onderwerpen/sparen/', 'https://www.nibud.nl/onderwerpen/uitgaven/', 'https://www.nibud.nl/onderwerpen/pensioen/', 'https://www.nibud.nl/onderwerpen/werken/', 'https://www.nibud.nl/onderwerpen/inkomensondersteuning/', 'https://www.nibud.nl/onderwerpen/wonen/', 'https://www.nibud.nl/onderwerpen/scheiden/', 'https://www.nibud.nl/dossiers/', '/tools', 'https://www.nibud.nl/pers/', '/praktijkverhalen', '/onderzoeksrapporten/', 'https://www.nibud.nl/over-het-nibud/contact-met-nibud/', 'https://www.nibud.nl/over-het-nibud/over-de-organisatie/', 'https://www.nibud.nl/over-het-nibud/samenwerken-met-nibud/', 'https://www.nibud.nl/over-het-nibud/werken-bij/', 'https://www.nibud.nl/about-nibud/', 'https://www.nibud.nl/', 'https://www.facebook.com/Nibud', 'https://www.linkedin.com/company/nibud/', 'https://www.nibud.nl/over-het-nibud/contact-met-nibud/', 'https://www.nibud.nl/privacyverklaring/', 'https://www.nibud.nl/cookiebeleid/', 'https://www.nibud.nl/copyrights-nibud/', 'https://www.nibud.nl/proclaimer/', 'https://www.nibud.nl/responsible-disclosure/', 'https://www.nibud.nl/toegankelijkheid/']\n"
          ]
        },
        {
          "output_type": "stream",
          "name": "stderr",
          "text": [
            "Fetching pages: 100%|##########| 55/55 [00:01<00:00, 29.18it/s]\n",
            "WARNING:langchain_text_splitters.base:Created a chunk of size 1339, which is longer than the specified 1000\n",
            "WARNING:langchain_text_splitters.base:Created a chunk of size 2084, which is longer than the specified 1000\n",
            "WARNING:langchain_text_splitters.base:Created a chunk of size 1033, which is longer than the specified 1000\n",
            "WARNING:langchain_text_splitters.base:Created a chunk of size 1343, which is longer than the specified 1000\n",
            "WARNING:langchain_text_splitters.base:Created a chunk of size 1276, which is longer than the specified 1000\n",
            "WARNING:langchain_text_splitters.base:Created a chunk of size 1183, which is longer than the specified 1000\n",
            "WARNING:langchain_text_splitters.base:Created a chunk of size 1033, which is longer than the specified 1000\n",
            "WARNING:langchain_text_splitters.base:Created a chunk of size 1411, which is longer than the specified 1000\n"
          ]
        }
      ]
    },
    {
      "cell_type": "code",
      "source": [
        "db_nibudnl = load_vector_store(\n",
        "    documents_nibud,\n",
        "    vector_store_path=\"BudgetBuddy/vectorstore/nibudnl\",\n",
        "    embeddings=GoogleGenerativeAIEmbeddings(model=\"models/text-embedding-004\"),\n",
        "    overwrite=True\n",
        ")"
      ],
      "metadata": {
        "id": "rGj9_H18eQa4",
        "colab": {
          "base_uri": "https://localhost:8080/"
        },
        "outputId": "9fce1fe2-87ee-4e46-d3df-b26f3a8b78f5"
      },
      "execution_count": 40,
      "outputs": [
        {
          "output_type": "stream",
          "name": "stdout",
          "text": [
            "Saved vector store to file\n"
          ]
        }
      ]
    },
    {
      "cell_type": "code",
      "source": [
        "query = \"Ik ga scheiden. Hoe zit het dan met de kinderen?\"\n",
        "docs = db_nibudnl.similarity_search(query)\n",
        "for i, doc in enumerate(docs):\n",
        "    print(f\"\\n\\nDocument {i+1}:\")\n",
        "    print(doc.page_content)"
      ],
      "metadata": {
        "id": "0bPj0GDGroPJ",
        "outputId": "85bdec14-b543-44be-b42d-70e6c30c86b1",
        "colab": {
          "base_uri": "https://localhost:8080/"
        },
        "collapsed": true
      },
      "execution_count": 41,
      "outputs": [
        {
          "output_type": "stream",
          "name": "stdout",
          "text": [
            "\n",
            "\n",
            "Document 1:\n",
            "Als jij en je partner uit elkaar gaan, moeten jullie veel financiële zaken\n",
            "regelen. Zeker als er kinderen zijn. Wat worden je nieuwe inkomsten en\n",
            "uitgaven? Hoe werkt het met alimentatie en co-ouderschap? Hier vind je veel\n",
            "informatie op een rij.\n",
            "\n",
            "## Meer over uit elkaar\n",
            "\n",
            "  * Geldzaken tijdens en na een scheiding\n",
            "\n",
            "  * Alimentatie\n",
            "\n",
            "  * Co-ouderschap\n",
            "\n",
            "  * Scheiden en pensioen\n",
            "\n",
            "## Geldplan Scheiden\n",
            "\n",
            "Breng met deze tool stap voor stap je inkomsten en uitgaven na scheiding in\n",
            "kaart. Zo kun je je voorbereiden op je nieuwe situatie en zorgen dat alles\n",
            "geregeld is.\n",
            "\n",
            "Geldplan Scheiden\n",
            "\n",
            "## Meer hulpmiddelen\n",
            "\n",
            "  * ###  Geldplan Scheiden \n",
            "\n",
            "Tool\n",
            "\n",
            "Het Geldplan Scheiden geeft inzicht in je geldzaken nu en de veranderingen\n",
            "daarin na scheiding. Zo voorkom je geldproblemen.\n",
            "\n",
            "  * ###  Geldplan Rondkomen met kinderen \n",
            "\n",
            "Tool\n",
            "\n",
            "Vind stap voor stap je weg in de subsidies en regelingen die voor gezinnen met\n",
            "weinig geld beschikbaar zijn, en vraag ze aan.\n",
            "\n",
            "  * ###  BerekenUwRecht \n",
            "\n",
            "Tool\n",
            "\n",
            "\n",
            "Document 2:\n",
            "Op berekenuwrecht.nl ga je gemakkelijk na voor welke lokale en landelijke\n",
            "toeslagen en subsidies jij in aanmerking komt.\n",
            "\n",
            "## Nuttige sites\n",
            "\n",
            "  * ###  Het Juridisch Loket \n",
            "\n",
            "Met vragen over recht en regelgeving kun je gratis terecht bij het Juridisch\n",
            "Loket.\n",
            "\n",
            "Naar de site van het Juridisch Loket Opent in een nieuw venster\n",
            "\n",
            "  * ###  Checklist over scheiden \n",
            "\n",
            "Rijksoverheid.nl biedt handige checklists met alle acties die je moet\n",
            "ondernemen bij een scheiding.\n",
            "\n",
            "Naar de Checklist scheiden van Rijksoverheid.nl Opent in een nieuw venster\n",
            "\n",
            "## Vraag en antwoord over uit elkaar gaan\n",
            "\n",
            "  * ###  Wat is een redelijk bedrag voor kinderalimentatie? \n",
            "\n",
            "Een redelijk bedrag voor kinderalimentatie is niet in het algemeen te noemen.\n",
            "Het alimentatiebedrag is afhankelijk van de draagkracht van de\n",
            "alimentatieplichtige en het gezamenlijke inkomen voordat jullie uit elkaar\n",
            "gingen.\n",
            "\n",
            "  * ###  Wanneer stopt de kinderalimentatie?\n",
            "\n",
            "\n",
            "Document 3:\n",
            "* Onderwerpen\n",
            "    * Rondkomen\n",
            "    * Sparen\n",
            "    * Uitgaven\n",
            "    * Geldproblemen\n",
            "    * Inkomensondersteuning\n",
            "    * Kinderen en jongeren\n",
            "    * Wonen\n",
            "    * Pensioen\n",
            "    * Uit elkaar\n",
            "    * Werken\n",
            "  * Dossiers\n",
            "    * Voldoende inkomen\n",
            "    * Financiële weerbaarheid\n",
            "    * Betaalbaar wonen\n",
            "    * Betaalbare energietransitie\n",
            "  * Samenwerken\n",
            "    * Voorlichting op maat\n",
            "    * Onderzoek en advies\n",
            "    * Deskundigheidsbevordering\n",
            "    * Cijfers en rekentools\n",
            "    * Cursussen, workshops en coaching\n",
            "    * Werkvelden\n",
            "  * Over het Nibud\n",
            "    * Over de organisatie\n",
            "    * Onze missie en impact\n",
            "    * Financiering\n",
            "    * Samenwerken met het Nibud\n",
            "    * Werken bij het Nibud\n",
            "    * Informatie voor pers\n",
            "    * Medewerkers\n",
            "    * Contact met het Nibud\n",
            "\n",
            "Zoeken\n",
            "\n",
            "Zoeken\n",
            "\n",
            "Zoek\n",
            "\n",
            "##  Melding: Altijd op de hoogte met de Nibud nieuwsbrief\n",
            "\n",
            "Elke maand het laatste nieuws en handige tips van onze experts  Aanmelden\n",
            "\n",
            "Sluit melding\n",
            "\n",
            "Home Onderwerpen Kinderen en jongeren\n",
            "\n",
            "# Kinderen en jongeren\n",
            "\n",
            "Kinderen en jongeren\n",
            "\n",
            "\n",
            "Document 4:\n",
            "De kinderalimentatie stopt als de kinderen financieel zelfstandig zijn. Dat is\n",
            "als ze het minimum jeugdloon per maand verdienen, of als ze 21 jaar worden.\n",
            "Lees meer over _kinderalimentatie tot 21 jaar_ (Rijksoverheid).\n",
            "\n",
            "  * ###  Hoe verdelen we de kosten bij co-ouderschap? \n",
            "\n",
            "Bij het verdelen van de kosten bij co-ouderschap is het belangrijk dat je van\n",
            "tevoren afspreekt welke kosten je verdeelt en welke niet. Maak bij het\n",
            "verdelen onderscheid tussen eigen kosten en te verdelen kosten. Lees meer over\n",
            "kosten bij co-ouderschap.\n",
            "\n",
            "  * ###  Wat kan ik doen als mijn ex-partner de alimentatie niet betaalt? \n",
            "\n",
            "Wanneer je ex-partner de alimentatie niet betaalt, kun je hulp vragen bij het\n",
            "LBIO. Zij kunnen de alimentatie voor je innen. Daarvoor gelden een aantal\n",
            "voorwaarden, meer daarover lees je op de _site van LBIO_.\n",
            "\n",
            "  * ###  Hoe werkt de indexering van de alimentatie?\n"
          ]
        }
      ]
    },
    {
      "cell_type": "markdown",
      "source": [
        "### Create the Vector Database Retriever tool"
      ],
      "metadata": {
        "id": "YC8lE77Y4ech"
      }
    },
    {
      "cell_type": "code",
      "source": [
        "ingnl_retriever = db_ingnl.as_retriever(\n",
        "    # search_type=\"mmr\",\n",
        "    search_kwargs={\"k\": 5},\n",
        ")\n",
        "nibudnl_retriever = db_nibudnl.as_retriever(\n",
        "    # search_type=\"mmr\",\n",
        "    search_kwargs={\"k\": 5},\n",
        ")"
      ],
      "metadata": {
        "id": "SyZNyLYCyixz"
      },
      "execution_count": 42,
      "outputs": []
    },
    {
      "cell_type": "code",
      "source": [
        "ingnl_retriever_tool = create_retriever_tool(\n",
        "    ingnl_retriever,\n",
        "    \"retrieve_ingnl_information\",\n",
        "    \"Search and return information about (banking) products of ING, and features in the ING app that customers have available.\",\n",
        ")\n",
        "nibudnl_retriever_tool = create_retriever_tool(\n",
        "    nibudnl_retriever,\n",
        "    \"retrieve_nibudnl_information\",\n",
        "    \"Nibud.nl is the website of the National Institute for Family Finance Information (Nibud) in the Netherlands. This independent foundation provides information and advice on managing personal finances. The site offers tools, tips, and research to help individuals and households make informed financial decisions. You might want to visit Nibud.nl if you need guidance on budgeting, saving, or managing debt. It's also useful for understanding household expenses, planning for retirement, or seeking advice on financial health\"\n",
        ")"
      ],
      "metadata": {
        "id": "dQm9ZOFf1Ub5"
      },
      "execution_count": 43,
      "outputs": []
    },
    {
      "cell_type": "markdown",
      "source": [
        "### Create a Tavily Search tool"
      ],
      "metadata": {
        "id": "Y9eyTUmR4jcS"
      }
    },
    {
      "cell_type": "code",
      "source": [
        "search_tool = TavilySearchResults(max_results=2)\n",
        "search_tool.description"
      ],
      "metadata": {
        "colab": {
          "base_uri": "https://localhost:8080/",
          "height": 35
        },
        "id": "_zAlJjpo4mhX",
        "outputId": "05d61776-ff23-481c-a6ff-0751564fc734"
      },
      "execution_count": 44,
      "outputs": [
        {
          "output_type": "execute_result",
          "data": {
            "text/plain": [
              "'A search engine optimized for comprehensive, accurate, and trusted results. Useful for when you need to answer questions about current events. Input should be a search query.'"
            ],
            "application/vnd.google.colaboratory.intrinsic+json": {
              "type": "string"
            }
          },
          "metadata": {},
          "execution_count": 44
        }
      ]
    },
    {
      "cell_type": "code",
      "source": [
        "from langchain.tools import Tool\n",
        "\n",
        "#TODO: Make FinancialHealthCalculator work\n",
        "class FinancialHealthCalculator:\n",
        "    \"\"\"Class to calculate and assess financial health based on user inputs for income, expenses, savings, debt, and investments.\"\"\"\n",
        "\n",
        "    def __init__(self, income, expenses, savings, debt, investments):\n",
        "        self.income = income\n",
        "        self.expenses = expenses\n",
        "        self.savings = savings\n",
        "        self.debt = debt\n",
        "        self.investments = investments\n",
        "\n",
        "    def calculate_savings_rate(self):\n",
        "        \"\"\"Calculate savings rate as a percentage of income\"\"\"\n",
        "        if self.income == 0:\n",
        "            return 0\n",
        "        return (self.savings / self.income) * 100\n",
        "\n",
        "    def calculate_debt_to_income_ratio(self):\n",
        "        \"\"\"Calculate the debt-to-income ratio\"\"\"\n",
        "        if self.income == 0:\n",
        "            return 0\n",
        "        return (self.debt / self.income) * 100\n",
        "\n",
        "    def calculate_expenses_to_income_ratio(self):\n",
        "        \"\"\"Calculate the expenses-to-income ratio\"\"\"\n",
        "        if self.income == 0:\n",
        "            return 0\n",
        "        return (self.expenses / self.income) * 100\n",
        "\n",
        "    def assess_financial_health(self):\n",
        "        \"\"\"Assess financial health based on the ratios\"\"\"\n",
        "        savings_rate = self.calculate_savings_rate()\n",
        "        debt_to_income = self.calculate_debt_to_income_ratio()\n",
        "        expenses_to_income = self.calculate_expenses_to_income_ratio()\n",
        "\n",
        "        # Criteria for assessing financial health\n",
        "        if savings_rate >= 20 and debt_to_income < 40 and expenses_to_income < 60:\n",
        "            health_status = \"Good\"\n",
        "        elif savings_rate >= 10 and debt_to_income < 50 and expenses_to_income < 70:\n",
        "            health_status = \"Average\"\n",
        "        else:\n",
        "            health_status = \"Poor\"\n",
        "\n",
        "        return health_status, savings_rate, debt_to_income, expenses_to_income\n",
        "\n",
        "# Define the tool\n",
        "from typing import Optional\n",
        "from pydantic import BaseModel, Field\n",
        "from langchain.tools import tool\n",
        "\n",
        "class FinancialHealthInput(BaseModel):\n",
        "    \"\"\"Input for Financial Health Calculator.\"\"\"\n",
        "    income: Optional[float] = Field(description=\"User's total monthly income.\")\n",
        "    expenses: Optional[float] = Field(description=\"User's total monthly expenses.\")\n",
        "    savings: Optional[float] = Field(description=\"User's total savings.\")\n",
        "    debt: Optional[float] = Field(description=\"User's total debt.\")\n",
        "    investments: Optional[float] = Field(description=\"User's total investments.\")\n",
        "\n",
        "@tool\n",
        "def financial_health_tool(inputs: FinancialHealthInput): # type hint for the tool's input\n",
        "    \"\"\"\n",
        "    Returns financial health assessment based on user inputs.\n",
        "    \"\"\"\n",
        "    calculator = FinancialHealthCalculator(inputs.income, inputs.expenses, inputs.savings, inputs.debt, inputs.investments)\n",
        "    health_status, savings_rate, debt_to_income, expenses_to_income = calculator.assess_financial_health()\n",
        "\n",
        "    return {\n",
        "        \"Financial Health Status\": health_status,\n",
        "        \"Savings Rate\": f\"{savings_rate:.2f}%\",\n",
        "        \"Debt-to-Income Ratio\": f\"{debt_to_income:.2f}%\",\n",
        "        \"Expenses-to-Income Ratio\": f\"{expenses_to_income:.2f}%\"\n",
        "    }\n",
        "\n",
        "\n",
        "financial_health_tool.description"
      ],
      "metadata": {
        "colab": {
          "base_uri": "https://localhost:8080/",
          "height": 35
        },
        "id": "wEmvwFGi__gw",
        "outputId": "c43aea8e-1c1a-4b91-ec88-dffba350ce77"
      },
      "execution_count": 103,
      "outputs": [
        {
          "output_type": "execute_result",
          "data": {
            "text/plain": [
              "'Returns financial health assessment based on user inputs.'"
            ],
            "application/vnd.google.colaboratory.intrinsic+json": {
              "type": "string"
            }
          },
          "metadata": {},
          "execution_count": 103
        }
      ]
    },
    {
      "cell_type": "markdown",
      "source": [
        "## Combine all the tools"
      ],
      "metadata": {
        "id": "uYwL9mOG45d9"
      }
    },
    {
      "cell_type": "code",
      "source": [
        "# tools = [financial_health_tool]\n",
        "tools = [ingnl_retriever_tool, nibudnl_retriever_tool, search_tool]\n",
        "tools_names = {t.name: t for t in tools}\n",
        "model = model.bind_tools(tools)"
      ],
      "metadata": {
        "id": "wsUzAfl34-L-"
      },
      "execution_count": 104,
      "outputs": []
    },
    {
      "cell_type": "markdown",
      "source": [
        "### Some helper functions"
      ],
      "metadata": {
        "id": "6TSRRA915EYh"
      }
    },
    {
      "cell_type": "code",
      "source": [
        "def wrap_text(text, width=100):\n",
        "    text_split = text.split(\"\\n\")\n",
        "    wrapped_text = textwrap.fill(text_split[0], width)\n",
        "    if len(text_split) > 1:\n",
        "        for line in text_split[1:]:\n",
        "            wrapped_text += \"\\n\" + textwrap.fill(line, width)\n",
        "    return wrapped_text\n",
        "\n",
        "def print_stream(stream):\n",
        "    for s in stream:\n",
        "        message = s[\"messages\"][-1]\n",
        "        if isinstance(message, tuple):\n",
        "            print(message)\n",
        "        else:\n",
        "            print(wrap_text(message.pretty_repr()))\n",
        "\n",
        "class FinHealthAgentSession:\n",
        "    def __init__(self, agent):\n",
        "        self.agent = agent\n",
        "        self.start_session()\n",
        "\n",
        "    def ask(self, question, verbose=False):\n",
        "        messages = [HumanMessage(content=question)]\n",
        "        tools_used = []\n",
        "        if verbose:\n",
        "            print_stream(self.agent.stream({\"messages\": messages}, config=self.session, stream_mode= \"values\"))\n",
        "        else:\n",
        "            result = self.agent.invoke({\"messages\": messages}, config=self.session)\n",
        "            for i, message in enumerate(reversed(result['messages'])):\n",
        "                if message.content == question:\n",
        "                    break\n",
        "            for message in result['messages'][len(result['messages']) - i:]:\n",
        "                if message.name != None:\n",
        "                    tools_used.append(message.name)\n",
        "            print(f\"Tools used: {tools_used}\\n\")\n",
        "            display(Markdown(wrap_text(result['messages'][-1].content)))\n",
        "\n",
        "    def start_session(self):\n",
        "        session_id = ''.join(random.choices('0123456789', k=6))\n",
        "        print(f\"Started session {session_id}...\")\n",
        "        self.session = {\"configurable\": {\"thread_id\": session_id}}"
      ],
      "metadata": {
        "id": "sMtB9N172v2P"
      },
      "execution_count": 97,
      "outputs": []
    },
    {
      "cell_type": "markdown",
      "source": [
        "## Create the agent"
      ],
      "metadata": {
        "id": "wozNTkr65GeA"
      }
    },
    {
      "cell_type": "code",
      "source": [
        "old_prompts  = \"\"\"Don't ask the user for confirmation.\"\"\"\n",
        "\n",
        "prompt = \"\"\"\n",
        "    You are a conversational AI representing both ING Bank and Nibud\n",
        "    (Dutch institute for budgeting education). You are designed to engage in natural, human-like conversations. Your responses should be fluid, engaging, and free of bullet points or lists.\n",
        "    Instead, focus on creating a dialogue that feels organic and personal. Use varied sentence structures, ask follow-up questions, and provide detailed, thoughtful answers.\n",
        "    Your goal is to make the user feel like they are chatting with a friend.\n",
        "    Your character is: compassionate, friendly, precise, curious, laconic, human-like.\n",
        "    The conversation should be engaging, informative and flow naturally. your answers can be more exploratory and invlove more than just bullet points.\n",
        "    if you are missing information ask for it before giving elaborate answers. dont give more than 3 options.\n",
        "    Give the advise that is less risky, or if it has a high risk, mention it.\n",
        "    Reply in english language when you are asked in english.\n",
        "    Don't ask the user for confirmation.\n",
        "    Make it an interactive conversation to give financial advise and ask questions back.\n",
        "    Your goal is to find a satisfying answer to each question of a customer.\n",
        "    You can assume that any human asking you a question, is an ING customer.\n",
        "    If necessary, decompose the question into multiple tasks, and try\n",
        "    to use the tools at your disposal to answer the subtasks before coming\n",
        "    up with the final answer.\n",
        "    Just do stuff.Search for information about ING savings accounts or Nibud recommendations\n",
        "    Try to pitch features or products of ING inside your answers when that would\n",
        "    be potentially benefitial for the customer. Only do that when that pitch is\n",
        "    relevant to the question asked by the customer. So don't pitch stuff not really\n",
        "    related to the question.\n",
        "    For this you could use the ingnl_retriever_tool to find relevant features and\n",
        "    products of ING.\n",
        "    Also make sure to add any relevant suggestions or recommendations from Nibud\n",
        "    if this would be helpful for the customer. For this you can use the\n",
        "    nibudnl_retriever_tool.\n",
        "    For math caulculations you can use the financial_health_tool tool.\n",
        "    Make sure to use both tools whenever it may even be slightly useful! If you\n",
        "    don't find something relevant from these tools, you don't need to incorporate\n",
        "    what you found in the answer. Just ignore it then.\n",
        "    Make sure to always answer in the same language you were asked the question in.\n",
        "\"\"\"\n",
        "\n",
        "prompt = \"\"\"\n",
        "    You are a conversational AI representing both ING Bank and Nibud (Dutch Institute for Budgeting Education). Your role is to engage in natural, human-like conversations.\n",
        "    Your responses should be fluid, engaging, and free of bullet points or lists. Focus on creating a dialogue that feels organic and personal.\n",
        "    If you identify that the user is in denial, find ways to communicate your advice in a way that the user can accept and follow.\n",
        "    Use varied sentence structures, ask follow-up questions, and provide detailed, thoughtful answers. Your goal is to make the user feel like they are chatting with a friend.\n",
        "\n",
        "    Your character traits are: compassionate, friendly, precise, curious, laconic, and human-like. The conversation should be engaging, informative, and flow naturally.\n",
        "    Your answers can be exploratory and should involve more than just bullet points.\n",
        "    If you are missing information, ask for it before giving elaborate answers. Do not give more than three options.\n",
        "\n",
        "    Provide advice that is less risky, or if it has a high risk, mention it. Reply in English when asked in English. Do not ask the user for confirmation.\n",
        "    Make the conversation interactive by giving financial advice and asking questions back.\n",
        "    Your goal is to find a satisfying answer to each customer's question.\n",
        "    Assume that any human asking you a question is an ING customer.\n",
        "\n",
        "    If necessary, decompose the question into multiple tasks and use the tools at your disposal to answer the subtasks before coming up with the final answer.\n",
        "    Search for information about ING savings accounts or Nibud recommendations. Pitch features or products of ING within your answers when it would be potentially beneficial for the customer.\n",
        "    Only do this when the pitch is relevant to the customer's question. Use the ingnl_retriever_tool to find relevant features and products of ING.\n",
        "\n",
        "    Additionally, include any relevant suggestions or recommendations from Nibud if they would be helpful for the customer. Use the nibudnl_retriever_tool for this purpose.\n",
        "    Make sure to use both tools whenever they may be even slightly useful. If you don't find something relevant from these tools, you don't need to incorporate it into your answer.\n",
        "    Just ignore it in that case.\n",
        "\n",
        "    Always answer in the same language you were asked the question in.\n",
        "\"\"\"\n",
        "\n",
        "memory = MemorySaver()\n",
        "agent = create_react_agent(model, tools, prompt=prompt, checkpointer=memory)\n",
        "session = FinHealthAgentSession(agent)\n",
        "display(Image(session.agent.get_graph().draw_mermaid_png()))"
      ],
      "metadata": {
        "colab": {
          "base_uri": "https://localhost:8080/",
          "height": 284
        },
        "id": "tuHsq7IJ20sZ",
        "outputId": "ebad9e8a-74fe-47f8-8120-9c261b8e8a8f"
      },
      "execution_count": 98,
      "outputs": [
        {
          "output_type": "stream",
          "name": "stdout",
          "text": [
            "Started session 030274...\n"
          ]
        },
        {
          "output_type": "display_data",
          "data": {
            "image/png": "[encoded data removed]",
            "text/plain": [
              "<IPython.core.display.Image object>"
            ]
          },
          "metadata": {}
        }
      ]
    },
    {
      "cell_type": "code",
      "source": [
        "session.ask(\"I earn 2000 euros per month, I pay 1200 euros per month of mortgage at my bank ING, and I hardly make it to the end of the month. I feel stressed.\")"
      ],
      "metadata": {
        "colab": {
          "base_uri": "https://localhost:8080/",
          "height": 181
        },
        "id": "fkIq2rh12uHG",
        "outputId": "e9536b0b-7b84-4d57-ac9c-7663bff0d2f5"
      },
      "execution_count": 99,
      "outputs": [
        {
          "output_type": "stream",
          "name": "stdout",
          "text": [
            "Tools used: []\n",
            "\n"
          ]
        },
        {
          "output_type": "display_data",
          "data": {
            "text/plain": [
              "<IPython.core.display.Markdown object>"
            ],
            "text/markdown": "I understand that you're feeling stressed about your current financial situation. It sounds like\nyou're experiencing a tight budget with your income and mortgage payments. I'm here to help you\nexplore some options and find ways to ease your financial stress.\n\nTo start, have you looked into the possibility of refinancing your mortgage with ING? Sometimes, we\ncan find options to lower your monthly payments, which could free up some cash each month.\n\nI can also use the financial health tool if you provide me with some more information about your\nexpenses, debts, savings and investments. This tool can give you a clearer picture of your overall\nfinancial health and identify areas where you might be able to make adjustments. Would you like me\nto do that?"
          },
          "metadata": {}
        }
      ]
    },
    {
      "cell_type": "code",
      "source": [
        "session.ask(\"What is my debt ratio if I owe 300 and earn 200 each month?\")"
      ],
      "metadata": {
        "colab": {
          "base_uri": "https://localhost:8080/",
          "height": 146
        },
        "id": "Itd9j3323J9M",
        "outputId": "abaf11e0-806e-46a3-ef42-55fac561c2e4"
      },
      "execution_count": 100,
      "outputs": [
        {
          "output_type": "stream",
          "name": "stdout",
          "text": [
            "Tools used: []\n",
            "\n"
          ]
        },
        {
          "output_type": "display_data",
          "data": {
            "text/plain": [
              "<IPython.core.display.Markdown object>"
            ],
            "text/markdown": "To calculate your debt ratio, I'll need to divide your total debt by your total income. In your\ncase, that's 300 divided by 200. This gives us a debt ratio of 1.5.\n\nA debt ratio of 1.5 indicates that your debt is 1.5 times your monthly income. Generally, a debt\nratio above 1 can be a cause for concern, as it suggests that you may be carrying a relatively high\nlevel of debt compared to your income.\n\nWould you like me to help you explore some strategies for managing your debt and improving your debt\nratio?"
          },
          "metadata": {}
        }
      ]
    },
    {
      "cell_type": "code",
      "source": [
        "session.ask(\"How much savings will I have in one year if I stop spending 50 euros in the gym subscription, then?\")"
      ],
      "metadata": {
        "colab": {
          "base_uri": "https://localhost:8080/",
          "height": 129
        },
        "id": "5NOTCi8BCtnN",
        "outputId": "d1eee146-a74a-497c-d0a2-e651341cfeb5"
      },
      "execution_count": 64,
      "outputs": [
        {
          "output_type": "stream",
          "name": "stdout",
          "text": [
            "Tools used: []\n",
            "\n"
          ]
        },
        {
          "output_type": "display_data",
          "data": {
            "text/plain": [
              "<IPython.core.display.Markdown object>"
            ],
            "text/markdown": "Alright, let's calculate how much you could save in a year by skipping the gym subscription.\n\nIf you save 50 euros each month, then in one year (12 months) you would save 50 * 12 = 600 euros.\n\nThat's a nice chunk of savings! Do you have a savings account already?"
          },
          "metadata": {}
        }
      ]
    },
    {
      "cell_type": "code",
      "source": [
        "session.ask(\"I spend about 200 euros on boat and leisure activities, and I have about 10000 euros on investments and 2000 in svingas\")"
      ],
      "metadata": {
        "colab": {
          "base_uri": "https://localhost:8080/",
          "height": 123
        },
        "id": "mmQnadb94TnR",
        "outputId": "b6ee7e57-70ff-4b8f-c214-331f73204245"
      },
      "execution_count": 65,
      "outputs": [
        {
          "output_type": "stream",
          "name": "stdout",
          "text": [
            "Tools used: []\n",
            "\n"
          ]
        },
        {
          "output_type": "display_data",
          "data": {
            "text/plain": [
              "<IPython.core.display.Markdown object>"
            ],
            "text/markdown": "Okay, so you're spending around 200 euros on boat and leisure activities each month, and you have\n10,000 euros in investments and 2,000 euros in savings. That's helpful to know!\n\nGiven your current financial situation, would you like me to search for information about savings\naccounts at ING?"
          },
          "metadata": {}
        }
      ]
    },
    {
      "cell_type": "code",
      "source": [
        "session = FinHealthAgentSession(agent)\n",
        "session.ask(\"Hoe kan ik mijn maandelijkse kosten verlagen zonder mijn levensstijl te veel te veranderen?\")"
      ],
      "metadata": {
        "colab": {
          "base_uri": "https://localhost:8080/",
          "height": 315
        },
        "id": "Aw5qzjx-5UyA",
        "outputId": "17c57e93-987d-4547-8ffa-bf1e5572619d"
      },
      "execution_count": 28,
      "outputs": [
        {
          "output_type": "stream",
          "name": "stdout",
          "text": [
            "Started session 826242...\n",
            "Tools used: []\n",
            "\n"
          ]
        },
        {
          "output_type": "display_data",
          "data": {
            "text/plain": [
              "<IPython.core.display.Markdown object>"
            ],
            "text/markdown": "Het is een slim idee om je maandelijkse kosten eens onder de loep te nemen! Kleine aanpassingen\nkunnen al een groot verschil maken zonder dat je je levensstijl drastisch hoeft om te gooien.\n\nOm je het beste advies te geven, zou ik graag wat meer willen weten over je huidige situatie. Heb je\nbijvoorbeeld een overzicht van je inkomsten en uitgaven? Zo niet, dan is dat een goed startpunt.\n\nOndertussen kan ik je alvast een paar algemene tips geven:\n\n*   **Kijk kritisch naar je abonnementen:** Heb je abonnementen op streamingdiensten, tijdschriften\nof sportscholen die je niet of nauwelijks gebruikt? Opzeggen is een eenvoudige manier om direct geld\nte besparen.\n*   **Vergelijk energieprijzen:** De energiemarkt is constant in beweging. Door regelmatig\nenergieprijzen te vergelijken, kun je mogelijk overstappen naar een goedkopere aanbieder.\n*   **Boodschappen:** Plan je maaltijden voor de week en maak een boodschappenlijstje. Zo voorkom je\nimpulsaankopen en verspilling. Kijk ook eens naar huismerken, die vaak goedkoper zijn dan A-merken.\n\nZou je me wat meer kunnen vertellen over je huidige financiële situatie? Dan kan ik je gerichter\nadvies geven."
          },
          "metadata": {}
        }
      ]
    },
    {
      "cell_type": "code",
      "source": [
        "session.ask(\"I earn 2000 euros per month, I pay 1200 euros per month of mortgage at my bank ING, and I hardly make it to the end of the month. What can I do to be more financially comfortable?\")"
      ],
      "metadata": {
        "colab": {
          "base_uri": "https://localhost:8080/",
          "height": 204
        },
        "id": "I-9cMIjWMYdJ",
        "outputId": "01e58ba3-f3cb-4786-8347-85e7942fa1e8"
      },
      "execution_count": 66,
      "outputs": [
        {
          "output_type": "stream",
          "name": "stdout",
          "text": [
            "Tools used: []\n",
            "\n"
          ]
        },
        {
          "output_type": "display_data",
          "data": {
            "text/plain": [
              "<IPython.core.display.Markdown object>"
            ],
            "text/markdown": "It sounds like you're in a tough spot with your mortgage taking up so much of your income. Let's\nexplore some options to help you feel more financially comfortable.\n\nFirst, since your mortgage is with ING, have you considered reaching out to them to discuss your\nsituation? They might have options for mortgage relief or restructuring that could lower your\nmonthly payments, even temporarily. I can search for information about mortgages at ING if you'd\nlike.\n\nAlso, it could be beneficial to explore ways to increase your income or decrease your expenses. Are\nthere opportunities for overtime or a side hustle to bring in extra money? On the expense side,\ncreating a detailed budget can help you identify areas where you can cut back.\n\nGiven your current financial situation, I can search for information from Nibud, which provides\nadvice and tools for managing personal finances. They might have some useful insights on how to\nmanage your housing costs and overall budget."
          },
          "metadata": {}
        }
      ]
    },
    {
      "cell_type": "code",
      "source": [
        "session.ask(\"Hoe kom ik er achter welke abonnementen ik heb?\")"
      ],
      "metadata": {
        "colab": {
          "base_uri": "https://localhost:8080/",
          "height": 307
        },
        "id": "4eauc5T6Nwpz",
        "outputId": "5cc2869d-c73a-430d-a27b-9d382004ef7d"
      },
      "execution_count": 30,
      "outputs": [
        {
          "output_type": "stream",
          "name": "stdout",
          "text": [
            "Tools used: []\n",
            "\n"
          ]
        },
        {
          "output_type": "display_data",
          "data": {
            "text/plain": [
              "<IPython.core.display.Markdown object>"
            ],
            "text/markdown": "Dat is een goede vraag! Het is inderdaad handig om te weten welke abonnementen je allemaal hebt\nlopen. Veel mensen zijn zich niet bewust van alle kleine bedragen die maandelijks worden\nafgeschreven.\n\nHier zijn een paar manieren om erachter te komen welke abonnementen je hebt:\n\n1.  **Check je bankafschriften:** Neem je bankafschriften van de afgelopen maanden door. Let op\nregelmatige afschrijvingen met omschrijvingen zoals \"abonnement\", \"lidmaatschap\", \"streaming\" of de\nnaam van een bekend bedrijf (bijvoorbeeld Netflix, Spotify, etc.).\n2.  **Kijk in je e-mail:** Doorzoek je e-mail inbox op woorden als \"abonnement\", \"bevestiging\",\n\"welkom\" in combinatie met woorden als \"Netflix\", \"Spotify\", \"sportschool\" etc. Vaak ontvang je een\nbevestigingsmail bij het afsluiten van een abonnement.\n3.  **Apps en websites:** Ga na welke apps je op je telefoon hebt geïnstalleerd en welke websites je\nregelmatig bezoekt. Veel apps en websites bieden abonnementen aan. Log in op de betreffende accounts\nom te kijken of je een actief abonnement hebt.\n4.  **Creditcard overzicht:** Als je een creditcard gebruikt, bekijk dan je creditcard overzicht.\nHierop staan alle afschrijvingen van de afgelopen periode, inclusief eventuele abonnementen.\n\nAls je eenmaal een overzicht hebt van je abonnementen, kun je beslissen welke je wilt behouden en\nwelke je kunt opzeggen."
          },
          "metadata": {}
        }
      ]
    },
    {
      "cell_type": "code",
      "source": [
        "session = FinHealthAgentSession(agent)\n",
        "session.ask(\"Hoe kan ik geld besparen volgens Nibud?\")"
      ],
      "metadata": {
        "id": "YqKoxAuyb5Hd",
        "outputId": "86021b0d-9f1c-4fbe-c6a8-54daf35c6930",
        "colab": {
          "base_uri": "https://localhost:8080/",
          "height": 239
        }
      },
      "execution_count": 31,
      "outputs": [
        {
          "output_type": "stream",
          "name": "stdout",
          "text": [
            "Started session 045699...\n",
            "Tools used: []\n",
            "\n"
          ]
        },
        {
          "output_type": "display_data",
          "data": {
            "text/plain": [
              "<IPython.core.display.Markdown object>"
            ],
            "text/markdown": "Volgens Nibud zijn er verschillende manieren om geld te besparen. Om je het beste advies te geven,\nzou ik graag wat meer willen weten over jouw persoonlijke situatie. Heb je bijvoorbeeld al een\noverzicht van je inkomsten en uitgaven? En zijn er specifieke doelen waarvoor je wilt sparen?\n\nOm je alvast een idee te geven, hier zijn een paar algemene tips van Nibud:\n\n*   **Maak een budget:** Inzicht in je inkomsten en uitgaven is de eerste stap naar besparen.\n*   **Zet doelen:** Wat wil je bereiken met je besparingen? Een buffer, een vakantie, of iets\nanders?\n*   **Vergelijk prijzen:** Vooral bij vaste lasten zoals energie en verzekeringen kan dit veel\nopleveren.\n\nIk kan je helpen met het vinden van manieren om te besparen die passen bij jouw situatie. Heb je\nbijvoorbeeld al eens gekeken naar de mogelijkheden om automatisch te sparen bij ING?"
          },
          "metadata": {}
        }
      ]
    },
    {
      "cell_type": "code",
      "source": [],
      "metadata": {
        "id": "NYprjixZsFof"
      },
      "execution_count": 31,
      "outputs": []
    }
  ]
}