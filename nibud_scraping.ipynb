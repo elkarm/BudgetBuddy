{
  "nbformat": 4,
  "nbformat_minor": 0,
  "metadata": {
    "colab": {
      "provenance": [],
      "authorship_tag": "ABX9TyMK+p65M7qCiu4uI8NRsZIP",
      "include_colab_link": true
    },
    "kernelspec": {
      "name": "python3",
      "display_name": "Python 3"
    },
    "language_info": {
      "name": "python"
    }
  },
  "cells": [
    {
      "cell_type": "markdown",
      "metadata": {
        "id": "view-in-github",
        "colab_type": "text"
      },
      "source": [
        "<a href=\"https://colab.research.google.com/github/CarlosVaquero/BudgetBuddy/blob/main/nibud_scraping.ipynb\" target=\"_parent\"><img src=\"https://colab.research.google.com/assets/colab-badge.svg\" alt=\"Open In Colab\"/></a>"
      ]
    },
    {
      "cell_type": "code",
      "source": [
        "!git clone https://github.com/CarlosVaquero/BudgetBuddy/\n"
      ],
      "metadata": {
        "id": "HgIOAoOSRFsf"
      },
      "execution_count": null,
      "outputs": []
    },
    {
      "cell_type": "code",
      "source": [
        "! pip install --upgrade --quiet  html2text"
      ],
      "metadata": {
        "colab": {
          "base_uri": "https://localhost:8080/"
        },
        "id": "KFA0tCJXTWrY",
        "outputId": "a5418093-6f85-4822-95e3-2faebdc7a06b"
      },
      "execution_count": 26,
      "outputs": [
        {
          "output_type": "stream",
          "name": "stdout",
          "text": [
            "\u001b[?25l     \u001b[90m━━━━━━━━━━━━━━━━━━━━━━━━━━━━━━━━━━━━━━━━\u001b[0m \u001b[32m0.0/56.5 kB\u001b[0m \u001b[31m?\u001b[0m eta \u001b[36m-:--:--\u001b[0m\r\u001b[2K     \u001b[90m━━━━━━━━━━━━━━━━━━━━━━━━━━━━━━━━━━━━━━━━\u001b[0m \u001b[32m56.5/56.5 kB\u001b[0m \u001b[31m2.4 MB/s\u001b[0m eta \u001b[36m0:00:00\u001b[0m\n",
            "\u001b[?25h  Preparing metadata (setup.py) ... \u001b[?25l\u001b[?25hdone\n",
            "  Building wheel for html2text (setup.py) ... \u001b[?25l\u001b[?25hdone\n"
          ]
        }
      ]
    },
    {
      "cell_type": "code",
      "source": [
        "!pip install langchain_community\n",
        "!pip install langchain-google-genai\n",
        "!pip install langchain-chroma\n",
        "!pip install faiss-cpu\n",
        "!pip install -U langgraph"
      ],
      "metadata": {
        "colab": {
          "base_uri": "https://localhost:8080/",
          "height": 1000
        },
        "id": "ZlESP_PdQ376",
        "outputId": "01a0ec61-941c-4e8f-ccfb-4d0ff50bd732"
      },
      "execution_count": 3,
      "outputs": [
        {
          "output_type": "stream",
          "name": "stdout",
          "text": [
            "Requirement already satisfied: langchain_community in /usr/local/lib/python3.11/dist-packages (0.3.20)\n",
            "Requirement already satisfied: langchain-core<1.0.0,>=0.3.45 in /usr/local/lib/python3.11/dist-packages (from langchain_community) (0.3.49)\n",
            "Requirement already satisfied: langchain<1.0.0,>=0.3.21 in /usr/local/lib/python3.11/dist-packages (from langchain_community) (0.3.21)\n",
            "Requirement already satisfied: SQLAlchemy<3,>=1.4 in /usr/local/lib/python3.11/dist-packages (from langchain_community) (2.0.40)\n",
            "Requirement already satisfied: requests<3,>=2 in /usr/local/lib/python3.11/dist-packages (from langchain_community) (2.32.3)\n",
            "Requirement already satisfied: PyYAML>=5.3 in /usr/local/lib/python3.11/dist-packages (from langchain_community) (6.0.2)\n",
            "Requirement already satisfied: aiohttp<4.0.0,>=3.8.3 in /usr/local/lib/python3.11/dist-packages (from langchain_community) (3.11.14)\n",
            "Requirement already satisfied: tenacity!=8.4.0,<10,>=8.1.0 in /usr/local/lib/python3.11/dist-packages (from langchain_community) (9.0.0)\n",
            "Requirement already satisfied: dataclasses-json<0.7,>=0.5.7 in /usr/local/lib/python3.11/dist-packages (from langchain_community) (0.6.7)\n",
            "Requirement already satisfied: pydantic-settings<3.0.0,>=2.4.0 in /usr/local/lib/python3.11/dist-packages (from langchain_community) (2.8.1)\n",
            "Requirement already satisfied: langsmith<0.4,>=0.1.125 in /usr/local/lib/python3.11/dist-packages (from langchain_community) (0.3.19)\n",
            "Requirement already satisfied: httpx-sse<1.0.0,>=0.4.0 in /usr/local/lib/python3.11/dist-packages (from langchain_community) (0.4.0)\n",
            "Requirement already satisfied: numpy<3,>=1.26.2 in /usr/local/lib/python3.11/dist-packages (from langchain_community) (2.0.2)\n",
            "Requirement already satisfied: aiohappyeyeballs>=2.3.0 in /usr/local/lib/python3.11/dist-packages (from aiohttp<4.0.0,>=3.8.3->langchain_community) (2.6.1)\n",
            "Requirement already satisfied: aiosignal>=1.1.2 in /usr/local/lib/python3.11/dist-packages (from aiohttp<4.0.0,>=3.8.3->langchain_community) (1.3.2)\n",
            "Requirement already satisfied: attrs>=17.3.0 in /usr/local/lib/python3.11/dist-packages (from aiohttp<4.0.0,>=3.8.3->langchain_community) (25.3.0)\n",
            "Requirement already satisfied: frozenlist>=1.1.1 in /usr/local/lib/python3.11/dist-packages (from aiohttp<4.0.0,>=3.8.3->langchain_community) (1.5.0)\n",
            "Requirement already satisfied: multidict<7.0,>=4.5 in /usr/local/lib/python3.11/dist-packages (from aiohttp<4.0.0,>=3.8.3->langchain_community) (6.2.0)\n",
            "Requirement already satisfied: propcache>=0.2.0 in /usr/local/lib/python3.11/dist-packages (from aiohttp<4.0.0,>=3.8.3->langchain_community) (0.3.1)\n",
            "Requirement already satisfied: yarl<2.0,>=1.17.0 in /usr/local/lib/python3.11/dist-packages (from aiohttp<4.0.0,>=3.8.3->langchain_community) (1.18.3)\n",
            "Requirement already satisfied: marshmallow<4.0.0,>=3.18.0 in /usr/local/lib/python3.11/dist-packages (from dataclasses-json<0.7,>=0.5.7->langchain_community) (3.26.1)\n",
            "Requirement already satisfied: typing-inspect<1,>=0.4.0 in /usr/local/lib/python3.11/dist-packages (from dataclasses-json<0.7,>=0.5.7->langchain_community) (0.9.0)\n",
            "Requirement already satisfied: langchain-text-splitters<1.0.0,>=0.3.7 in /usr/local/lib/python3.11/dist-packages (from langchain<1.0.0,>=0.3.21->langchain_community) (0.3.7)\n",
            "Requirement already satisfied: pydantic<3.0.0,>=2.7.4 in /usr/local/lib/python3.11/dist-packages (from langchain<1.0.0,>=0.3.21->langchain_community) (2.11.0)\n",
            "Requirement already satisfied: jsonpatch<2.0,>=1.33 in /usr/local/lib/python3.11/dist-packages (from langchain-core<1.0.0,>=0.3.45->langchain_community) (1.33)\n",
            "Requirement already satisfied: packaging<25,>=23.2 in /usr/local/lib/python3.11/dist-packages (from langchain-core<1.0.0,>=0.3.45->langchain_community) (24.2)\n",
            "Requirement already satisfied: typing-extensions>=4.7 in /usr/local/lib/python3.11/dist-packages (from langchain-core<1.0.0,>=0.3.45->langchain_community) (4.13.0)\n",
            "Requirement already satisfied: httpx<1,>=0.23.0 in /usr/local/lib/python3.11/dist-packages (from langsmith<0.4,>=0.1.125->langchain_community) (0.28.1)\n",
            "Requirement already satisfied: orjson<4.0.0,>=3.9.14 in /usr/local/lib/python3.11/dist-packages (from langsmith<0.4,>=0.1.125->langchain_community) (3.10.16)\n",
            "Requirement already satisfied: requests-toolbelt<2.0.0,>=1.0.0 in /usr/local/lib/python3.11/dist-packages (from langsmith<0.4,>=0.1.125->langchain_community) (1.0.0)\n",
            "Requirement already satisfied: zstandard<0.24.0,>=0.23.0 in /usr/local/lib/python3.11/dist-packages (from langsmith<0.4,>=0.1.125->langchain_community) (0.23.0)\n",
            "Requirement already satisfied: python-dotenv>=0.21.0 in /usr/local/lib/python3.11/dist-packages (from pydantic-settings<3.0.0,>=2.4.0->langchain_community) (1.1.0)\n",
            "Requirement already satisfied: charset-normalizer<4,>=2 in /usr/local/lib/python3.11/dist-packages (from requests<3,>=2->langchain_community) (3.4.1)\n",
            "Requirement already satisfied: idna<4,>=2.5 in /usr/local/lib/python3.11/dist-packages (from requests<3,>=2->langchain_community) (3.10)\n",
            "Requirement already satisfied: urllib3<3,>=1.21.1 in /usr/local/lib/python3.11/dist-packages (from requests<3,>=2->langchain_community) (2.3.0)\n",
            "Requirement already satisfied: certifi>=2017.4.17 in /usr/local/lib/python3.11/dist-packages (from requests<3,>=2->langchain_community) (2025.1.31)\n",
            "Requirement already satisfied: greenlet>=1 in /usr/local/lib/python3.11/dist-packages (from SQLAlchemy<3,>=1.4->langchain_community) (3.1.1)\n",
            "Requirement already satisfied: anyio in /usr/local/lib/python3.11/dist-packages (from httpx<1,>=0.23.0->langsmith<0.4,>=0.1.125->langchain_community) (4.9.0)\n",
            "Requirement already satisfied: httpcore==1.* in /usr/local/lib/python3.11/dist-packages (from httpx<1,>=0.23.0->langsmith<0.4,>=0.1.125->langchain_community) (1.0.7)\n",
            "Requirement already satisfied: h11<0.15,>=0.13 in /usr/local/lib/python3.11/dist-packages (from httpcore==1.*->httpx<1,>=0.23.0->langsmith<0.4,>=0.1.125->langchain_community) (0.14.0)\n",
            "Requirement already satisfied: jsonpointer>=1.9 in /usr/local/lib/python3.11/dist-packages (from jsonpatch<2.0,>=1.33->langchain-core<1.0.0,>=0.3.45->langchain_community) (3.0.0)\n",
            "Requirement already satisfied: annotated-types>=0.6.0 in /usr/local/lib/python3.11/dist-packages (from pydantic<3.0.0,>=2.7.4->langchain<1.0.0,>=0.3.21->langchain_community) (0.7.0)\n",
            "Requirement already satisfied: pydantic-core==2.33.0 in /usr/local/lib/python3.11/dist-packages (from pydantic<3.0.0,>=2.7.4->langchain<1.0.0,>=0.3.21->langchain_community) (2.33.0)\n",
            "Requirement already satisfied: typing-inspection>=0.4.0 in /usr/local/lib/python3.11/dist-packages (from pydantic<3.0.0,>=2.7.4->langchain<1.0.0,>=0.3.21->langchain_community) (0.4.0)\n",
            "Requirement already satisfied: mypy-extensions>=0.3.0 in /usr/local/lib/python3.11/dist-packages (from typing-inspect<1,>=0.4.0->dataclasses-json<0.7,>=0.5.7->langchain_community) (1.0.0)\n",
            "Requirement already satisfied: sniffio>=1.1 in /usr/local/lib/python3.11/dist-packages (from anyio->httpx<1,>=0.23.0->langsmith<0.4,>=0.1.125->langchain_community) (1.3.1)\n",
            "Collecting langchain-google-genai\n",
            "  Downloading langchain_google_genai-2.1.2-py3-none-any.whl.metadata (4.7 kB)\n",
            "Collecting filetype<2.0.0,>=1.2.0 (from langchain-google-genai)\n",
            "  Downloading filetype-1.2.0-py2.py3-none-any.whl.metadata (6.5 kB)\n",
            "Collecting google-ai-generativelanguage<0.7.0,>=0.6.16 (from langchain-google-genai)\n",
            "  Downloading google_ai_generativelanguage-0.6.17-py3-none-any.whl.metadata (9.8 kB)\n",
            "Requirement already satisfied: langchain-core<0.4.0,>=0.3.49 in /usr/local/lib/python3.11/dist-packages (from langchain-google-genai) (0.3.49)\n",
            "Requirement already satisfied: pydantic<3,>=2 in /usr/local/lib/python3.11/dist-packages (from langchain-google-genai) (2.11.0)\n",
            "Requirement already satisfied: google-api-core!=2.0.*,!=2.1.*,!=2.10.*,!=2.2.*,!=2.3.*,!=2.4.*,!=2.5.*,!=2.6.*,!=2.7.*,!=2.8.*,!=2.9.*,<3.0.0,>=1.34.1 in /usr/local/lib/python3.11/dist-packages (from google-api-core[grpc]!=2.0.*,!=2.1.*,!=2.10.*,!=2.2.*,!=2.3.*,!=2.4.*,!=2.5.*,!=2.6.*,!=2.7.*,!=2.8.*,!=2.9.*,<3.0.0,>=1.34.1->google-ai-generativelanguage<0.7.0,>=0.6.16->langchain-google-genai) (2.24.2)\n",
            "Requirement already satisfied: google-auth!=2.24.0,!=2.25.0,<3.0.0,>=2.14.1 in /usr/local/lib/python3.11/dist-packages (from google-ai-generativelanguage<0.7.0,>=0.6.16->langchain-google-genai) (2.38.0)\n",
            "Requirement already satisfied: proto-plus<2.0.0,>=1.22.3 in /usr/local/lib/python3.11/dist-packages (from google-ai-generativelanguage<0.7.0,>=0.6.16->langchain-google-genai) (1.26.1)\n",
            "Requirement already satisfied: protobuf!=4.21.0,!=4.21.1,!=4.21.2,!=4.21.3,!=4.21.4,!=4.21.5,<7.0.0,>=3.20.2 in /usr/local/lib/python3.11/dist-packages (from google-ai-generativelanguage<0.7.0,>=0.6.16->langchain-google-genai) (5.29.4)\n",
            "Requirement already satisfied: langsmith<0.4,>=0.1.125 in /usr/local/lib/python3.11/dist-packages (from langchain-core<0.4.0,>=0.3.49->langchain-google-genai) (0.3.19)\n",
            "Requirement already satisfied: tenacity!=8.4.0,<10.0.0,>=8.1.0 in /usr/local/lib/python3.11/dist-packages (from langchain-core<0.4.0,>=0.3.49->langchain-google-genai) (9.0.0)\n",
            "Requirement already satisfied: jsonpatch<2.0,>=1.33 in /usr/local/lib/python3.11/dist-packages (from langchain-core<0.4.0,>=0.3.49->langchain-google-genai) (1.33)\n",
            "Requirement already satisfied: PyYAML>=5.3 in /usr/local/lib/python3.11/dist-packages (from langchain-core<0.4.0,>=0.3.49->langchain-google-genai) (6.0.2)\n",
            "Requirement already satisfied: packaging<25,>=23.2 in /usr/local/lib/python3.11/dist-packages (from langchain-core<0.4.0,>=0.3.49->langchain-google-genai) (24.2)\n",
            "Requirement already satisfied: typing-extensions>=4.7 in /usr/local/lib/python3.11/dist-packages (from langchain-core<0.4.0,>=0.3.49->langchain-google-genai) (4.13.0)\n",
            "Requirement already satisfied: annotated-types>=0.6.0 in /usr/local/lib/python3.11/dist-packages (from pydantic<3,>=2->langchain-google-genai) (0.7.0)\n",
            "Requirement already satisfied: pydantic-core==2.33.0 in /usr/local/lib/python3.11/dist-packages (from pydantic<3,>=2->langchain-google-genai) (2.33.0)\n",
            "Requirement already satisfied: typing-inspection>=0.4.0 in /usr/local/lib/python3.11/dist-packages (from pydantic<3,>=2->langchain-google-genai) (0.4.0)\n",
            "Requirement already satisfied: googleapis-common-protos<2.0.0,>=1.56.2 in /usr/local/lib/python3.11/dist-packages (from google-api-core!=2.0.*,!=2.1.*,!=2.10.*,!=2.2.*,!=2.3.*,!=2.4.*,!=2.5.*,!=2.6.*,!=2.7.*,!=2.8.*,!=2.9.*,<3.0.0,>=1.34.1->google-api-core[grpc]!=2.0.*,!=2.1.*,!=2.10.*,!=2.2.*,!=2.3.*,!=2.4.*,!=2.5.*,!=2.6.*,!=2.7.*,!=2.8.*,!=2.9.*,<3.0.0,>=1.34.1->google-ai-generativelanguage<0.7.0,>=0.6.16->langchain-google-genai) (1.69.2)\n",
            "Requirement already satisfied: requests<3.0.0,>=2.18.0 in /usr/local/lib/python3.11/dist-packages (from google-api-core!=2.0.*,!=2.1.*,!=2.10.*,!=2.2.*,!=2.3.*,!=2.4.*,!=2.5.*,!=2.6.*,!=2.7.*,!=2.8.*,!=2.9.*,<3.0.0,>=1.34.1->google-api-core[grpc]!=2.0.*,!=2.1.*,!=2.10.*,!=2.2.*,!=2.3.*,!=2.4.*,!=2.5.*,!=2.6.*,!=2.7.*,!=2.8.*,!=2.9.*,<3.0.0,>=1.34.1->google-ai-generativelanguage<0.7.0,>=0.6.16->langchain-google-genai) (2.32.3)\n",
            "Requirement already satisfied: grpcio<2.0dev,>=1.33.2 in /usr/local/lib/python3.11/dist-packages (from google-api-core[grpc]!=2.0.*,!=2.1.*,!=2.10.*,!=2.2.*,!=2.3.*,!=2.4.*,!=2.5.*,!=2.6.*,!=2.7.*,!=2.8.*,!=2.9.*,<3.0.0,>=1.34.1->google-ai-generativelanguage<0.7.0,>=0.6.16->langchain-google-genai) (1.71.0)\n",
            "Requirement already satisfied: grpcio-status<2.0.dev0,>=1.33.2 in /usr/local/lib/python3.11/dist-packages (from google-api-core[grpc]!=2.0.*,!=2.1.*,!=2.10.*,!=2.2.*,!=2.3.*,!=2.4.*,!=2.5.*,!=2.6.*,!=2.7.*,!=2.8.*,!=2.9.*,<3.0.0,>=1.34.1->google-ai-generativelanguage<0.7.0,>=0.6.16->langchain-google-genai) (1.71.0)\n",
            "Requirement already satisfied: cachetools<6.0,>=2.0.0 in /usr/local/lib/python3.11/dist-packages (from google-auth!=2.24.0,!=2.25.0,<3.0.0,>=2.14.1->google-ai-generativelanguage<0.7.0,>=0.6.16->langchain-google-genai) (5.5.2)\n",
            "Requirement already satisfied: pyasn1-modules>=0.2.1 in /usr/local/lib/python3.11/dist-packages (from google-auth!=2.24.0,!=2.25.0,<3.0.0,>=2.14.1->google-ai-generativelanguage<0.7.0,>=0.6.16->langchain-google-genai) (0.4.2)\n",
            "Requirement already satisfied: rsa<5,>=3.1.4 in /usr/local/lib/python3.11/dist-packages (from google-auth!=2.24.0,!=2.25.0,<3.0.0,>=2.14.1->google-ai-generativelanguage<0.7.0,>=0.6.16->langchain-google-genai) (4.9)\n",
            "Requirement already satisfied: jsonpointer>=1.9 in /usr/local/lib/python3.11/dist-packages (from jsonpatch<2.0,>=1.33->langchain-core<0.4.0,>=0.3.49->langchain-google-genai) (3.0.0)\n",
            "Requirement already satisfied: httpx<1,>=0.23.0 in /usr/local/lib/python3.11/dist-packages (from langsmith<0.4,>=0.1.125->langchain-core<0.4.0,>=0.3.49->langchain-google-genai) (0.28.1)\n",
            "Requirement already satisfied: orjson<4.0.0,>=3.9.14 in /usr/local/lib/python3.11/dist-packages (from langsmith<0.4,>=0.1.125->langchain-core<0.4.0,>=0.3.49->langchain-google-genai) (3.10.16)\n",
            "Requirement already satisfied: requests-toolbelt<2.0.0,>=1.0.0 in /usr/local/lib/python3.11/dist-packages (from langsmith<0.4,>=0.1.125->langchain-core<0.4.0,>=0.3.49->langchain-google-genai) (1.0.0)\n",
            "Requirement already satisfied: zstandard<0.24.0,>=0.23.0 in /usr/local/lib/python3.11/dist-packages (from langsmith<0.4,>=0.1.125->langchain-core<0.4.0,>=0.3.49->langchain-google-genai) (0.23.0)\n",
            "Requirement already satisfied: anyio in /usr/local/lib/python3.11/dist-packages (from httpx<1,>=0.23.0->langsmith<0.4,>=0.1.125->langchain-core<0.4.0,>=0.3.49->langchain-google-genai) (4.9.0)\n",
            "Requirement already satisfied: certifi in /usr/local/lib/python3.11/dist-packages (from httpx<1,>=0.23.0->langsmith<0.4,>=0.1.125->langchain-core<0.4.0,>=0.3.49->langchain-google-genai) (2025.1.31)\n",
            "Requirement already satisfied: httpcore==1.* in /usr/local/lib/python3.11/dist-packages (from httpx<1,>=0.23.0->langsmith<0.4,>=0.1.125->langchain-core<0.4.0,>=0.3.49->langchain-google-genai) (1.0.7)\n",
            "Requirement already satisfied: idna in /usr/local/lib/python3.11/dist-packages (from httpx<1,>=0.23.0->langsmith<0.4,>=0.1.125->langchain-core<0.4.0,>=0.3.49->langchain-google-genai) (3.10)\n",
            "Requirement already satisfied: h11<0.15,>=0.13 in /usr/local/lib/python3.11/dist-packages (from httpcore==1.*->httpx<1,>=0.23.0->langsmith<0.4,>=0.1.125->langchain-core<0.4.0,>=0.3.49->langchain-google-genai) (0.14.0)\n",
            "Requirement already satisfied: pyasn1<0.7.0,>=0.6.1 in /usr/local/lib/python3.11/dist-packages (from pyasn1-modules>=0.2.1->google-auth!=2.24.0,!=2.25.0,<3.0.0,>=2.14.1->google-ai-generativelanguage<0.7.0,>=0.6.16->langchain-google-genai) (0.6.1)\n",
            "Requirement already satisfied: charset-normalizer<4,>=2 in /usr/local/lib/python3.11/dist-packages (from requests<3.0.0,>=2.18.0->google-api-core!=2.0.*,!=2.1.*,!=2.10.*,!=2.2.*,!=2.3.*,!=2.4.*,!=2.5.*,!=2.6.*,!=2.7.*,!=2.8.*,!=2.9.*,<3.0.0,>=1.34.1->google-api-core[grpc]!=2.0.*,!=2.1.*,!=2.10.*,!=2.2.*,!=2.3.*,!=2.4.*,!=2.5.*,!=2.6.*,!=2.7.*,!=2.8.*,!=2.9.*,<3.0.0,>=1.34.1->google-ai-generativelanguage<0.7.0,>=0.6.16->langchain-google-genai) (3.4.1)\n",
            "Requirement already satisfied: urllib3<3,>=1.21.1 in /usr/local/lib/python3.11/dist-packages (from requests<3.0.0,>=2.18.0->google-api-core!=2.0.*,!=2.1.*,!=2.10.*,!=2.2.*,!=2.3.*,!=2.4.*,!=2.5.*,!=2.6.*,!=2.7.*,!=2.8.*,!=2.9.*,<3.0.0,>=1.34.1->google-api-core[grpc]!=2.0.*,!=2.1.*,!=2.10.*,!=2.2.*,!=2.3.*,!=2.4.*,!=2.5.*,!=2.6.*,!=2.7.*,!=2.8.*,!=2.9.*,<3.0.0,>=1.34.1->google-ai-generativelanguage<0.7.0,>=0.6.16->langchain-google-genai) (2.3.0)\n",
            "Requirement already satisfied: sniffio>=1.1 in /usr/local/lib/python3.11/dist-packages (from anyio->httpx<1,>=0.23.0->langsmith<0.4,>=0.1.125->langchain-core<0.4.0,>=0.3.49->langchain-google-genai) (1.3.1)\n",
            "Downloading langchain_google_genai-2.1.2-py3-none-any.whl (42 kB)\n",
            "\u001b[2K   \u001b[90m━━━━━━━━━━━━━━━━━━━━━━━━━━━━━━━━━━━━━━━━\u001b[0m \u001b[32m42.0/42.0 kB\u001b[0m \u001b[31m1.8 MB/s\u001b[0m eta \u001b[36m0:00:00\u001b[0m\n",
            "\u001b[?25hDownloading filetype-1.2.0-py2.py3-none-any.whl (19 kB)\n",
            "Downloading google_ai_generativelanguage-0.6.17-py3-none-any.whl (1.4 MB)\n",
            "\u001b[2K   \u001b[90m━━━━━━━━━━━━━━━━━━━━━━━━━━━━━━━━━━━━━━━━\u001b[0m \u001b[32m1.4/1.4 MB\u001b[0m \u001b[31m22.8 MB/s\u001b[0m eta \u001b[36m0:00:00\u001b[0m\n",
            "\u001b[?25hInstalling collected packages: filetype, google-ai-generativelanguage, langchain-google-genai\n",
            "  Attempting uninstall: google-ai-generativelanguage\n",
            "    Found existing installation: google-ai-generativelanguage 0.6.15\n",
            "    Uninstalling google-ai-generativelanguage-0.6.15:\n",
            "      Successfully uninstalled google-ai-generativelanguage-0.6.15\n",
            "\u001b[31mERROR: pip's dependency resolver does not currently take into account all the packages that are installed. This behaviour is the source of the following dependency conflicts.\n",
            "google-generativeai 0.8.4 requires google-ai-generativelanguage==0.6.15, but you have google-ai-generativelanguage 0.6.17 which is incompatible.\u001b[0m\u001b[31m\n",
            "\u001b[0mSuccessfully installed filetype-1.2.0 google-ai-generativelanguage-0.6.17 langchain-google-genai-2.1.2\n"
          ]
        },
        {
          "output_type": "display_data",
          "data": {
            "application/vnd.colab-display-data+json": {
              "pip_warning": {
                "packages": [
                  "google"
                ]
              },
              "id": "4f8e21259dd74a98a11c74b66478ef55"
            }
          },
          "metadata": {}
        },
        {
          "output_type": "stream",
          "name": "stdout",
          "text": [
            "Collecting langchain-chroma\n",
            "  Downloading langchain_chroma-0.2.2-py3-none-any.whl.metadata (1.3 kB)\n",
            "Requirement already satisfied: langchain-core!=0.3.0,!=0.3.1,!=0.3.10,!=0.3.11,!=0.3.12,!=0.3.13,!=0.3.14,!=0.3.2,!=0.3.3,!=0.3.4,!=0.3.5,!=0.3.6,!=0.3.7,!=0.3.8,!=0.3.9,<0.4.0,>=0.2.43 in /usr/local/lib/python3.11/dist-packages (from langchain-chroma) (0.3.49)\n",
            "Collecting numpy<2.0.0,>=1.22.4 (from langchain-chroma)\n",
            "  Downloading numpy-1.26.4-cp311-cp311-manylinux_2_17_x86_64.manylinux2014_x86_64.whl.metadata (61 kB)\n",
            "\u001b[2K     \u001b[90m━━━━━━━━━━━━━━━━━━━━━━━━━━━━━━━━━━━━━━━━\u001b[0m \u001b[32m61.0/61.0 kB\u001b[0m \u001b[31m2.7 MB/s\u001b[0m eta \u001b[36m0:00:00\u001b[0m\n",
            "\u001b[?25hCollecting chromadb!=0.5.10,!=0.5.11,!=0.5.12,!=0.5.4,!=0.5.5,!=0.5.7,!=0.5.9,<0.7.0,>=0.4.0 (from langchain-chroma)\n",
            "  Downloading chromadb-0.6.3-py3-none-any.whl.metadata (6.8 kB)\n",
            "Collecting build>=1.0.3 (from chromadb!=0.5.10,!=0.5.11,!=0.5.12,!=0.5.4,!=0.5.5,!=0.5.7,!=0.5.9,<0.7.0,>=0.4.0->langchain-chroma)\n",
            "  Downloading build-1.2.2.post1-py3-none-any.whl.metadata (6.5 kB)\n",
            "Requirement already satisfied: pydantic>=1.9 in /usr/local/lib/python3.11/dist-packages (from chromadb!=0.5.10,!=0.5.11,!=0.5.12,!=0.5.4,!=0.5.5,!=0.5.7,!=0.5.9,<0.7.0,>=0.4.0->langchain-chroma) (2.11.0)\n",
            "Collecting chroma-hnswlib==0.7.6 (from chromadb!=0.5.10,!=0.5.11,!=0.5.12,!=0.5.4,!=0.5.5,!=0.5.7,!=0.5.9,<0.7.0,>=0.4.0->langchain-chroma)\n",
            "  Downloading chroma_hnswlib-0.7.6-cp311-cp311-manylinux_2_17_x86_64.manylinux2014_x86_64.whl.metadata (252 bytes)\n",
            "Collecting fastapi>=0.95.2 (from chromadb!=0.5.10,!=0.5.11,!=0.5.12,!=0.5.4,!=0.5.5,!=0.5.7,!=0.5.9,<0.7.0,>=0.4.0->langchain-chroma)\n",
            "  Downloading fastapi-0.115.12-py3-none-any.whl.metadata (27 kB)\n",
            "Collecting uvicorn>=0.18.3 (from uvicorn[standard]>=0.18.3->chromadb!=0.5.10,!=0.5.11,!=0.5.12,!=0.5.4,!=0.5.5,!=0.5.7,!=0.5.9,<0.7.0,>=0.4.0->langchain-chroma)\n",
            "  Downloading uvicorn-0.34.0-py3-none-any.whl.metadata (6.5 kB)\n",
            "Collecting posthog>=2.4.0 (from chromadb!=0.5.10,!=0.5.11,!=0.5.12,!=0.5.4,!=0.5.5,!=0.5.7,!=0.5.9,<0.7.0,>=0.4.0->langchain-chroma)\n",
            "  Downloading posthog-3.23.0-py2.py3-none-any.whl.metadata (3.0 kB)\n",
            "Requirement already satisfied: typing_extensions>=4.5.0 in /usr/local/lib/python3.11/dist-packages (from chromadb!=0.5.10,!=0.5.11,!=0.5.12,!=0.5.4,!=0.5.5,!=0.5.7,!=0.5.9,<0.7.0,>=0.4.0->langchain-chroma) (4.13.0)\n",
            "Collecting onnxruntime>=1.14.1 (from chromadb!=0.5.10,!=0.5.11,!=0.5.12,!=0.5.4,!=0.5.5,!=0.5.7,!=0.5.9,<0.7.0,>=0.4.0->langchain-chroma)\n",
            "  Downloading onnxruntime-1.21.0-cp311-cp311-manylinux_2_27_x86_64.manylinux_2_28_x86_64.whl.metadata (4.5 kB)\n",
            "Requirement already satisfied: opentelemetry-api>=1.2.0 in /usr/local/lib/python3.11/dist-packages (from chromadb!=0.5.10,!=0.5.11,!=0.5.12,!=0.5.4,!=0.5.5,!=0.5.7,!=0.5.9,<0.7.0,>=0.4.0->langchain-chroma) (1.31.1)\n",
            "Collecting opentelemetry-exporter-otlp-proto-grpc>=1.2.0 (from chromadb!=0.5.10,!=0.5.11,!=0.5.12,!=0.5.4,!=0.5.5,!=0.5.7,!=0.5.9,<0.7.0,>=0.4.0->langchain-chroma)\n",
            "  Downloading opentelemetry_exporter_otlp_proto_grpc-1.31.1-py3-none-any.whl.metadata (2.5 kB)\n",
            "Collecting opentelemetry-instrumentation-fastapi>=0.41b0 (from chromadb!=0.5.10,!=0.5.11,!=0.5.12,!=0.5.4,!=0.5.5,!=0.5.7,!=0.5.9,<0.7.0,>=0.4.0->langchain-chroma)\n",
            "  Downloading opentelemetry_instrumentation_fastapi-0.52b1-py3-none-any.whl.metadata (2.2 kB)\n",
            "Requirement already satisfied: opentelemetry-sdk>=1.2.0 in /usr/local/lib/python3.11/dist-packages (from chromadb!=0.5.10,!=0.5.11,!=0.5.12,!=0.5.4,!=0.5.5,!=0.5.7,!=0.5.9,<0.7.0,>=0.4.0->langchain-chroma) (1.31.1)\n",
            "Requirement already satisfied: tokenizers>=0.13.2 in /usr/local/lib/python3.11/dist-packages (from chromadb!=0.5.10,!=0.5.11,!=0.5.12,!=0.5.4,!=0.5.5,!=0.5.7,!=0.5.9,<0.7.0,>=0.4.0->langchain-chroma) (0.21.1)\n",
            "Collecting pypika>=0.48.9 (from chromadb!=0.5.10,!=0.5.11,!=0.5.12,!=0.5.4,!=0.5.5,!=0.5.7,!=0.5.9,<0.7.0,>=0.4.0->langchain-chroma)\n",
            "  Downloading PyPika-0.48.9.tar.gz (67 kB)\n",
            "\u001b[2K     \u001b[90m━━━━━━━━━━━━━━━━━━━━━━━━━━━━━━━━━━━━━━━━\u001b[0m \u001b[32m67.3/67.3 kB\u001b[0m \u001b[31m4.7 MB/s\u001b[0m eta \u001b[36m0:00:00\u001b[0m\n",
            "\u001b[?25h  Installing build dependencies ... \u001b[?25l\u001b[?25hdone\n",
            "  Getting requirements to build wheel ... \u001b[?25l\u001b[?25hdone\n",
            "  Preparing metadata (pyproject.toml) ... \u001b[?25l\u001b[?25hdone\n",
            "Requirement already satisfied: tqdm>=4.65.0 in /usr/local/lib/python3.11/dist-packages (from chromadb!=0.5.10,!=0.5.11,!=0.5.12,!=0.5.4,!=0.5.5,!=0.5.7,!=0.5.9,<0.7.0,>=0.4.0->langchain-chroma) (4.67.1)\n",
            "Collecting overrides>=7.3.1 (from chromadb!=0.5.10,!=0.5.11,!=0.5.12,!=0.5.4,!=0.5.5,!=0.5.7,!=0.5.9,<0.7.0,>=0.4.0->langchain-chroma)\n",
            "  Downloading overrides-7.7.0-py3-none-any.whl.metadata (5.8 kB)\n",
            "Requirement already satisfied: importlib-resources in /usr/local/lib/python3.11/dist-packages (from chromadb!=0.5.10,!=0.5.11,!=0.5.12,!=0.5.4,!=0.5.5,!=0.5.7,!=0.5.9,<0.7.0,>=0.4.0->langchain-chroma) (6.5.2)\n",
            "Requirement already satisfied: grpcio>=1.58.0 in /usr/local/lib/python3.11/dist-packages (from chromadb!=0.5.10,!=0.5.11,!=0.5.12,!=0.5.4,!=0.5.5,!=0.5.7,!=0.5.9,<0.7.0,>=0.4.0->langchain-chroma) (1.71.0)\n",
            "Collecting bcrypt>=4.0.1 (from chromadb!=0.5.10,!=0.5.11,!=0.5.12,!=0.5.4,!=0.5.5,!=0.5.7,!=0.5.9,<0.7.0,>=0.4.0->langchain-chroma)\n",
            "  Downloading bcrypt-4.3.0-cp39-abi3-manylinux_2_34_x86_64.whl.metadata (10 kB)\n",
            "Requirement already satisfied: typer>=0.9.0 in /usr/local/lib/python3.11/dist-packages (from chromadb!=0.5.10,!=0.5.11,!=0.5.12,!=0.5.4,!=0.5.5,!=0.5.7,!=0.5.9,<0.7.0,>=0.4.0->langchain-chroma) (0.15.2)\n",
            "Collecting kubernetes>=28.1.0 (from chromadb!=0.5.10,!=0.5.11,!=0.5.12,!=0.5.4,!=0.5.5,!=0.5.7,!=0.5.9,<0.7.0,>=0.4.0->langchain-chroma)\n",
            "  Downloading kubernetes-32.0.1-py2.py3-none-any.whl.metadata (1.7 kB)\n",
            "Requirement already satisfied: tenacity>=8.2.3 in /usr/local/lib/python3.11/dist-packages (from chromadb!=0.5.10,!=0.5.11,!=0.5.12,!=0.5.4,!=0.5.5,!=0.5.7,!=0.5.9,<0.7.0,>=0.4.0->langchain-chroma) (9.0.0)\n",
            "Requirement already satisfied: PyYAML>=6.0.0 in /usr/local/lib/python3.11/dist-packages (from chromadb!=0.5.10,!=0.5.11,!=0.5.12,!=0.5.4,!=0.5.5,!=0.5.7,!=0.5.9,<0.7.0,>=0.4.0->langchain-chroma) (6.0.2)\n",
            "Collecting mmh3>=4.0.1 (from chromadb!=0.5.10,!=0.5.11,!=0.5.12,!=0.5.4,!=0.5.5,!=0.5.7,!=0.5.9,<0.7.0,>=0.4.0->langchain-chroma)\n",
            "  Downloading mmh3-5.1.0-cp311-cp311-manylinux_2_5_x86_64.manylinux1_x86_64.manylinux_2_17_x86_64.manylinux2014_x86_64.whl.metadata (16 kB)\n",
            "Requirement already satisfied: orjson>=3.9.12 in /usr/local/lib/python3.11/dist-packages (from chromadb!=0.5.10,!=0.5.11,!=0.5.12,!=0.5.4,!=0.5.5,!=0.5.7,!=0.5.9,<0.7.0,>=0.4.0->langchain-chroma) (3.10.16)\n",
            "Requirement already satisfied: httpx>=0.27.0 in /usr/local/lib/python3.11/dist-packages (from chromadb!=0.5.10,!=0.5.11,!=0.5.12,!=0.5.4,!=0.5.5,!=0.5.7,!=0.5.9,<0.7.0,>=0.4.0->langchain-chroma) (0.28.1)\n",
            "Requirement already satisfied: rich>=10.11.0 in /usr/local/lib/python3.11/dist-packages (from chromadb!=0.5.10,!=0.5.11,!=0.5.12,!=0.5.4,!=0.5.5,!=0.5.7,!=0.5.9,<0.7.0,>=0.4.0->langchain-chroma) (13.9.4)\n",
            "Requirement already satisfied: langsmith<0.4,>=0.1.125 in /usr/local/lib/python3.11/dist-packages (from langchain-core!=0.3.0,!=0.3.1,!=0.3.10,!=0.3.11,!=0.3.12,!=0.3.13,!=0.3.14,!=0.3.2,!=0.3.3,!=0.3.4,!=0.3.5,!=0.3.6,!=0.3.7,!=0.3.8,!=0.3.9,<0.4.0,>=0.2.43->langchain-chroma) (0.3.19)\n",
            "Requirement already satisfied: jsonpatch<2.0,>=1.33 in /usr/local/lib/python3.11/dist-packages (from langchain-core!=0.3.0,!=0.3.1,!=0.3.10,!=0.3.11,!=0.3.12,!=0.3.13,!=0.3.14,!=0.3.2,!=0.3.3,!=0.3.4,!=0.3.5,!=0.3.6,!=0.3.7,!=0.3.8,!=0.3.9,<0.4.0,>=0.2.43->langchain-chroma) (1.33)\n",
            "Requirement already satisfied: packaging<25,>=23.2 in /usr/local/lib/python3.11/dist-packages (from langchain-core!=0.3.0,!=0.3.1,!=0.3.10,!=0.3.11,!=0.3.12,!=0.3.13,!=0.3.14,!=0.3.2,!=0.3.3,!=0.3.4,!=0.3.5,!=0.3.6,!=0.3.7,!=0.3.8,!=0.3.9,<0.4.0,>=0.2.43->langchain-chroma) (24.2)\n",
            "Collecting pyproject_hooks (from build>=1.0.3->chromadb!=0.5.10,!=0.5.11,!=0.5.12,!=0.5.4,!=0.5.5,!=0.5.7,!=0.5.9,<0.7.0,>=0.4.0->langchain-chroma)\n",
            "  Downloading pyproject_hooks-1.2.0-py3-none-any.whl.metadata (1.3 kB)\n",
            "Collecting starlette<0.47.0,>=0.40.0 (from fastapi>=0.95.2->chromadb!=0.5.10,!=0.5.11,!=0.5.12,!=0.5.4,!=0.5.5,!=0.5.7,!=0.5.9,<0.7.0,>=0.4.0->langchain-chroma)\n",
            "  Downloading starlette-0.46.1-py3-none-any.whl.metadata (6.2 kB)\n",
            "Requirement already satisfied: anyio in /usr/local/lib/python3.11/dist-packages (from httpx>=0.27.0->chromadb!=0.5.10,!=0.5.11,!=0.5.12,!=0.5.4,!=0.5.5,!=0.5.7,!=0.5.9,<0.7.0,>=0.4.0->langchain-chroma) (4.9.0)\n",
            "Requirement already satisfied: certifi in /usr/local/lib/python3.11/dist-packages (from httpx>=0.27.0->chromadb!=0.5.10,!=0.5.11,!=0.5.12,!=0.5.4,!=0.5.5,!=0.5.7,!=0.5.9,<0.7.0,>=0.4.0->langchain-chroma) (2025.1.31)\n",
            "Requirement already satisfied: httpcore==1.* in /usr/local/lib/python3.11/dist-packages (from httpx>=0.27.0->chromadb!=0.5.10,!=0.5.11,!=0.5.12,!=0.5.4,!=0.5.5,!=0.5.7,!=0.5.9,<0.7.0,>=0.4.0->langchain-chroma) (1.0.7)\n",
            "Requirement already satisfied: idna in /usr/local/lib/python3.11/dist-packages (from httpx>=0.27.0->chromadb!=0.5.10,!=0.5.11,!=0.5.12,!=0.5.4,!=0.5.5,!=0.5.7,!=0.5.9,<0.7.0,>=0.4.0->langchain-chroma) (3.10)\n",
            "Requirement already satisfied: h11<0.15,>=0.13 in /usr/local/lib/python3.11/dist-packages (from httpcore==1.*->httpx>=0.27.0->chromadb!=0.5.10,!=0.5.11,!=0.5.12,!=0.5.4,!=0.5.5,!=0.5.7,!=0.5.9,<0.7.0,>=0.4.0->langchain-chroma) (0.14.0)\n",
            "Requirement already satisfied: jsonpointer>=1.9 in /usr/local/lib/python3.11/dist-packages (from jsonpatch<2.0,>=1.33->langchain-core!=0.3.0,!=0.3.1,!=0.3.10,!=0.3.11,!=0.3.12,!=0.3.13,!=0.3.14,!=0.3.2,!=0.3.3,!=0.3.4,!=0.3.5,!=0.3.6,!=0.3.7,!=0.3.8,!=0.3.9,<0.4.0,>=0.2.43->langchain-chroma) (3.0.0)\n",
            "Requirement already satisfied: six>=1.9.0 in /usr/local/lib/python3.11/dist-packages (from kubernetes>=28.1.0->chromadb!=0.5.10,!=0.5.11,!=0.5.12,!=0.5.4,!=0.5.5,!=0.5.7,!=0.5.9,<0.7.0,>=0.4.0->langchain-chroma) (1.17.0)\n",
            "Requirement already satisfied: python-dateutil>=2.5.3 in /usr/local/lib/python3.11/dist-packages (from kubernetes>=28.1.0->chromadb!=0.5.10,!=0.5.11,!=0.5.12,!=0.5.4,!=0.5.5,!=0.5.7,!=0.5.9,<0.7.0,>=0.4.0->langchain-chroma) (2.8.2)\n",
            "Requirement already satisfied: google-auth>=1.0.1 in /usr/local/lib/python3.11/dist-packages (from kubernetes>=28.1.0->chromadb!=0.5.10,!=0.5.11,!=0.5.12,!=0.5.4,!=0.5.5,!=0.5.7,!=0.5.9,<0.7.0,>=0.4.0->langchain-chroma) (2.38.0)\n",
            "Requirement already satisfied: websocket-client!=0.40.0,!=0.41.*,!=0.42.*,>=0.32.0 in /usr/local/lib/python3.11/dist-packages (from kubernetes>=28.1.0->chromadb!=0.5.10,!=0.5.11,!=0.5.12,!=0.5.4,!=0.5.5,!=0.5.7,!=0.5.9,<0.7.0,>=0.4.0->langchain-chroma) (1.8.0)\n",
            "Requirement already satisfied: requests in /usr/local/lib/python3.11/dist-packages (from kubernetes>=28.1.0->chromadb!=0.5.10,!=0.5.11,!=0.5.12,!=0.5.4,!=0.5.5,!=0.5.7,!=0.5.9,<0.7.0,>=0.4.0->langchain-chroma) (2.32.3)\n",
            "Requirement already satisfied: requests-oauthlib in /usr/local/lib/python3.11/dist-packages (from kubernetes>=28.1.0->chromadb!=0.5.10,!=0.5.11,!=0.5.12,!=0.5.4,!=0.5.5,!=0.5.7,!=0.5.9,<0.7.0,>=0.4.0->langchain-chroma) (2.0.0)\n",
            "Requirement already satisfied: oauthlib>=3.2.2 in /usr/local/lib/python3.11/dist-packages (from kubernetes>=28.1.0->chromadb!=0.5.10,!=0.5.11,!=0.5.12,!=0.5.4,!=0.5.5,!=0.5.7,!=0.5.9,<0.7.0,>=0.4.0->langchain-chroma) (3.2.2)\n",
            "Requirement already satisfied: urllib3>=1.24.2 in /usr/local/lib/python3.11/dist-packages (from kubernetes>=28.1.0->chromadb!=0.5.10,!=0.5.11,!=0.5.12,!=0.5.4,!=0.5.5,!=0.5.7,!=0.5.9,<0.7.0,>=0.4.0->langchain-chroma) (2.3.0)\n",
            "Collecting durationpy>=0.7 (from kubernetes>=28.1.0->chromadb!=0.5.10,!=0.5.11,!=0.5.12,!=0.5.4,!=0.5.5,!=0.5.7,!=0.5.9,<0.7.0,>=0.4.0->langchain-chroma)\n",
            "  Downloading durationpy-0.9-py3-none-any.whl.metadata (338 bytes)\n",
            "Requirement already satisfied: requests-toolbelt<2.0.0,>=1.0.0 in /usr/local/lib/python3.11/dist-packages (from langsmith<0.4,>=0.1.125->langchain-core!=0.3.0,!=0.3.1,!=0.3.10,!=0.3.11,!=0.3.12,!=0.3.13,!=0.3.14,!=0.3.2,!=0.3.3,!=0.3.4,!=0.3.5,!=0.3.6,!=0.3.7,!=0.3.8,!=0.3.9,<0.4.0,>=0.2.43->langchain-chroma) (1.0.0)\n",
            "Requirement already satisfied: zstandard<0.24.0,>=0.23.0 in /usr/local/lib/python3.11/dist-packages (from langsmith<0.4,>=0.1.125->langchain-core!=0.3.0,!=0.3.1,!=0.3.10,!=0.3.11,!=0.3.12,!=0.3.13,!=0.3.14,!=0.3.2,!=0.3.3,!=0.3.4,!=0.3.5,!=0.3.6,!=0.3.7,!=0.3.8,!=0.3.9,<0.4.0,>=0.2.43->langchain-chroma) (0.23.0)\n",
            "Collecting coloredlogs (from onnxruntime>=1.14.1->chromadb!=0.5.10,!=0.5.11,!=0.5.12,!=0.5.4,!=0.5.5,!=0.5.7,!=0.5.9,<0.7.0,>=0.4.0->langchain-chroma)\n",
            "  Downloading coloredlogs-15.0.1-py2.py3-none-any.whl.metadata (12 kB)\n",
            "Requirement already satisfied: flatbuffers in /usr/local/lib/python3.11/dist-packages (from onnxruntime>=1.14.1->chromadb!=0.5.10,!=0.5.11,!=0.5.12,!=0.5.4,!=0.5.5,!=0.5.7,!=0.5.9,<0.7.0,>=0.4.0->langchain-chroma) (25.2.10)\n",
            "Requirement already satisfied: protobuf in /usr/local/lib/python3.11/dist-packages (from onnxruntime>=1.14.1->chromadb!=0.5.10,!=0.5.11,!=0.5.12,!=0.5.4,!=0.5.5,!=0.5.7,!=0.5.9,<0.7.0,>=0.4.0->langchain-chroma) (5.29.4)\n",
            "Requirement already satisfied: sympy in /usr/local/lib/python3.11/dist-packages (from onnxruntime>=1.14.1->chromadb!=0.5.10,!=0.5.11,!=0.5.12,!=0.5.4,!=0.5.5,!=0.5.7,!=0.5.9,<0.7.0,>=0.4.0->langchain-chroma) (1.13.1)\n",
            "Requirement already satisfied: deprecated>=1.2.6 in /usr/local/lib/python3.11/dist-packages (from opentelemetry-api>=1.2.0->chromadb!=0.5.10,!=0.5.11,!=0.5.12,!=0.5.4,!=0.5.5,!=0.5.7,!=0.5.9,<0.7.0,>=0.4.0->langchain-chroma) (1.2.18)\n",
            "Requirement already satisfied: importlib-metadata<8.7.0,>=6.0 in /usr/local/lib/python3.11/dist-packages (from opentelemetry-api>=1.2.0->chromadb!=0.5.10,!=0.5.11,!=0.5.12,!=0.5.4,!=0.5.5,!=0.5.7,!=0.5.9,<0.7.0,>=0.4.0->langchain-chroma) (8.6.1)\n",
            "Requirement already satisfied: googleapis-common-protos~=1.52 in /usr/local/lib/python3.11/dist-packages (from opentelemetry-exporter-otlp-proto-grpc>=1.2.0->chromadb!=0.5.10,!=0.5.11,!=0.5.12,!=0.5.4,!=0.5.5,!=0.5.7,!=0.5.9,<0.7.0,>=0.4.0->langchain-chroma) (1.69.2)\n",
            "Collecting opentelemetry-exporter-otlp-proto-common==1.31.1 (from opentelemetry-exporter-otlp-proto-grpc>=1.2.0->chromadb!=0.5.10,!=0.5.11,!=0.5.12,!=0.5.4,!=0.5.5,!=0.5.7,!=0.5.9,<0.7.0,>=0.4.0->langchain-chroma)\n",
            "  Downloading opentelemetry_exporter_otlp_proto_common-1.31.1-py3-none-any.whl.metadata (1.9 kB)\n",
            "Collecting opentelemetry-proto==1.31.1 (from opentelemetry-exporter-otlp-proto-grpc>=1.2.0->chromadb!=0.5.10,!=0.5.11,!=0.5.12,!=0.5.4,!=0.5.5,!=0.5.7,!=0.5.9,<0.7.0,>=0.4.0->langchain-chroma)\n",
            "  Downloading opentelemetry_proto-1.31.1-py3-none-any.whl.metadata (2.4 kB)\n",
            "Collecting opentelemetry-instrumentation-asgi==0.52b1 (from opentelemetry-instrumentation-fastapi>=0.41b0->chromadb!=0.5.10,!=0.5.11,!=0.5.12,!=0.5.4,!=0.5.5,!=0.5.7,!=0.5.9,<0.7.0,>=0.4.0->langchain-chroma)\n",
            "  Downloading opentelemetry_instrumentation_asgi-0.52b1-py3-none-any.whl.metadata (2.1 kB)\n",
            "Collecting opentelemetry-instrumentation==0.52b1 (from opentelemetry-instrumentation-fastapi>=0.41b0->chromadb!=0.5.10,!=0.5.11,!=0.5.12,!=0.5.4,!=0.5.5,!=0.5.7,!=0.5.9,<0.7.0,>=0.4.0->langchain-chroma)\n",
            "  Downloading opentelemetry_instrumentation-0.52b1-py3-none-any.whl.metadata (6.8 kB)\n",
            "Requirement already satisfied: opentelemetry-semantic-conventions==0.52b1 in /usr/local/lib/python3.11/dist-packages (from opentelemetry-instrumentation-fastapi>=0.41b0->chromadb!=0.5.10,!=0.5.11,!=0.5.12,!=0.5.4,!=0.5.5,!=0.5.7,!=0.5.9,<0.7.0,>=0.4.0->langchain-chroma) (0.52b1)\n",
            "Collecting opentelemetry-util-http==0.52b1 (from opentelemetry-instrumentation-fastapi>=0.41b0->chromadb!=0.5.10,!=0.5.11,!=0.5.12,!=0.5.4,!=0.5.5,!=0.5.7,!=0.5.9,<0.7.0,>=0.4.0->langchain-chroma)\n",
            "  Downloading opentelemetry_util_http-0.52b1-py3-none-any.whl.metadata (2.6 kB)\n",
            "Requirement already satisfied: wrapt<2.0.0,>=1.0.0 in /usr/local/lib/python3.11/dist-packages (from opentelemetry-instrumentation==0.52b1->opentelemetry-instrumentation-fastapi>=0.41b0->chromadb!=0.5.10,!=0.5.11,!=0.5.12,!=0.5.4,!=0.5.5,!=0.5.7,!=0.5.9,<0.7.0,>=0.4.0->langchain-chroma) (1.17.2)\n",
            "Collecting asgiref~=3.0 (from opentelemetry-instrumentation-asgi==0.52b1->opentelemetry-instrumentation-fastapi>=0.41b0->chromadb!=0.5.10,!=0.5.11,!=0.5.12,!=0.5.4,!=0.5.5,!=0.5.7,!=0.5.9,<0.7.0,>=0.4.0->langchain-chroma)\n",
            "  Downloading asgiref-3.8.1-py3-none-any.whl.metadata (9.3 kB)\n",
            "Collecting monotonic>=1.5 (from posthog>=2.4.0->chromadb!=0.5.10,!=0.5.11,!=0.5.12,!=0.5.4,!=0.5.5,!=0.5.7,!=0.5.9,<0.7.0,>=0.4.0->langchain-chroma)\n",
            "  Downloading monotonic-1.6-py2.py3-none-any.whl.metadata (1.5 kB)\n",
            "Collecting backoff>=1.10.0 (from posthog>=2.4.0->chromadb!=0.5.10,!=0.5.11,!=0.5.12,!=0.5.4,!=0.5.5,!=0.5.7,!=0.5.9,<0.7.0,>=0.4.0->langchain-chroma)\n",
            "  Downloading backoff-2.2.1-py3-none-any.whl.metadata (14 kB)\n",
            "Requirement already satisfied: distro>=1.5.0 in /usr/local/lib/python3.11/dist-packages (from posthog>=2.4.0->chromadb!=0.5.10,!=0.5.11,!=0.5.12,!=0.5.4,!=0.5.5,!=0.5.7,!=0.5.9,<0.7.0,>=0.4.0->langchain-chroma) (1.9.0)\n",
            "Requirement already satisfied: annotated-types>=0.6.0 in /usr/local/lib/python3.11/dist-packages (from pydantic>=1.9->chromadb!=0.5.10,!=0.5.11,!=0.5.12,!=0.5.4,!=0.5.5,!=0.5.7,!=0.5.9,<0.7.0,>=0.4.0->langchain-chroma) (0.7.0)\n",
            "Requirement already satisfied: pydantic-core==2.33.0 in /usr/local/lib/python3.11/dist-packages (from pydantic>=1.9->chromadb!=0.5.10,!=0.5.11,!=0.5.12,!=0.5.4,!=0.5.5,!=0.5.7,!=0.5.9,<0.7.0,>=0.4.0->langchain-chroma) (2.33.0)\n",
            "Requirement already satisfied: typing-inspection>=0.4.0 in /usr/local/lib/python3.11/dist-packages (from pydantic>=1.9->chromadb!=0.5.10,!=0.5.11,!=0.5.12,!=0.5.4,!=0.5.5,!=0.5.7,!=0.5.9,<0.7.0,>=0.4.0->langchain-chroma) (0.4.0)\n",
            "Requirement already satisfied: markdown-it-py>=2.2.0 in /usr/local/lib/python3.11/dist-packages (from rich>=10.11.0->chromadb!=0.5.10,!=0.5.11,!=0.5.12,!=0.5.4,!=0.5.5,!=0.5.7,!=0.5.9,<0.7.0,>=0.4.0->langchain-chroma) (3.0.0)\n",
            "Requirement already satisfied: pygments<3.0.0,>=2.13.0 in /usr/local/lib/python3.11/dist-packages (from rich>=10.11.0->chromadb!=0.5.10,!=0.5.11,!=0.5.12,!=0.5.4,!=0.5.5,!=0.5.7,!=0.5.9,<0.7.0,>=0.4.0->langchain-chroma) (2.18.0)\n",
            "Requirement already satisfied: huggingface-hub<1.0,>=0.16.4 in /usr/local/lib/python3.11/dist-packages (from tokenizers>=0.13.2->chromadb!=0.5.10,!=0.5.11,!=0.5.12,!=0.5.4,!=0.5.5,!=0.5.7,!=0.5.9,<0.7.0,>=0.4.0->langchain-chroma) (0.29.3)\n",
            "Requirement already satisfied: click>=8.0.0 in /usr/local/lib/python3.11/dist-packages (from typer>=0.9.0->chromadb!=0.5.10,!=0.5.11,!=0.5.12,!=0.5.4,!=0.5.5,!=0.5.7,!=0.5.9,<0.7.0,>=0.4.0->langchain-chroma) (8.1.8)\n",
            "Requirement already satisfied: shellingham>=1.3.0 in /usr/local/lib/python3.11/dist-packages (from typer>=0.9.0->chromadb!=0.5.10,!=0.5.11,!=0.5.12,!=0.5.4,!=0.5.5,!=0.5.7,!=0.5.9,<0.7.0,>=0.4.0->langchain-chroma) (1.5.4)\n",
            "Collecting httptools>=0.6.3 (from uvicorn[standard]>=0.18.3->chromadb!=0.5.10,!=0.5.11,!=0.5.12,!=0.5.4,!=0.5.5,!=0.5.7,!=0.5.9,<0.7.0,>=0.4.0->langchain-chroma)\n",
            "  Downloading httptools-0.6.4-cp311-cp311-manylinux_2_5_x86_64.manylinux1_x86_64.manylinux_2_17_x86_64.manylinux2014_x86_64.whl.metadata (3.6 kB)\n",
            "Requirement already satisfied: python-dotenv>=0.13 in /usr/local/lib/python3.11/dist-packages (from uvicorn[standard]>=0.18.3->chromadb!=0.5.10,!=0.5.11,!=0.5.12,!=0.5.4,!=0.5.5,!=0.5.7,!=0.5.9,<0.7.0,>=0.4.0->langchain-chroma) (1.1.0)\n",
            "Collecting uvloop!=0.15.0,!=0.15.1,>=0.14.0 (from uvicorn[standard]>=0.18.3->chromadb!=0.5.10,!=0.5.11,!=0.5.12,!=0.5.4,!=0.5.5,!=0.5.7,!=0.5.9,<0.7.0,>=0.4.0->langchain-chroma)\n",
            "  Downloading uvloop-0.21.0-cp311-cp311-manylinux_2_17_x86_64.manylinux2014_x86_64.whl.metadata (4.9 kB)\n",
            "Collecting watchfiles>=0.13 (from uvicorn[standard]>=0.18.3->chromadb!=0.5.10,!=0.5.11,!=0.5.12,!=0.5.4,!=0.5.5,!=0.5.7,!=0.5.9,<0.7.0,>=0.4.0->langchain-chroma)\n",
            "  Downloading watchfiles-1.0.4-cp311-cp311-manylinux_2_17_x86_64.manylinux2014_x86_64.whl.metadata (4.9 kB)\n",
            "Requirement already satisfied: websockets>=10.4 in /usr/local/lib/python3.11/dist-packages (from uvicorn[standard]>=0.18.3->chromadb!=0.5.10,!=0.5.11,!=0.5.12,!=0.5.4,!=0.5.5,!=0.5.7,!=0.5.9,<0.7.0,>=0.4.0->langchain-chroma) (15.0.1)\n",
            "Requirement already satisfied: cachetools<6.0,>=2.0.0 in /usr/local/lib/python3.11/dist-packages (from google-auth>=1.0.1->kubernetes>=28.1.0->chromadb!=0.5.10,!=0.5.11,!=0.5.12,!=0.5.4,!=0.5.5,!=0.5.7,!=0.5.9,<0.7.0,>=0.4.0->langchain-chroma) (5.5.2)\n",
            "Requirement already satisfied: pyasn1-modules>=0.2.1 in /usr/local/lib/python3.11/dist-packages (from google-auth>=1.0.1->kubernetes>=28.1.0->chromadb!=0.5.10,!=0.5.11,!=0.5.12,!=0.5.4,!=0.5.5,!=0.5.7,!=0.5.9,<0.7.0,>=0.4.0->langchain-chroma) (0.4.2)\n",
            "Requirement already satisfied: rsa<5,>=3.1.4 in /usr/local/lib/python3.11/dist-packages (from google-auth>=1.0.1->kubernetes>=28.1.0->chromadb!=0.5.10,!=0.5.11,!=0.5.12,!=0.5.4,!=0.5.5,!=0.5.7,!=0.5.9,<0.7.0,>=0.4.0->langchain-chroma) (4.9)\n",
            "Requirement already satisfied: filelock in /usr/local/lib/python3.11/dist-packages (from huggingface-hub<1.0,>=0.16.4->tokenizers>=0.13.2->chromadb!=0.5.10,!=0.5.11,!=0.5.12,!=0.5.4,!=0.5.5,!=0.5.7,!=0.5.9,<0.7.0,>=0.4.0->langchain-chroma) (3.18.0)\n",
            "Requirement already satisfied: fsspec>=2023.5.0 in /usr/local/lib/python3.11/dist-packages (from huggingface-hub<1.0,>=0.16.4->tokenizers>=0.13.2->chromadb!=0.5.10,!=0.5.11,!=0.5.12,!=0.5.4,!=0.5.5,!=0.5.7,!=0.5.9,<0.7.0,>=0.4.0->langchain-chroma) (2025.3.0)\n",
            "Requirement already satisfied: zipp>=3.20 in /usr/local/lib/python3.11/dist-packages (from importlib-metadata<8.7.0,>=6.0->opentelemetry-api>=1.2.0->chromadb!=0.5.10,!=0.5.11,!=0.5.12,!=0.5.4,!=0.5.5,!=0.5.7,!=0.5.9,<0.7.0,>=0.4.0->langchain-chroma) (3.21.0)\n",
            "Requirement already satisfied: mdurl~=0.1 in /usr/local/lib/python3.11/dist-packages (from markdown-it-py>=2.2.0->rich>=10.11.0->chromadb!=0.5.10,!=0.5.11,!=0.5.12,!=0.5.4,!=0.5.5,!=0.5.7,!=0.5.9,<0.7.0,>=0.4.0->langchain-chroma) (0.1.2)\n",
            "Requirement already satisfied: charset-normalizer<4,>=2 in /usr/local/lib/python3.11/dist-packages (from requests->kubernetes>=28.1.0->chromadb!=0.5.10,!=0.5.11,!=0.5.12,!=0.5.4,!=0.5.5,!=0.5.7,!=0.5.9,<0.7.0,>=0.4.0->langchain-chroma) (3.4.1)\n",
            "Requirement already satisfied: sniffio>=1.1 in /usr/local/lib/python3.11/dist-packages (from anyio->httpx>=0.27.0->chromadb!=0.5.10,!=0.5.11,!=0.5.12,!=0.5.4,!=0.5.5,!=0.5.7,!=0.5.9,<0.7.0,>=0.4.0->langchain-chroma) (1.3.1)\n",
            "Collecting humanfriendly>=9.1 (from coloredlogs->onnxruntime>=1.14.1->chromadb!=0.5.10,!=0.5.11,!=0.5.12,!=0.5.4,!=0.5.5,!=0.5.7,!=0.5.9,<0.7.0,>=0.4.0->langchain-chroma)\n",
            "  Downloading humanfriendly-10.0-py2.py3-none-any.whl.metadata (9.2 kB)\n",
            "Requirement already satisfied: mpmath<1.4,>=1.1.0 in /usr/local/lib/python3.11/dist-packages (from sympy->onnxruntime>=1.14.1->chromadb!=0.5.10,!=0.5.11,!=0.5.12,!=0.5.4,!=0.5.5,!=0.5.7,!=0.5.9,<0.7.0,>=0.4.0->langchain-chroma) (1.3.0)\n",
            "Requirement already satisfied: pyasn1<0.7.0,>=0.6.1 in /usr/local/lib/python3.11/dist-packages (from pyasn1-modules>=0.2.1->google-auth>=1.0.1->kubernetes>=28.1.0->chromadb!=0.5.10,!=0.5.11,!=0.5.12,!=0.5.4,!=0.5.5,!=0.5.7,!=0.5.9,<0.7.0,>=0.4.0->langchain-chroma) (0.6.1)\n",
            "Downloading langchain_chroma-0.2.2-py3-none-any.whl (11 kB)\n",
            "Downloading chromadb-0.6.3-py3-none-any.whl (611 kB)\n",
            "\u001b[2K   \u001b[90m━━━━━━━━━━━━━━━━━━━━━━━━━━━━━━━━━━━━━━━━\u001b[0m \u001b[32m611.1/611.1 kB\u001b[0m \u001b[31m16.6 MB/s\u001b[0m eta \u001b[36m0:00:00\u001b[0m\n",
            "\u001b[?25hDownloading chroma_hnswlib-0.7.6-cp311-cp311-manylinux_2_17_x86_64.manylinux2014_x86_64.whl (2.4 MB)\n",
            "\u001b[2K   \u001b[90m━━━━━━━━━━━━━━━━━━━━━━━━━━━━━━━━━━━━━━━━\u001b[0m \u001b[32m2.4/2.4 MB\u001b[0m \u001b[31m59.5 MB/s\u001b[0m eta \u001b[36m0:00:00\u001b[0m\n",
            "\u001b[?25hDownloading numpy-1.26.4-cp311-cp311-manylinux_2_17_x86_64.manylinux2014_x86_64.whl (18.3 MB)\n",
            "\u001b[2K   \u001b[90m━━━━━━━━━━━━━━━━━━━━━━━━━━━━━━━━━━━━━━━━\u001b[0m \u001b[32m18.3/18.3 MB\u001b[0m \u001b[31m83.1 MB/s\u001b[0m eta \u001b[36m0:00:00\u001b[0m\n",
            "\u001b[?25hDownloading bcrypt-4.3.0-cp39-abi3-manylinux_2_34_x86_64.whl (284 kB)\n",
            "\u001b[2K   \u001b[90m━━━━━━━━━━━━━━━━━━━━━━━━━━━━━━━━━━━━━━━━\u001b[0m \u001b[32m284.2/284.2 kB\u001b[0m \u001b[31m18.8 MB/s\u001b[0m eta \u001b[36m0:00:00\u001b[0m\n",
            "\u001b[?25hDownloading build-1.2.2.post1-py3-none-any.whl (22 kB)\n",
            "Downloading fastapi-0.115.12-py3-none-any.whl (95 kB)\n",
            "\u001b[2K   \u001b[90m━━━━━━━━━━━━━━━━━━━━━━━━━━━━━━━━━━━━━━━━\u001b[0m \u001b[32m95.2/95.2 kB\u001b[0m \u001b[31m7.1 MB/s\u001b[0m eta \u001b[36m0:00:00\u001b[0m\n",
            "\u001b[?25hDownloading kubernetes-32.0.1-py2.py3-none-any.whl (2.0 MB)\n",
            "\u001b[2K   \u001b[90m━━━━━━━━━━━━━━━━━━━━━━━━━━━━━━━━━━━━━━━━\u001b[0m \u001b[32m2.0/2.0 MB\u001b[0m \u001b[31m67.8 MB/s\u001b[0m eta \u001b[36m0:00:00\u001b[0m\n",
            "\u001b[?25hDownloading mmh3-5.1.0-cp311-cp311-manylinux_2_5_x86_64.manylinux1_x86_64.manylinux_2_17_x86_64.manylinux2014_x86_64.whl (101 kB)\n",
            "\u001b[2K   \u001b[90m━━━━━━━━━━━━━━━━━━━━━━━━━━━━━━━━━━━━━━━━\u001b[0m \u001b[32m101.6/101.6 kB\u001b[0m \u001b[31m7.5 MB/s\u001b[0m eta \u001b[36m0:00:00\u001b[0m\n",
            "\u001b[?25hDownloading onnxruntime-1.21.0-cp311-cp311-manylinux_2_27_x86_64.manylinux_2_28_x86_64.whl (16.0 MB)\n",
            "\u001b[2K   \u001b[90m━━━━━━━━━━━━━━━━━━━━━━━━━━━━━━━━━━━━━━━━\u001b[0m \u001b[32m16.0/16.0 MB\u001b[0m \u001b[31m78.3 MB/s\u001b[0m eta \u001b[36m0:00:00\u001b[0m\n",
            "\u001b[?25hDownloading opentelemetry_exporter_otlp_proto_grpc-1.31.1-py3-none-any.whl (18 kB)\n",
            "Downloading opentelemetry_exporter_otlp_proto_common-1.31.1-py3-none-any.whl (18 kB)\n",
            "Downloading opentelemetry_proto-1.31.1-py3-none-any.whl (55 kB)\n",
            "\u001b[2K   \u001b[90m━━━━━━━━━━━━━━━━━━━━━━━━━━━━━━━━━━━━━━━━\u001b[0m \u001b[32m55.9/55.9 kB\u001b[0m \u001b[31m4.2 MB/s\u001b[0m eta \u001b[36m0:00:00\u001b[0m\n",
            "\u001b[?25hDownloading opentelemetry_instrumentation_fastapi-0.52b1-py3-none-any.whl (12 kB)\n",
            "Downloading opentelemetry_instrumentation-0.52b1-py3-none-any.whl (31 kB)\n",
            "Downloading opentelemetry_instrumentation_asgi-0.52b1-py3-none-any.whl (16 kB)\n",
            "Downloading opentelemetry_util_http-0.52b1-py3-none-any.whl (7.3 kB)\n",
            "Downloading overrides-7.7.0-py3-none-any.whl (17 kB)\n",
            "Downloading posthog-3.23.0-py2.py3-none-any.whl (84 kB)\n",
            "\u001b[2K   \u001b[90m━━━━━━━━━━━━━━━━━━━━━━━━━━━━━━━━━━━━━━━━\u001b[0m \u001b[32m85.0/85.0 kB\u001b[0m \u001b[31m6.4 MB/s\u001b[0m eta \u001b[36m0:00:00\u001b[0m\n",
            "\u001b[?25hDownloading uvicorn-0.34.0-py3-none-any.whl (62 kB)\n",
            "\u001b[2K   \u001b[90m━━━━━━━━━━━━━━━━━━━━━━━━━━━━━━━━━━━━━━━━\u001b[0m \u001b[32m62.3/62.3 kB\u001b[0m \u001b[31m4.5 MB/s\u001b[0m eta \u001b[36m0:00:00\u001b[0m\n",
            "\u001b[?25hDownloading backoff-2.2.1-py3-none-any.whl (15 kB)\n",
            "Downloading durationpy-0.9-py3-none-any.whl (3.5 kB)\n",
            "Downloading httptools-0.6.4-cp311-cp311-manylinux_2_5_x86_64.manylinux1_x86_64.manylinux_2_17_x86_64.manylinux2014_x86_64.whl (459 kB)\n",
            "\u001b[2K   \u001b[90m━━━━━━━━━━━━━━━━━━━━━━━━━━━━━━━━━━━━━━━━\u001b[0m \u001b[32m459.8/459.8 kB\u001b[0m \u001b[31m29.3 MB/s\u001b[0m eta \u001b[36m0:00:00\u001b[0m\n",
            "\u001b[?25hDownloading monotonic-1.6-py2.py3-none-any.whl (8.2 kB)\n",
            "Downloading starlette-0.46.1-py3-none-any.whl (71 kB)\n",
            "\u001b[2K   \u001b[90m━━━━━━━━━━━━━━━━━━━━━━━━━━━━━━━━━━━━━━━━\u001b[0m \u001b[32m72.0/72.0 kB\u001b[0m \u001b[31m6.0 MB/s\u001b[0m eta \u001b[36m0:00:00\u001b[0m\n",
            "\u001b[?25hDownloading uvloop-0.21.0-cp311-cp311-manylinux_2_17_x86_64.manylinux2014_x86_64.whl (4.0 MB)\n",
            "\u001b[2K   \u001b[90m━━━━━━━━━━━━━━━━━━━━━━━━━━━━━━━━━━━━━━━━\u001b[0m \u001b[32m4.0/4.0 MB\u001b[0m \u001b[31m85.6 MB/s\u001b[0m eta \u001b[36m0:00:00\u001b[0m\n",
            "\u001b[?25hDownloading watchfiles-1.0.4-cp311-cp311-manylinux_2_17_x86_64.manylinux2014_x86_64.whl (452 kB)\n",
            "\u001b[2K   \u001b[90m━━━━━━━━━━━━━━━━━━━━━━━━━━━━━━━━━━━━━━━━\u001b[0m \u001b[32m452.6/452.6 kB\u001b[0m \u001b[31m29.4 MB/s\u001b[0m eta \u001b[36m0:00:00\u001b[0m\n",
            "\u001b[?25hDownloading coloredlogs-15.0.1-py2.py3-none-any.whl (46 kB)\n",
            "\u001b[2K   \u001b[90m━━━━━━━━━━━━━━━━━━━━━━━━━━━━━━━━━━━━━━━━\u001b[0m \u001b[32m46.0/46.0 kB\u001b[0m \u001b[31m3.0 MB/s\u001b[0m eta \u001b[36m0:00:00\u001b[0m\n",
            "\u001b[?25hDownloading pyproject_hooks-1.2.0-py3-none-any.whl (10 kB)\n",
            "Downloading asgiref-3.8.1-py3-none-any.whl (23 kB)\n",
            "Downloading humanfriendly-10.0-py2.py3-none-any.whl (86 kB)\n",
            "\u001b[2K   \u001b[90m━━━━━━━━━━━━━━━━━━━━━━━━━━━━━━━━━━━━━━━━\u001b[0m \u001b[32m86.8/86.8 kB\u001b[0m \u001b[31m6.7 MB/s\u001b[0m eta \u001b[36m0:00:00\u001b[0m\n",
            "\u001b[?25hBuilding wheels for collected packages: pypika\n",
            "  Building wheel for pypika (pyproject.toml) ... \u001b[?25l\u001b[?25hdone\n",
            "  Created wheel for pypika: filename=pypika-0.48.9-py2.py3-none-any.whl size=53800 sha256=6aee41b7c1cb93a894eb2e9ef1cf3083e3cd21675b3b1e2d7ea7c65d475bed05\n",
            "  Stored in directory: /root/.cache/pip/wheels/a3/01/bd/4c40ceb9d5354160cb186dcc153360f4ab7eb23e2b24daf96d\n",
            "Successfully built pypika\n",
            "Installing collected packages: pypika, monotonic, durationpy, uvloop, uvicorn, pyproject_hooks, overrides, opentelemetry-util-http, opentelemetry-proto, numpy, mmh3, humanfriendly, httptools, bcrypt, backoff, asgiref, watchfiles, starlette, posthog, opentelemetry-exporter-otlp-proto-common, coloredlogs, chroma-hnswlib, build, onnxruntime, kubernetes, fastapi, opentelemetry-instrumentation, opentelemetry-instrumentation-asgi, opentelemetry-exporter-otlp-proto-grpc, opentelemetry-instrumentation-fastapi, chromadb, langchain-chroma\n",
            "  Attempting uninstall: numpy\n",
            "    Found existing installation: numpy 2.0.2\n",
            "    Uninstalling numpy-2.0.2:\n",
            "      Successfully uninstalled numpy-2.0.2\n",
            "Successfully installed asgiref-3.8.1 backoff-2.2.1 bcrypt-4.3.0 build-1.2.2.post1 chroma-hnswlib-0.7.6 chromadb-0.6.3 coloredlogs-15.0.1 durationpy-0.9 fastapi-0.115.12 httptools-0.6.4 humanfriendly-10.0 kubernetes-32.0.1 langchain-chroma-0.2.2 mmh3-5.1.0 monotonic-1.6 numpy-1.26.4 onnxruntime-1.21.0 opentelemetry-exporter-otlp-proto-common-1.31.1 opentelemetry-exporter-otlp-proto-grpc-1.31.1 opentelemetry-instrumentation-0.52b1 opentelemetry-instrumentation-asgi-0.52b1 opentelemetry-instrumentation-fastapi-0.52b1 opentelemetry-proto-1.31.1 opentelemetry-util-http-0.52b1 overrides-7.7.0 posthog-3.23.0 pypika-0.48.9 pyproject_hooks-1.2.0 starlette-0.46.1 uvicorn-0.34.0 uvloop-0.21.0 watchfiles-1.0.4\n",
            "Collecting faiss-cpu\n",
            "  Downloading faiss_cpu-1.10.0-cp311-cp311-manylinux_2_28_x86_64.whl.metadata (4.4 kB)\n",
            "Requirement already satisfied: numpy<3.0,>=1.25.0 in /usr/local/lib/python3.11/dist-packages (from faiss-cpu) (1.26.4)\n",
            "Requirement already satisfied: packaging in /usr/local/lib/python3.11/dist-packages (from faiss-cpu) (24.2)\n",
            "Downloading faiss_cpu-1.10.0-cp311-cp311-manylinux_2_28_x86_64.whl (30.7 MB)\n",
            "\u001b[2K   \u001b[90m━━━━━━━━━━━━━━━━━━━━━━━━━━━━━━━━━━━━━━━━\u001b[0m \u001b[32m30.7/30.7 MB\u001b[0m \u001b[31m56.6 MB/s\u001b[0m eta \u001b[36m0:00:00\u001b[0m\n",
            "\u001b[?25hInstalling collected packages: faiss-cpu\n",
            "Successfully installed faiss-cpu-1.10.0\n",
            "Collecting langgraph\n",
            "  Downloading langgraph-0.3.22-py3-none-any.whl.metadata (7.7 kB)\n",
            "Requirement already satisfied: langchain-core<0.4,>=0.1 in /usr/local/lib/python3.11/dist-packages (from langgraph) (0.3.49)\n",
            "Collecting langgraph-checkpoint<3.0.0,>=2.0.10 (from langgraph)\n",
            "  Downloading langgraph_checkpoint-2.0.23-py3-none-any.whl.metadata (4.6 kB)\n",
            "Collecting langgraph-prebuilt<0.2,>=0.1.1 (from langgraph)\n",
            "  Downloading langgraph_prebuilt-0.1.7-py3-none-any.whl.metadata (5.0 kB)\n",
            "Collecting langgraph-sdk<0.2.0,>=0.1.42 (from langgraph)\n",
            "  Downloading langgraph_sdk-0.1.60-py3-none-any.whl.metadata (1.8 kB)\n",
            "Collecting xxhash<4.0.0,>=3.5.0 (from langgraph)\n",
            "  Downloading xxhash-3.5.0-cp311-cp311-manylinux_2_17_x86_64.manylinux2014_x86_64.whl.metadata (12 kB)\n",
            "Requirement already satisfied: langsmith<0.4,>=0.1.125 in /usr/local/lib/python3.11/dist-packages (from langchain-core<0.4,>=0.1->langgraph) (0.3.19)\n",
            "Requirement already satisfied: tenacity!=8.4.0,<10.0.0,>=8.1.0 in /usr/local/lib/python3.11/dist-packages (from langchain-core<0.4,>=0.1->langgraph) (9.0.0)\n",
            "Requirement already satisfied: jsonpatch<2.0,>=1.33 in /usr/local/lib/python3.11/dist-packages (from langchain-core<0.4,>=0.1->langgraph) (1.33)\n",
            "Requirement already satisfied: PyYAML>=5.3 in /usr/local/lib/python3.11/dist-packages (from langchain-core<0.4,>=0.1->langgraph) (6.0.2)\n",
            "Requirement already satisfied: packaging<25,>=23.2 in /usr/local/lib/python3.11/dist-packages (from langchain-core<0.4,>=0.1->langgraph) (24.2)\n",
            "Requirement already satisfied: typing-extensions>=4.7 in /usr/local/lib/python3.11/dist-packages (from langchain-core<0.4,>=0.1->langgraph) (4.13.0)\n",
            "Requirement already satisfied: pydantic<3.0.0,>=2.5.2 in /usr/local/lib/python3.11/dist-packages (from langchain-core<0.4,>=0.1->langgraph) (2.11.0)\n",
            "Collecting ormsgpack<2.0.0,>=1.8.0 (from langgraph-checkpoint<3.0.0,>=2.0.10->langgraph)\n",
            "  Downloading ormsgpack-1.9.1-cp311-cp311-manylinux_2_17_x86_64.manylinux2014_x86_64.whl.metadata (43 kB)\n",
            "\u001b[2K     \u001b[90m━━━━━━━━━━━━━━━━━━━━━━━━━━━━━━━━━━━━━━━━\u001b[0m \u001b[32m43.5/43.5 kB\u001b[0m \u001b[31m1.7 MB/s\u001b[0m eta \u001b[36m0:00:00\u001b[0m\n",
            "\u001b[?25hRequirement already satisfied: httpx>=0.25.2 in /usr/local/lib/python3.11/dist-packages (from langgraph-sdk<0.2.0,>=0.1.42->langgraph) (0.28.1)\n",
            "Requirement already satisfied: orjson>=3.10.1 in /usr/local/lib/python3.11/dist-packages (from langgraph-sdk<0.2.0,>=0.1.42->langgraph) (3.10.16)\n",
            "Requirement already satisfied: anyio in /usr/local/lib/python3.11/dist-packages (from httpx>=0.25.2->langgraph-sdk<0.2.0,>=0.1.42->langgraph) (4.9.0)\n",
            "Requirement already satisfied: certifi in /usr/local/lib/python3.11/dist-packages (from httpx>=0.25.2->langgraph-sdk<0.2.0,>=0.1.42->langgraph) (2025.1.31)\n",
            "Requirement already satisfied: httpcore==1.* in /usr/local/lib/python3.11/dist-packages (from httpx>=0.25.2->langgraph-sdk<0.2.0,>=0.1.42->langgraph) (1.0.7)\n",
            "Requirement already satisfied: idna in /usr/local/lib/python3.11/dist-packages (from httpx>=0.25.2->langgraph-sdk<0.2.0,>=0.1.42->langgraph) (3.10)\n",
            "Requirement already satisfied: h11<0.15,>=0.13 in /usr/local/lib/python3.11/dist-packages (from httpcore==1.*->httpx>=0.25.2->langgraph-sdk<0.2.0,>=0.1.42->langgraph) (0.14.0)\n",
            "Requirement already satisfied: jsonpointer>=1.9 in /usr/local/lib/python3.11/dist-packages (from jsonpatch<2.0,>=1.33->langchain-core<0.4,>=0.1->langgraph) (3.0.0)\n",
            "Requirement already satisfied: requests<3,>=2 in /usr/local/lib/python3.11/dist-packages (from langsmith<0.4,>=0.1.125->langchain-core<0.4,>=0.1->langgraph) (2.32.3)\n",
            "Requirement already satisfied: requests-toolbelt<2.0.0,>=1.0.0 in /usr/local/lib/python3.11/dist-packages (from langsmith<0.4,>=0.1.125->langchain-core<0.4,>=0.1->langgraph) (1.0.0)\n",
            "Requirement already satisfied: zstandard<0.24.0,>=0.23.0 in /usr/local/lib/python3.11/dist-packages (from langsmith<0.4,>=0.1.125->langchain-core<0.4,>=0.1->langgraph) (0.23.0)\n",
            "Requirement already satisfied: annotated-types>=0.6.0 in /usr/local/lib/python3.11/dist-packages (from pydantic<3.0.0,>=2.5.2->langchain-core<0.4,>=0.1->langgraph) (0.7.0)\n",
            "Requirement already satisfied: pydantic-core==2.33.0 in /usr/local/lib/python3.11/dist-packages (from pydantic<3.0.0,>=2.5.2->langchain-core<0.4,>=0.1->langgraph) (2.33.0)\n",
            "Requirement already satisfied: typing-inspection>=0.4.0 in /usr/local/lib/python3.11/dist-packages (from pydantic<3.0.0,>=2.5.2->langchain-core<0.4,>=0.1->langgraph) (0.4.0)\n",
            "Requirement already satisfied: charset-normalizer<4,>=2 in /usr/local/lib/python3.11/dist-packages (from requests<3,>=2->langsmith<0.4,>=0.1.125->langchain-core<0.4,>=0.1->langgraph) (3.4.1)\n",
            "Requirement already satisfied: urllib3<3,>=1.21.1 in /usr/local/lib/python3.11/dist-packages (from requests<3,>=2->langsmith<0.4,>=0.1.125->langchain-core<0.4,>=0.1->langgraph) (2.3.0)\n",
            "Requirement already satisfied: sniffio>=1.1 in /usr/local/lib/python3.11/dist-packages (from anyio->httpx>=0.25.2->langgraph-sdk<0.2.0,>=0.1.42->langgraph) (1.3.1)\n",
            "Downloading langgraph-0.3.22-py3-none-any.whl (139 kB)\n",
            "\u001b[2K   \u001b[90m━━━━━━━━━━━━━━━━━━━━━━━━━━━━━━━━━━━━━━━━\u001b[0m \u001b[32m139.6/139.6 kB\u001b[0m \u001b[31m4.3 MB/s\u001b[0m eta \u001b[36m0:00:00\u001b[0m\n",
            "\u001b[?25hDownloading langgraph_checkpoint-2.0.23-py3-none-any.whl (41 kB)\n",
            "\u001b[2K   \u001b[90m━━━━━━━━━━━━━━━━━━━━━━━━━━━━━━━━━━━━━━━━\u001b[0m \u001b[32m41.9/41.9 kB\u001b[0m \u001b[31m3.2 MB/s\u001b[0m eta \u001b[36m0:00:00\u001b[0m\n",
            "\u001b[?25hDownloading langgraph_prebuilt-0.1.7-py3-none-any.whl (25 kB)\n",
            "Downloading langgraph_sdk-0.1.60-py3-none-any.whl (47 kB)\n",
            "\u001b[2K   \u001b[90m━━━━━━━━━━━━━━━━━━━━━━━━━━━━━━━━━━━━━━━━\u001b[0m \u001b[32m47.1/47.1 kB\u001b[0m \u001b[31m3.9 MB/s\u001b[0m eta \u001b[36m0:00:00\u001b[0m\n",
            "\u001b[?25hDownloading xxhash-3.5.0-cp311-cp311-manylinux_2_17_x86_64.manylinux2014_x86_64.whl (194 kB)\n",
            "\u001b[2K   \u001b[90m━━━━━━━━━━━━━━━━━━━━━━━━━━━━━━━━━━━━━━━━\u001b[0m \u001b[32m194.8/194.8 kB\u001b[0m \u001b[31m9.6 MB/s\u001b[0m eta \u001b[36m0:00:00\u001b[0m\n",
            "\u001b[?25hDownloading ormsgpack-1.9.1-cp311-cp311-manylinux_2_17_x86_64.manylinux2014_x86_64.whl (223 kB)\n",
            "\u001b[2K   \u001b[90m━━━━━━━━━━━━━━━━━━━━━━━━━━━━━━━━━━━━━━━━\u001b[0m \u001b[32m223.6/223.6 kB\u001b[0m \u001b[31m15.0 MB/s\u001b[0m eta \u001b[36m0:00:00\u001b[0m\n",
            "\u001b[?25hInstalling collected packages: xxhash, ormsgpack, langgraph-sdk, langgraph-checkpoint, langgraph-prebuilt, langgraph\n",
            "Successfully installed langgraph-0.3.22 langgraph-checkpoint-2.0.23 langgraph-prebuilt-0.1.7 langgraph-sdk-0.1.60 ormsgpack-1.9.1 xxhash-3.5.0\n"
          ]
        }
      ]
    },
    {
      "cell_type": "code",
      "execution_count": 8,
      "metadata": {
        "id": "NREJVLpOQxLy"
      },
      "outputs": [],
      "source": [
        "from langchain_community.document_loaders import AsyncHtmlLoader\n",
        "from langchain_community.document_transformers import Html2TextTransformer\n",
        "\n",
        "from langchain.tools import BaseTool\n",
        "from pydantic import Field\n",
        "\n",
        "import requests\n",
        "\n",
        "\n",
        "import os\n",
        "import getpass\n",
        "from langchain_community.document_loaders import TextLoader\n",
        "from langchain_text_splitters import CharacterTextSplitter\n",
        "from langchain_google_genai import GoogleGenerativeAIEmbeddings\n",
        "from langchain_chroma import Chroma\n",
        "from langchain_community.vectorstores import FAISS\n",
        "from langchain.tools.retriever import create_retriever_tool\n",
        "from langchain_google_genai import ChatGoogleGenerativeAI\n",
        "from langgraph.prebuilt import create_react_agent\n",
        "from IPython.display import Image, display, Markdown\n",
        "import textwrap\n",
        "from langchain_core.messages import AnyMessage, SystemMessage, HumanMessage, ToolMessage, AIMessage, trim_messages\n",
        "from langchain_community.tools.tavily_search import TavilySearchResults\n",
        "from langgraph.checkpoint.memory import MemorySaver\n",
        "\n",
        "from langchain_community.document_loaders import AsyncHtmlLoader\n",
        "from langchain_community.document_transformers import Html2TextTransformer\n",
        "\n",
        "from langchain.tools import BaseTool\n",
        "from pydantic import Field\n",
        "\n",
        "import requests\n"
      ]
    },
    {
      "cell_type": "code",
      "source": [
        "if \"GOOGLE_API_KEY\" not in os.environ:\n",
        "    os.environ['GOOGLE_API_KEY'] = getpass.getpass('Gemini API Key:')\n",
        "\n",
        "if \"TAVILY_API_KEY\" not in os.environ:\n",
        "    os.environ[\"TAVILY_API_KEY\"] = getpass.getpass(\"Enter your Tavily API key: \")\n",
        "\n"
      ],
      "metadata": {
        "colab": {
          "base_uri": "https://localhost:8080/"
        },
        "id": "Jcwy0pMIQ3LJ",
        "outputId": "15281d78-4845-4c59-d126-37086653aaa6"
      },
      "execution_count": 6,
      "outputs": [
        {
          "name": "stdout",
          "output_type": "stream",
          "text": [
            "Gemini API Key:··········\n",
            "Enter your Tavily API key: ··········\n"
          ]
        }
      ]
    },
    {
      "cell_type": "code",
      "source": [
        "\n",
        "# Create LLM model\n",
        "model = ChatGoogleGenerativeAI(\n",
        "    model=\"gemini-2.0-flash\",\n",
        "    temperature=0,\n",
        "    max_retries=2\n",
        ")\n",
        ""
      ],
      "metadata": {
        "id": "CE1fD8JaRfuw"
      },
      "execution_count": 7,
      "outputs": []
    },
    {
      "cell_type": "code",
      "source": [],
      "metadata": {
        "id": "iwYRoCAfTVbZ"
      },
      "execution_count": null,
      "outputs": []
    },
    {
      "cell_type": "code",
      "source": [
        "class WebsiteContentTool(BaseTool):\n",
        "    name: str = Field(default=\"website_content_tool\", description=\"The name of the tool\") # Define name as a Pydantic Field with type annotation\n",
        "    description: str = Field(default=\"Useful for retrieving the content of a given website URL. Input should be a valid URL.\", description=\"The description of the tool\")  # Define description as a Pydantic Field with type annotation\n",
        "\n",
        "    def _run(self, urls):\n",
        "        try:\n",
        "            loader = AsyncHtmlLoader(urls)\n",
        "            docs = loader.load()\n",
        "            html2text = Html2TextTransformer()\n",
        "            docs_transformed = html2text.transform_documents(docs)\n",
        "\n",
        "            return docs_transformed\n",
        "\n",
        "        except requests.exceptions.RequestException as e:\n",
        "            return f\"Error fetching URL: {e}\"\n",
        "        except Exception as e:\n",
        "            return f\"An unexpected error occurred: {e}\"\n",
        "\n",
        "    async def _arun(self, url: str) -> str:\n",
        "        \"\"\"Use the tool asynchronously.\"\"\"\n",
        "        raise NotImplementedError(\"WebsiteContentTool does not support async\")\n",
        ""
      ],
      "metadata": {
        "id": "KmhU5SyFSQA6"
      },
      "execution_count": 27,
      "outputs": []
    },
    {
      "cell_type": "code",
      "source": [
        "WCT = WebsiteContentTool()\n",
        "\n",
        "list_of_webpages = ['https://www.nibud.nl/onderwerpen/uitgaven/geld-besparen/',\n",
        "                    'https://www.nibud.nl/onderwerpen/uitgaven/kosten-energie-water/']\n",
        "\n",
        "docs_transformed = WCT._run(list_of_webpages)"
      ],
      "metadata": {
        "colab": {
          "base_uri": "https://localhost:8080/"
        },
        "id": "S5a_AXu-Sa1Q",
        "outputId": "d950c65b-0f37-46c6-c1c6-c58c2937331c"
      },
      "execution_count": 33,
      "outputs": [
        {
          "output_type": "stream",
          "name": "stderr",
          "text": [
            "Fetching pages: 100%|##########| 2/2 [00:00<00:00,  3.40it/s]\n"
          ]
        }
      ]
    },
    {
      "cell_type": "code",
      "source": [
        "\n",
        "# Load the document, split it into chunks, embed each chunk and load it into the vector store.\n",
        "text_splitter = CharacterTextSplitter(chunk_size=1000, chunk_overlap=0)\n",
        "documents = text_splitter.split_documents(docs_transformed)"
      ],
      "metadata": {
        "colab": {
          "base_uri": "https://localhost:8080/"
        },
        "id": "TicPJq1wSHBW",
        "outputId": "8fc6041a-4a10-4926-fe6c-c34f5b52b662"
      },
      "execution_count": 34,
      "outputs": [
        {
          "output_type": "stream",
          "name": "stderr",
          "text": [
            "WARNING:langchain_text_splitters.base:Created a chunk of size 1922, which is longer than the specified 1000\n",
            "WARNING:langchain_text_splitters.base:Created a chunk of size 1401, which is longer than the specified 1000\n",
            "WARNING:langchain_text_splitters.base:Created a chunk of size 2084, which is longer than the specified 1000\n",
            "WARNING:langchain_text_splitters.base:Created a chunk of size 1033, which is longer than the specified 1000\n"
          ]
        }
      ]
    },
    {
      "cell_type": "code",
      "source": [
        "documents"
      ],
      "metadata": {
        "colab": {
          "base_uri": "https://localhost:8080/"
        },
        "id": "GPoyv7vQSNTa",
        "outputId": "2f539911-7c4c-4aab-d1c2-e92399fc0b3e"
      },
      "execution_count": 35,
      "outputs": [
        {
          "output_type": "execute_result",
          "data": {
            "text/plain": [
              "[Document(metadata={'source': 'https://www.nibud.nl/onderwerpen/uitgaven/geld-besparen/', 'title': 'Geld besparen - Nibud', 'description': 'Je wilt besparen op je uitgaven, maar hoe pak je het aan? Met onze tips en een bespaarplan helpen we je op weg met minder geld uitgeven.', 'language': 'nl-NL'}, page_content='Direct naar content\\n\\n  * Nieuws\\n  * Webwinkel\\n\\nMenu\\n\\n  * Onderwerpen\\n    * Rondkomen\\n    * Sparen\\n    * Uitgaven\\n    * Geldproblemen\\n    * Inkomensondersteuning\\n    * Kinderen en jongeren\\n    * Wonen\\n    * Pensioen\\n    * Uit elkaar\\n    * Werken\\n  * Dossiers\\n    * Voldoende inkomen\\n    * Financiële weerbaarheid\\n    * Betaalbaar wonen\\n    * Betaalbare energietransitie\\n  * Samenwerken\\n    * Voorlichting op maat\\n    * Onderzoek en advies\\n    * Deskundigheidsbevordering\\n    * Cijfers en rekentools\\n    * Cursussen, workshops en coaching\\n    * Werkvelden\\n  * Over het Nibud\\n    * Over de organisatie\\n    * Onze missie en impact\\n    * Financiering\\n    * Samenwerken met het Nibud\\n    * Werken bij het Nibud\\n    * Informatie voor pers\\n    * Medewerkers\\n    * Contact met het Nibud\\n\\n  * Nieuws\\n  * Webwinkel'),\n",
              " Document(metadata={'source': 'https://www.nibud.nl/onderwerpen/uitgaven/geld-besparen/', 'title': 'Geld besparen - Nibud', 'description': 'Je wilt besparen op je uitgaven, maar hoe pak je het aan? Met onze tips en een bespaarplan helpen we je op weg met minder geld uitgeven.', 'language': 'nl-NL'}, page_content='* Onderwerpen\\n    * Rondkomen\\n    * Sparen\\n    * Uitgaven\\n    * Geldproblemen\\n    * Inkomensondersteuning\\n    * Kinderen en jongeren\\n    * Wonen\\n    * Pensioen\\n    * Uit elkaar\\n    * Werken\\n  * Dossiers\\n    * Voldoende inkomen\\n    * Financiële weerbaarheid\\n    * Betaalbaar wonen\\n    * Betaalbare energietransitie\\n  * Samenwerken\\n    * Voorlichting op maat\\n    * Onderzoek en advies\\n    * Deskundigheidsbevordering\\n    * Cijfers en rekentools\\n    * Cursussen, workshops en coaching\\n    * Werkvelden\\n  * Over het Nibud\\n    * Over de organisatie\\n    * Onze missie en impact\\n    * Financiering\\n    * Samenwerken met het Nibud\\n    * Werken bij het Nibud\\n    * Informatie voor pers\\n    * Medewerkers\\n    * Contact met het Nibud\\n\\nZoeken\\n\\nZoeken\\n\\nZoek\\n\\n##  Melding: Altijd op de hoogte met de Nibud nieuwsbrief\\n\\nElke maand het laatste nieuws en handige tips van onze experts  Aanmelden\\n\\nSluit melding\\n\\nHome Onderwerpen Uitgaven Geld besparen\\n\\n#  Geld besparen'),\n",
              " Document(metadata={'source': 'https://www.nibud.nl/onderwerpen/uitgaven/geld-besparen/', 'title': 'Geld besparen - Nibud', 'description': 'Je wilt besparen op je uitgaven, maar hoe pak je het aan? Met onze tips en een bespaarplan helpen we je op weg met minder geld uitgeven.', 'language': 'nl-NL'}, page_content='Wil je besparen op je uitgaven? Of wil je meer inzicht krijgen in waar het\\ngeld blijft en bewustere geldkeuzes maken? Met deze bespaartips en een\\nbespaarplan maak je hier een goed begin mee.\\n\\n## Op deze pagina\\n\\n  * Bespaarplan maken \\n  * Bijhouden is besparen \\n  * Tips om geld te besparen \\n\\n## **Een bespaarplan maken**\\n\\nWil je serieus werk maken van je voornemen om te besparen? Maak dan een goed\\nbegin en gebruik ons stappenplan. In vier stappen maak je een eigen,\\npersoonlijk bespaarplan. Met wat uitleg en structuur weet je beter waar je aan\\nbegint en maak je de kans groter dat je je doel behaalt. De stappen zijn:\\n\\nStap 1. Waar kun je op besparen?  \\nStap 2. Keuzes maken  \\nStap 3. Bepaal je persoonlijke bespaarplan  \\nStap 4. Wat levert het op?\\n\\nBespaarplan maken\\n\\n## **Bijhouden is besparen**\\n\\nDe kans is groot dat je niet precies weet hoeveel geld je hebt uitgegeven aan\\nboodschappen deze week. Of wat je hebt besteed aan kleine aankopen her en der.'),\n",
              " Document(metadata={'source': 'https://www.nibud.nl/onderwerpen/uitgaven/geld-besparen/', 'title': 'Geld besparen - Nibud', 'description': 'Je wilt besparen op je uitgaven, maar hoe pak je het aan? Met onze tips en een bespaarplan helpen we je op weg met minder geld uitgeven.', 'language': 'nl-NL'}, page_content='Het bijhouden van uitgaven is vaak de eerste stap als je wilt besparen. We\\ngeven vaak ongemerkt meer uit dan we denken. Als je weet waar het geld naartoe\\ngaat, kun je gaan budgetteren. Dat geeft grip.\\n\\nVeel bankieren-apps plaatsen je uitgaven al in bepaalde categorieën, zoals\\nboodschappen, kleding en wonen. Je kunt de uitgaven ook in een kasboek of\\nschriftje opschrijven. Het Nibud heeft een handig kasboek dat je kunt kopen in\\nde webwinkel.\\n\\n  * ###  Kasboek \\n\\nProduct\\n\\nSnel en eenvoudig inzicht in de dagelijkse uitgaven.\\n\\nVanaf €9.95 (incl. btw)\\n\\nBestel in de winkel Opent in een nieuw venster\\n\\n## **Tips om geld te besparen**\\n\\nBoodschappen, tussendoortjes of (online) shoppen. Vele kleine uitgaven kunnen\\nbij elkaar een groot bedrag zijn. Daar kun je misschien op besparen als je er\\niets meer bij stilstaat. Heb ik dit echt nodig? Kan dit goedkoper? Met deze\\ntips wordt het makkelijker om te besparen.\\n\\n### **Geld besparen op boodschappen**'),\n",
              " Document(metadata={'source': 'https://www.nibud.nl/onderwerpen/uitgaven/geld-besparen/', 'title': 'Geld besparen - Nibud', 'description': 'Je wilt besparen op je uitgaven, maar hoe pak je het aan? Met onze tips en een bespaarplan helpen we je op weg met minder geld uitgeven.', 'language': 'nl-NL'}, page_content='We doen allemaal boodschappen. Daarom denken we er vaak niet veel over na.\\nMaar boodschappen kunnen per maand een grote uitgavenpost zijn. Met wat kleine\\naanpassingen kun je hierop besparen.'),\n",
              " Document(metadata={'source': 'https://www.nibud.nl/onderwerpen/uitgaven/geld-besparen/', 'title': 'Geld besparen - Nibud', 'description': 'Je wilt besparen op je uitgaven, maar hoe pak je het aan? Met onze tips en een bespaarplan helpen we je op weg met minder geld uitgeven.', 'language': 'nl-NL'}, page_content='* Maak een weekplanning. Bepaal wat je huishouden per dag eet en plan dit voor een paar dagen of een week vooruit. Dat bespaart tijd en geld. Haal eens per week of op een vast moment de boodschappen in huis. Zo hoef je niet iedere dag naar de supermarkt en word je niet verleid om extraatjes te kopen.\\n  * Bekijk de folders van de supermarkten in de buurt. Die zijn vaak ook online te vinden. Bepaal de boodschappen voor het weekmenu met producten die op dat moment in de aanbieding zijn.\\n  * Aanbiedingen kunnen flink wat voordeel opleveren. Maar alleen bij producten die je ook in die hoeveelheid gebruikt. Let dus op dat je niet te veel (verse) boodschappen in huis haalt, alleen omdat het in de aanbieding is. Anders moet je die weggooien, en dat is zonde. Lang houdbare producten als koffie, wasmiddel of bijvoorbeeld tandpasta of shampoo gaan wel altijd op.\\n  * Zorg dat je een makkelijke maaltijd, zoals kliekjes of een kant-en-klare maaltijd, in huis hebt voor als je na een lange dag geen zin hebt om te koken. Dat is goedkoper dan eten bestellen.\\n  * Doe geen boodschappen op een lege maag. Met trek is het een stuk aantrekkelijker om extraatjes in je boodschappenkar te doen.\\n  * Gaan de kinderen mee? Spreek van tevoren af wat je wel en niet koopt. En wat zij eventueel uit mogen kiezen.\\n  * Heb je toch een voorkeur voor een bepaald A-merk? Koop dan wel andere producten van het goedkopere huismerk, waarbij het minder uitmaakt.\\n  * Op de markt zijn de prijzen soms lager. Dat kan gelden voor levensmiddelen, maar ook voor verzorgingsproducten, fietsspullen of diervoeding.\\n  * Vergelijk de prijzen. Er zijn vergelijkings- of aanbiedingssites die hierbij helpen. Vergelijk bijvoorbeeld de prijs per kilo of per liter van een product. Pas dan weet je of het ene merk duurder is dan het andere.\\n  * Besparen doe je ook door zo min mogelijk te verspillen. Kijk op de website van Milieu Centraal voor meer tips.'),\n",
              " Document(metadata={'source': 'https://www.nibud.nl/onderwerpen/uitgaven/geld-besparen/', 'title': 'Geld besparen - Nibud', 'description': 'Je wilt besparen op je uitgaven, maar hoe pak je het aan? Met onze tips en een bespaarplan helpen we je op weg met minder geld uitgeven.', 'language': 'nl-NL'}, page_content='### **Creatieve manieren om geld te besparen**\\n\\nDoor bewuster te winkelen en minder spullen te kopen, bespaar je ook geld.'),\n",
              " Document(metadata={'source': 'https://www.nibud.nl/onderwerpen/uitgaven/geld-besparen/', 'title': 'Geld besparen - Nibud', 'description': 'Je wilt besparen op je uitgaven, maar hoe pak je het aan? Met onze tips en een bespaarplan helpen we je op weg met minder geld uitgeven.', 'language': 'nl-NL'}, page_content=\"* Kleine, terugkerende uitgaven kunnen aardig oplopen. Denk aan de dagelijkse koffie-to-go of de zak drop bij het tankstation. Het effect van het ongemerkt weglekken van geld noemen we de latte-factor.\\n  * Denk bewust na over een aankoop. Slaap er een nachtje over. Als je online winkelt, plaats het product dan in je winkelmandje en kijk of je het een dag later nog zo graag wilt.\\n  * Als je iets aantrekkelijks ziet wat boven je budget ligt, bedenk dan wat je ervoor moet opgeven.\\n  * Samen delen komt steeds vaker voor. Denk bijvoorbeeld aan het delen van gereedschap met de buren of familie. Het ruilen van producten zoals bij een kledingruil, of deelsystemen voor auto's en boeken.\\n  * Zoek op social media naar weggeefhoeken of lokale groepen met gratis af te halen spullen. Denk ook aan Marktplaats.\\n  * Wacht op de uitverkoop of koop in het ‘verkeerde’ seizoen. Na de kerstdagen zijn veel feestspullen volop in de aanbieding en na de zomervakantie de campingspullen.\\n  * Stel vooraf een budget vast en hou je daaraan als je niet meer dan een bepaald bedrag uit wilt geven.\\n  * Bewaar de bonnetjes. Slim geruild is beter dan niet gebruikt.\\n  * Kies niet meteen voor nieuw of duur. Misschien kun je ook uit de voeten met tweedehands of een goedkoper merk.\\n  * In de bibliotheek kun je naast (e-)boeken ook luisterboeken lenen, tijdschriften lezen en meer. Jongeren tot 18 jaar zijn gratis lid.\"),\n",
              " Document(metadata={'source': 'https://www.nibud.nl/onderwerpen/uitgaven/geld-besparen/', 'title': 'Geld besparen - Nibud', 'description': 'Je wilt besparen op je uitgaven, maar hoe pak je het aan? Met onze tips en een bespaarplan helpen we je op weg met minder geld uitgeven.', 'language': 'nl-NL'}, page_content='### **Besparen op energie**\\n\\nOok op de energiekosten kun je misschien besparen door bewuster met water en\\nelektriciteit om te gaan. Kijk voor onze tips hierover bij Kosten van energie\\n\\n## Meer over besparen\\n\\n  * Huishoudelijke uitgaven \\n\\n  * Kosten van energie en water \\n\\n  * Verzekeren \\n\\n  * Grip op je abonnementen \\n\\n## Abonneer je op onze nieuwsbrief\\n\\nElke maand het laatste nieuws en handige tips van onze experts. Meer dan\\n80.000 mensen zijn inmiddels abonnee!\\n\\nInschrijven voor nieuwsbrief\\n\\n  * ###  Onderwerpen \\n\\n    * Rondkomen\\n    * Geldproblemen\\n    * Kinderen en jongeren\\n    * Sparen\\n    * Uitgaven\\n    * Pensioen\\n    * Werken\\n    * Inkomensondersteuning\\n    * Wonen\\n    * Uit elkaar\\n\\n  * ###  Direct naar \\n\\n    * Dossiers\\n    * Alle tools en tests\\n    * Informatie voor pers\\n    * Praktijkverhalen\\n    * Onderzoeksrapporten\\n\\n  * ###  Over het Nibud \\n\\n    * Contact met het Nibud\\n    * Over de organisatie\\n    * Samenwerken met het Nibud\\n    * Werken bij het Nibud\\n    * About Nibud'),\n",
              " Document(metadata={'source': 'https://www.nibud.nl/onderwerpen/uitgaven/geld-besparen/', 'title': 'Geld besparen - Nibud', 'description': 'Je wilt besparen op je uitgaven, maar hoe pak je het aan? Met onze tips en een bespaarplan helpen we je op weg met minder geld uitgeven.', 'language': 'nl-NL'}, page_content='Onderwerpen\\n\\n  * Rondkomen\\n  * Geldproblemen\\n  * Kinderen en jongeren\\n  * Sparen\\n  * Uitgaven\\n  * Pensioen\\n  * Werken\\n  * Inkomensondersteuning\\n  * Wonen\\n  * Uit elkaar\\n\\nDirect naar\\n\\n  * Dossiers\\n  * Alle tools en tests\\n  * Informatie voor pers\\n  * Praktijkverhalen\\n  * Onderzoeksrapporten\\n\\nOver het Nibud\\n\\n  * Contact met het Nibud\\n  * Over de organisatie\\n  * Samenwerken met het Nibud\\n  * Werken bij het Nibud\\n  * About Nibud\\n\\nHet Nibud is een onafhankelijk voorlichtingsinstituut.  \\nWe doen onderzoek naar en geven voorlichting over de huishoudportemonnee. Het\\nNibud is een stichting zonder winstoogmerk.\\n\\nVolg ons\\n\\n  *   * \\n\\nContact met Nibud\\n\\n(C) Copyright Nibud 2025\\n\\n  * Privacyverklaring\\n  * Cookiebeleid\\n  * Copyrights\\n  * Proclaimer\\n  * Responsible Disclosure\\n  * Digitale toegankelijkheid'),\n",
              " Document(metadata={'source': 'https://www.nibud.nl/onderwerpen/uitgaven/kosten-energie-water/', 'title': 'Kosten van energie en water | Nibud', 'description': 'Welke kosten maak je voor het gebruik van energie, water en gas? Vergelijk jezelf met anderen en kijk of en hoe je kunt besparen.', 'language': 'nl-NL'}, page_content='Direct naar content\\n\\n  * Nieuws\\n  * Webwinkel\\n\\nMenu\\n\\n  * Onderwerpen\\n    * Rondkomen\\n    * Sparen\\n    * Uitgaven\\n    * Geldproblemen\\n    * Inkomensondersteuning\\n    * Kinderen en jongeren\\n    * Wonen\\n    * Pensioen\\n    * Uit elkaar\\n    * Werken\\n  * Dossiers\\n    * Voldoende inkomen\\n    * Financiële weerbaarheid\\n    * Betaalbaar wonen\\n    * Betaalbare energietransitie\\n  * Samenwerken\\n    * Voorlichting op maat\\n    * Onderzoek en advies\\n    * Deskundigheidsbevordering\\n    * Cijfers en rekentools\\n    * Cursussen, workshops en coaching\\n    * Werkvelden\\n  * Over het Nibud\\n    * Over de organisatie\\n    * Onze missie en impact\\n    * Financiering\\n    * Samenwerken met het Nibud\\n    * Werken bij het Nibud\\n    * Informatie voor pers\\n    * Medewerkers\\n    * Contact met het Nibud\\n\\n  * Nieuws\\n  * Webwinkel'),\n",
              " Document(metadata={'source': 'https://www.nibud.nl/onderwerpen/uitgaven/kosten-energie-water/', 'title': 'Kosten van energie en water | Nibud', 'description': 'Welke kosten maak je voor het gebruik van energie, water en gas? Vergelijk jezelf met anderen en kijk of en hoe je kunt besparen.', 'language': 'nl-NL'}, page_content='* Onderwerpen\\n    * Rondkomen\\n    * Sparen\\n    * Uitgaven\\n    * Geldproblemen\\n    * Inkomensondersteuning\\n    * Kinderen en jongeren\\n    * Wonen\\n    * Pensioen\\n    * Uit elkaar\\n    * Werken\\n  * Dossiers\\n    * Voldoende inkomen\\n    * Financiële weerbaarheid\\n    * Betaalbaar wonen\\n    * Betaalbare energietransitie\\n  * Samenwerken\\n    * Voorlichting op maat\\n    * Onderzoek en advies\\n    * Deskundigheidsbevordering\\n    * Cijfers en rekentools\\n    * Cursussen, workshops en coaching\\n    * Werkvelden\\n  * Over het Nibud\\n    * Over de organisatie\\n    * Onze missie en impact\\n    * Financiering\\n    * Samenwerken met het Nibud\\n    * Werken bij het Nibud\\n    * Informatie voor pers\\n    * Medewerkers\\n    * Contact met het Nibud\\n\\nZoeken\\n\\nZoeken\\n\\nZoek\\n\\n##  Melding: Altijd op de hoogte met de Nibud nieuwsbrief\\n\\nElke maand het laatste nieuws en handige tips van onze experts  Aanmelden\\n\\nSluit melding\\n\\nHome Onderwerpen Uitgaven Kosten van energie en water\\n\\n#  Kosten van energie en water'),\n",
              " Document(metadata={'source': 'https://www.nibud.nl/onderwerpen/uitgaven/kosten-energie-water/', 'title': 'Kosten van energie en water | Nibud', 'description': 'Welke kosten maak je voor het gebruik van energie, water en gas? Vergelijk jezelf met anderen en kijk of en hoe je kunt besparen.', 'language': 'nl-NL'}, page_content='Je uitgaven aan energie en water zijn maandelijks terugkerende kosten, ook wel\\nvaste lasten genoemd. Wat zijn de gemiddelde kosten van gas, water en\\nelektriciteit? En hoe kun je erop besparen?\\n\\n## Op deze pagina\\n\\n  * Kosten van gas \\n  * Kosten van elektriciteit \\n  * Overstappen en opzegvergoeding \\n  * Kosten van water \\n  * Besparen op energie \\n\\nHet Nibud heeft cijfers van de gemiddelde uitgaven van huishoudens voor gas,\\nwater en elektriciteit. Dat is handig als je gaat verhuizen of een begroting\\nwilt maken. Je kunt zien welke kosten huishoudens maken die lijken op het\\njouwe.\\n\\n## Kosten van g**as**\\n\\nGas is vaak nodig om het huis te verwarmen. Ook wordt water meestal met gas\\nverwarmd en heb je gas nodig als je een gasfornuis hebt. Hoeveel gas je\\nverbruikt, is vooral afhankelijk van het type woning waarin je woont. Het\\naantal personen doet er voor gasverbruik minder toe.'),\n",
              " Document(metadata={'source': 'https://www.nibud.nl/onderwerpen/uitgaven/kosten-energie-water/', 'title': 'Kosten van energie en water | Nibud', 'description': 'Welke kosten maak je voor het gebruik van energie, water en gas? Vergelijk jezelf met anderen en kijk of en hoe je kunt besparen.', 'language': 'nl-NL'}, page_content='De maandelijkse gaskosten bestaan uit het gasverbruik en kosten voor het\\nvervoer van gas naar jouw woning en gebruik van de meter. Je betaalt een\\nvoorschot dat berekend wordt op basis van je verbruik van het vorige jaar met\\nhet tarief dat voor dit jaar geldt. Per energiebedrijf en per type contract\\nzijn de prijzen verschillend. Let hierop bij het afsluiten van een contract.\\nDe Autoriteit Consument en Markt (ACM) geeft meer informatie over de\\nverschillende prijzen.\\n\\nGasverbruik en kosten per maand Woningtype | Gemiddeld verbruik per jaar in m3 | Kosten per maand in €*  \\n---|---|---  \\nFlat | 750 | 110  \\nTussenwoning | 990 | 136  \\nHoekwoning | 1.160 | 155  \\n2 onder 1 kap | 1.320 | 172  \\nVrijstaand | 1.740 | 218  \\nGemiddeld alle woningen | 1.000 | 137  \\n  \\n*Bij een gastarief van € 1,32 en een gemiddeld vastrecht van € 27,12 per maand (inclusief 21 procent btw.) Bedragen afgerond en per jan. 2025.  \\nBron: Milieu Centraal en CBS (berekening Nibud, 2025)\\n\\n## **Kosten van elektriciteit**'),\n",
              " Document(metadata={'source': 'https://www.nibud.nl/onderwerpen/uitgaven/kosten-energie-water/', 'title': 'Kosten van energie en water | Nibud', 'description': 'Welke kosten maak je voor het gebruik van energie, water en gas? Vergelijk jezelf met anderen en kijk of en hoe je kunt besparen.', 'language': 'nl-NL'}, page_content='Het elektriciteitsverbruik is vooral afhankelijk van het aantal personen in\\nhuis. Het gemiddelde verbruik en de maandelijkse kosten per huishouden vind je\\nin de tabel hieronder. De kosten hangen natuurlijk nauw samen met de\\nelektrische apparaten die je gebruikt en hoe zuinig die zijn.\\n\\nIn Nederland betalen we energiebelasting per verbruikte kWh voor elektriciteit\\nen per kuub voor gas. Elk huishouden krijgt hiervan een deel terug in de vorm\\nvan een belastingvermindering (de jaarlijkse teruggaaf genoemd). Dit bedrag\\nwordt verrekend met de energierekening. Meestal gebeurt dat bij de jaarlijkse\\nelektriciteitsrekening. Lees meer over energiebelasting en –tarieven op de\\nwebsite van Milieu Centraal. Je kunt daar ook je energiekosten berekenen.'),\n",
              " Document(metadata={'source': 'https://www.nibud.nl/onderwerpen/uitgaven/kosten-energie-water/', 'title': 'Kosten van energie en water | Nibud', 'description': 'Welke kosten maak je voor het gebruik van energie, water en gas? Vergelijk jezelf met anderen en kijk of en hoe je kunt besparen.', 'language': 'nl-NL'}, page_content='Kosten elektriciteit Aantal personen in huishouden | Gemiddeld verbruik per jaar in kWh | Kosten per maand in €*  \\n---|---|---  \\n1 | 1.640 | 33,50  \\n2 | 2.550 | 56  \\n3 | 3.080 | 68,50  \\n4 | 3.600 | 81,50  \\n5 of meer | 3.980 | 90,50  \\nGemiddeld per huishouden | 2.500 | 54,50  \\n  \\n*Bij een elektriciteitstarief van € 0,29 per kWh en een vastrecht van € 47,01 per maand en belastingvermindering van € 635,19 (alles inclusief 21 procent btw). Bedragen afgerond en per jan. 2025.  \\nBron: Milieu Centraal en CBS (berekening Nibud, 2025)\\n\\n### **Groene stroom of groen gas**\\n\\nDe meeste energiebedrijven bieden ook groene stroom of gas aan. Groene energie\\nis op een schone, milieuvriendelijke manier opgewekt. Bijvoorbeeld door de\\nwind, zon of water. Bij deze manier van opwekken wordt veel minder of geen\\nschadelijke CO2 uitgestoten.'),\n",
              " Document(metadata={'source': 'https://www.nibud.nl/onderwerpen/uitgaven/kosten-energie-water/', 'title': 'Kosten van energie en water | Nibud', 'description': 'Welke kosten maak je voor het gebruik van energie, water en gas? Vergelijk jezelf met anderen en kijk of en hoe je kunt besparen.', 'language': 'nl-NL'}, page_content='_Tip: Er zijn online vergelijkingssites die prijzen van groene energie met\\nandere elektriciteits- en gasprijzen vergelijken. Waar moet je op letten als\\nje een goede vergelijker wilt vinden? Bij_ _ConsuWijzer_ _vind je hierover\\nonafhankelijk advies._\\n\\n## Overstappen\\n\\nAls je zeker wilt weten wat je betaalt voor je energie, kan je een vast\\ncontract afsluiten. Je hebt de optie om eerder op te zeggen of over te\\nstappen. Op 1 juni 2023 zijn de regels voor het eerder opzeggen van een vast\\ncontract veranderd. Dit betekent dat je goed moet berekenen of overstappen\\necht voordeliger is. Hier vind je meer informatie over opzeggen.\\n\\n### Opzegvergoeding'),\n",
              " Document(metadata={'source': 'https://www.nibud.nl/onderwerpen/uitgaven/kosten-energie-water/', 'title': 'Kosten van energie en water | Nibud', 'description': 'Welke kosten maak je voor het gebruik van energie, water en gas? Vergelijk jezelf met anderen en kijk of en hoe je kunt besparen.', 'language': 'nl-NL'}, page_content='Met een vast contract leg je vast hoeveel je betaalt voor je energie. Je\\nleverancier koopt voor die periode energie in, en moet dit aan jou leveren.\\nAls jij je contract eerder opzegt, moet je leverancier de energie weer\\nproberen te verkopen. Als zij daarbij verlies lijden, bijvoorbeeld omdat de\\nprijzen zijn gedaald, mogen zij kosten rekenen voor opzeggen (ook wel een\\nopzegvergoeding genoemd).\\n\\n## Kosten van water\\n\\nOok het waterverbruik is afhankelijk van het aantal personen dat in een huis\\nwoont. Een derde van het water gaat op aan douchen en baden. De rest aan\\nkleding wassen, naar het toilet gaan en koken. De gemiddelde kosten vind je in\\nde tabel hieronder.'),\n",
              " Document(metadata={'source': 'https://www.nibud.nl/onderwerpen/uitgaven/kosten-energie-water/', 'title': 'Kosten van energie en water | Nibud', 'description': 'Welke kosten maak je voor het gebruik van energie, water en gas? Vergelijk jezelf met anderen en kijk of en hoe je kunt besparen.', 'language': 'nl-NL'}, page_content='Waterverbruik Aantal personen in huishouden | Gemiddeld verbruik per jaar in m3 | Kosten per maand in €*  \\n---|---|---  \\n1 | 68 | 17,50  \\n2 | 95 | 21,00  \\n3 | 123 | 25,00  \\n4 | 163 | 31,50  \\n5 | 187 | 34,50  \\n  \\n*Berekend met een gemiddeld tarief van € 1,77 per m3 en gemiddeld vastrecht van € 85 per jaar (alles inclusief 9 procent btw). Afgeronde bedragen.  \\nBron: Vewin (berekening Nibud, januari 2025)\\n\\n### **Wassen, douchen en in bad**\\n\\nWat kost het als je de was doet en droogt? En het nemen van een bad of douche?\\nDat hangt allemaal af van de manier waarop het water wordt verwarmd en de\\nhoeveelheid water die je verbruikt.\\n\\n#### **Wat kost een wasbeurt?**\\n\\nVoor een wasbeurt betaal je water, wasmiddel en de afschrijving en onderhoud\\nvan de wasmachine. Vooral de energiekosten maken een wasbeurt duurder. Hoe\\nhoger de temperatuur, hoe meer energie er wordt verbruikt.'),\n",
              " Document(metadata={'source': 'https://www.nibud.nl/onderwerpen/uitgaven/kosten-energie-water/', 'title': 'Kosten van energie en water | Nibud', 'description': 'Welke kosten maak je voor het gebruik van energie, water en gas? Vergelijk jezelf met anderen en kijk of en hoe je kunt besparen.', 'language': 'nl-NL'}, page_content='Zo betaal je voor een was op 90 graden € 1,53, een was op 60 graden € 1,23,\\nbij 40 graden € 1,11 en bij 30 graden ben je € 1,00 aan totale kosten kwijt.\\n\\n#### **De wasdroger**\\n\\nBij een droger met luchtafvoer zijn de kosten per droogbeurt ongeveer € 1,54.\\nHet drogen van een was met een wasdroger is duurder dan een wasbeurt. Dat komt\\nomdat er veel warmte en dus energie nodig is.\\n\\n#### **Kosten van douchen en baden**\\n\\nEen douchebeurt kost gemiddeld 65 liter warm water, bij 8 minuten douchen.\\nDaarvoor betaal je € 0,52 bij een gasboiler (ketel) en € 0,57 bij een\\nelektrische boiler.\\n\\nEen bad verbruikt ongeveer 120 liter warm water per keer. Daarvoor betaal je €\\n1,06 bij een gasboiler en € 1,28 bij een elektrische boiler.\\n\\nBron: CBS en Vewin 2024, berekening Nibud 2025.\\n\\n## **Besparen op energie**\\n\\nEr zijn meerdere manieren om te besparen op de energierekening, ook als je\\ngeen budget hebt om grote investeringen te doen. Hieronder geven we de\\nbelangrijkste tips.'),\n",
              " Document(metadata={'source': 'https://www.nibud.nl/onderwerpen/uitgaven/kosten-energie-water/', 'title': 'Kosten van energie en water | Nibud', 'description': 'Welke kosten maak je voor het gebruik van energie, water en gas? Vergelijk jezelf met anderen en kijk of en hoe je kunt besparen.', 'language': 'nl-NL'}, page_content='### **Slimme meters en vergelijken**\\n\\nVeel energieleveranciers geven via maandelijkse overzichten inzicht in je\\nverbruik. Ook kun je werken met slimme thermostaten, slimme meters en/of\\nhandige apps. Hoe meer zicht je houdt op het verbruik, hoe beter je gaat zien\\nwaar je kan besparen.\\n\\nDe organisatie Milieu Centraal heeft veel tips en tools die je helpen,\\nwaaronder een vergelijker en een Bespaartest.\\n\\n  * ###  Energietips \\n\\nNaar de energietips van Milieu Centraal Opent in een nieuw venster\\n\\n  * ### \\n\\nDoe de Bespaartest Opent in een nieuw venster\\n\\n### **Tips voor isoleren en ventileren**'),\n",
              " Document(metadata={'source': 'https://www.nibud.nl/onderwerpen/uitgaven/kosten-energie-water/', 'title': 'Kosten van energie en water | Nibud', 'description': 'Welke kosten maak je voor het gebruik van energie, water en gas? Vergelijk jezelf met anderen en kijk of en hoe je kunt besparen.', 'language': 'nl-NL'}, page_content='* Maak kieren rond ramen en buitendeuren dicht met zelfklevend tochtband of met tochtstrips. Dan blijft de warmte binnen en de kou buiten.\\n  * Sommige gemeenten helpen huishoudens met weinig geld door isolatiemateriaal gratis aan te bieden. Vraag het eens na bij je gemeente.\\n  * Goed ventileren is belangrijk. Een droog huis verwarmen kost minder energie dan een vochtig huis. Zorg ook dat lucht goed door je huis kan stromen, via ruimte onder de binnendeuren of roosters in binnendeuren en -muren.\\n\\n### **Tips voor slim omgaan met apparaten**'),\n",
              " Document(metadata={'source': 'https://www.nibud.nl/onderwerpen/uitgaven/kosten-energie-water/', 'title': 'Kosten van energie en water | Nibud', 'description': 'Welke kosten maak je voor het gebruik van energie, water en gas? Vergelijk jezelf met anderen en kijk of en hoe je kunt besparen.', 'language': 'nl-NL'}, page_content='* Heeft de wasmachine een eco-knop of eco-stand, gebruik die dan in plaats van het gewone programma. De was duurt langer, maar kost minder stroom. De eco-stand is ruim 30 procent zuiniger dan het gewone wasprogramma op 40 of 60 graden.\\n  * Gebruik een energiezuinige wasmachine en droger als je veel wast, zoals met energielabel A tot A+++. Deze machines zijn duurder in aanschaf, maar besparen je later veel geld. De verbruikskosten van deze machines zijn namelijk per keer veel lager dan van minder zuinige machines. Een overzicht van energiezuinige apparaten en hoe je die gebruikt, vind je op de website van Milieu Centraal.\\n  * De meeste wasmiddelen werken heel goed bij lagere temperaturen. Maak er een gewoonte van om zo veel mogelijk op 30° C te wassen.\\n  * Laat lampen niet onnodig branden en vervang gloeilampen en halogeenlampen door ledverlichting. Start met lampen die vaak aan zijn en veel licht geven. Ledlampen zijn tot 90 procent zuiniger dan een vergelijkbare gloeilamp en zijn ook zuiniger dan spaarlampen. De levensduur is ook langer.\\n  * Zet zoveel mogelijk elektrische apparaten echt uit, in plaats van op stand-by. Denk ook aan de opladers van de telefoon, babyfoon en tandenborstel. Laat ze niet ongebruikt in het stopcontact zitten.\\n  * Een waterkoker is meestal zuiniger dan een kokendwaterkraan. Kook niet meer water dan nodig is, dat bespaart geld en energie.\\n  * Ontdooi ingevroren etenswaren in de koelkast en niet in de magnetron. De kou die vrijkomt wordt gebruikt voor de koeling, hierdoor verbruikt de koelkast minder energie.\\n  * Een laptop is zuiniger in het energiegebruik dan een desktopcomputer met lcd-monitor. Het energieverbruik van een tablet is nog weer lager dan dat van een laptop.\\n  * Apparaat vervangen? Let dan op het energielabel. Op de site energielabel.nl/apparaten vind je per apparaat achtergrondinformatie over wat een hoger label oplevert.\\n  * Kies liever voor een ventilator in plaats van airconditioning. Het gebruik van een airconditioner is flink duurder dan een ventilator en dat scheelt al gauw enkele tientjes per jaar.'),\n",
              " Document(metadata={'source': 'https://www.nibud.nl/onderwerpen/uitgaven/kosten-energie-water/', 'title': 'Kosten van energie en water | Nibud', 'description': 'Welke kosten maak je voor het gebruik van energie, water en gas? Vergelijk jezelf met anderen en kijk of en hoe je kunt besparen.', 'language': 'nl-NL'}, page_content='### **Bewuster energie verbruiken**'),\n",
              " Document(metadata={'source': 'https://www.nibud.nl/onderwerpen/uitgaven/kosten-energie-water/', 'title': 'Kosten van energie en water | Nibud', 'description': 'Welke kosten maak je voor het gebruik van energie, water en gas? Vergelijk jezelf met anderen en kijk of en hoe je kunt besparen.', 'language': 'nl-NL'}, page_content='* Wekelijks douchen in plaats van in bad gaan, bespaart jaarlijks per persoon ongeveer € 33.\\n  * Met een waterbesparende douchekop bespaart een gemiddeld huishouden jaarlijks ongeveer € 64.\\n  * Douche je vijf minuten in plaats van gemiddeld acht minuten, dan bespaart een gemiddeld huishouden ongeveer € 70 per jaar.\\n  * Bij zonnig weer kan de was ook buiten drogen.\\n  * De verwarming een graad lager zetten bespaart ongeveer 6 procent op je energierekening voor verwarmen.\\n  * Zet je thermostaat ’s avonds op 15 graden. Als je vloerverwarming hebt, is het beter om de thermostaat ’s nachts maximaal 1 tot 2 graden lager te zetten dan overdag. Anders duurt het opwarmen te lang.\\n  * Gebruik tuinverlichting op zonne-energie.\\n  * In de zomer als het warm is: Sluit overdag ramen en deuren en open deze pas wanneer het buiten koeler is dan binnen.\\n  * Een regenton kan jaarlijks honderden liters water besparen. Staat er voor je (klein)kinderen een zwembadje in de tuin? Dan kun je dat water ook hergebruiken om het gazon te wateren.'),\n",
              " Document(metadata={'source': 'https://www.nibud.nl/onderwerpen/uitgaven/kosten-energie-water/', 'title': 'Kosten van energie en water | Nibud', 'description': 'Welke kosten maak je voor het gebruik van energie, water en gas? Vergelijk jezelf met anderen en kijk of en hoe je kunt besparen.', 'language': 'nl-NL'}, page_content='## Meer over uitgaven\\n\\n  * Huishoudelijke uitgaven \\n\\n  * Besparen \\n\\n  * Verzekeren \\n\\n  * Grip op je abonnementen \\n\\n## Abonneer je op onze nieuwsbrief\\n\\nElke maand het laatste nieuws en handige tips van onze experts. Meer dan\\n80.000 mensen zijn inmiddels abonnee!\\n\\nInschrijven voor nieuwsbrief\\n\\n  * ###  Onderwerpen \\n\\n    * Rondkomen\\n    * Geldproblemen\\n    * Kinderen en jongeren\\n    * Sparen\\n    * Uitgaven\\n    * Pensioen\\n    * Werken\\n    * Inkomensondersteuning\\n    * Wonen\\n    * Uit elkaar\\n\\n  * ###  Direct naar \\n\\n    * Dossiers\\n    * Alle tools en tests\\n    * Informatie voor pers\\n    * Praktijkverhalen\\n    * Onderzoeksrapporten\\n\\n  * ###  Over het Nibud \\n\\n    * Contact met het Nibud\\n    * Over de organisatie\\n    * Samenwerken met het Nibud\\n    * Werken bij het Nibud\\n    * About Nibud\\n\\nOnderwerpen\\n\\n  * Rondkomen\\n  * Geldproblemen\\n  * Kinderen en jongeren\\n  * Sparen\\n  * Uitgaven\\n  * Pensioen\\n  * Werken\\n  * Inkomensondersteuning\\n  * Wonen\\n  * Uit elkaar\\n\\nDirect naar'),\n",
              " Document(metadata={'source': 'https://www.nibud.nl/onderwerpen/uitgaven/kosten-energie-water/', 'title': 'Kosten van energie en water | Nibud', 'description': 'Welke kosten maak je voor het gebruik van energie, water en gas? Vergelijk jezelf met anderen en kijk of en hoe je kunt besparen.', 'language': 'nl-NL'}, page_content='* Dossiers\\n  * Alle tools en tests\\n  * Informatie voor pers\\n  * Praktijkverhalen\\n  * Onderzoeksrapporten\\n\\nOver het Nibud\\n\\n  * Contact met het Nibud\\n  * Over de organisatie\\n  * Samenwerken met het Nibud\\n  * Werken bij het Nibud\\n  * About Nibud\\n\\nHet Nibud is een onafhankelijk voorlichtingsinstituut.  \\nWe doen onderzoek naar en geven voorlichting over de huishoudportemonnee. Het\\nNibud is een stichting zonder winstoogmerk.\\n\\nVolg ons\\n\\n  *   * \\n\\nContact met Nibud\\n\\n(C) Copyright Nibud 2025\\n\\n  * Privacyverklaring\\n  * Cookiebeleid\\n  * Copyrights\\n  * Proclaimer\\n  * Responsible Disclosure\\n  * Digitale toegankelijkheid')]"
            ]
          },
          "metadata": {},
          "execution_count": 35
        }
      ]
    },
    {
      "cell_type": "code",
      "source": [],
      "metadata": {
        "id": "_tmchH_XSM9l"
      },
      "execution_count": null,
      "outputs": []
    }
  ]
}